{
 "cells": [
  {
   "cell_type": "code",
   "execution_count": 278,
   "metadata": {},
   "outputs": [],
   "source": [
    "import numpy as np \n",
    "import pandas as pd \n",
    "import os\n",
    "import datetime\n",
    "import yaml"
   ]
  },
  {
   "cell_type": "code",
   "execution_count": 279,
   "metadata": {},
   "outputs": [],
   "source": [
    "ENV_FILE= \"/Users/EnzoButhiot/Documents/corona/env.yaml\"\n",
    "with open(ENV_FILE) as f: \n",
    "    params= yaml.load(f, Loader=yaml.FullLoader)\n",
    "\n",
    "#Initialisation des chemin vers les fichiers\n",
    "ROOT_DIR= os.path.dirname(os.path.abspath(ENV_FILE))\n",
    "DATA_FILE=os.path.join(#ROOT_DIR,\n",
    "                       params['directories']['processed'],\n",
    "                       params['files']['all_data'])\n",
    "\n",
    "#Lecture du fichier de données\n",
    "epidemie_df =(pd.read_csv(DATA_FILE, parse_dates=[\"Last Update\"])\n",
    "             .assign(day=lambda _df: _df['Last Update'].dt.date)\n",
    "             .drop_duplicates(subset=['Country/Region','Province/State','day'])\n",
    "             [lambda df: df['day'] <= datetime.date(2020, 3, 21)]\n",
    "             )\n"
   ]
  },
  {
   "cell_type": "code",
   "execution_count": 280,
   "metadata": {},
   "outputs": [
    {
     "data": {
      "text/html": [
       "<div>\n",
       "<style scoped>\n",
       "    .dataframe tbody tr th:only-of-type {\n",
       "        vertical-align: middle;\n",
       "    }\n",
       "\n",
       "    .dataframe tbody tr th {\n",
       "        vertical-align: top;\n",
       "    }\n",
       "\n",
       "    .dataframe thead th {\n",
       "        text-align: right;\n",
       "    }\n",
       "</style>\n",
       "<table border=\"1\" class=\"dataframe\">\n",
       "  <thead>\n",
       "    <tr style=\"text-align: right;\">\n",
       "      <th></th>\n",
       "      <th>Province/State</th>\n",
       "      <th>Country/Region</th>\n",
       "      <th>Last Update</th>\n",
       "      <th>Confirmed</th>\n",
       "      <th>Deaths</th>\n",
       "      <th>Recovered</th>\n",
       "      <th>Latitude</th>\n",
       "      <th>Longitude</th>\n",
       "      <th>source</th>\n",
       "      <th>day</th>\n",
       "    </tr>\n",
       "  </thead>\n",
       "  <tbody>\n",
       "    <tr>\n",
       "      <th>0</th>\n",
       "      <td>Liaoning</td>\n",
       "      <td>Mainland China</td>\n",
       "      <td>2020-01-22 17:00:00</td>\n",
       "      <td>2.0</td>\n",
       "      <td>NaN</td>\n",
       "      <td>NaN</td>\n",
       "      <td>41.2956</td>\n",
       "      <td>122.6085</td>\n",
       "      <td>01-22-2020.csv</td>\n",
       "      <td>2020-01-22</td>\n",
       "    </tr>\n",
       "    <tr>\n",
       "      <th>1</th>\n",
       "      <td>Ningxia</td>\n",
       "      <td>Mainland China</td>\n",
       "      <td>2020-01-22 17:00:00</td>\n",
       "      <td>1.0</td>\n",
       "      <td>NaN</td>\n",
       "      <td>NaN</td>\n",
       "      <td>37.2692</td>\n",
       "      <td>106.1655</td>\n",
       "      <td>01-22-2020.csv</td>\n",
       "      <td>2020-01-22</td>\n",
       "    </tr>\n",
       "    <tr>\n",
       "      <th>2</th>\n",
       "      <td>Qinghai</td>\n",
       "      <td>Mainland China</td>\n",
       "      <td>2020-01-22 17:00:00</td>\n",
       "      <td>NaN</td>\n",
       "      <td>NaN</td>\n",
       "      <td>NaN</td>\n",
       "      <td>35.7452</td>\n",
       "      <td>95.9956</td>\n",
       "      <td>01-22-2020.csv</td>\n",
       "      <td>2020-01-22</td>\n",
       "    </tr>\n",
       "    <tr>\n",
       "      <th>3</th>\n",
       "      <td>Shaanxi</td>\n",
       "      <td>Mainland China</td>\n",
       "      <td>2020-01-22 17:00:00</td>\n",
       "      <td>NaN</td>\n",
       "      <td>NaN</td>\n",
       "      <td>NaN</td>\n",
       "      <td>35.1917</td>\n",
       "      <td>108.8701</td>\n",
       "      <td>01-22-2020.csv</td>\n",
       "      <td>2020-01-22</td>\n",
       "    </tr>\n",
       "    <tr>\n",
       "      <th>4</th>\n",
       "      <td>Shandong</td>\n",
       "      <td>Mainland China</td>\n",
       "      <td>2020-01-22 17:00:00</td>\n",
       "      <td>2.0</td>\n",
       "      <td>NaN</td>\n",
       "      <td>NaN</td>\n",
       "      <td>36.3427</td>\n",
       "      <td>118.1498</td>\n",
       "      <td>01-22-2020.csv</td>\n",
       "      <td>2020-01-22</td>\n",
       "    </tr>\n",
       "  </tbody>\n",
       "</table>\n",
       "</div>"
      ],
      "text/plain": [
       "  Province/State  Country/Region         Last Update  Confirmed  Deaths  \\\n",
       "0       Liaoning  Mainland China 2020-01-22 17:00:00        2.0     NaN   \n",
       "1        Ningxia  Mainland China 2020-01-22 17:00:00        1.0     NaN   \n",
       "2        Qinghai  Mainland China 2020-01-22 17:00:00        NaN     NaN   \n",
       "3        Shaanxi  Mainland China 2020-01-22 17:00:00        NaN     NaN   \n",
       "4       Shandong  Mainland China 2020-01-22 17:00:00        2.0     NaN   \n",
       "\n",
       "   Recovered  Latitude  Longitude          source         day  \n",
       "0        NaN   41.2956   122.6085  01-22-2020.csv  2020-01-22  \n",
       "1        NaN   37.2692   106.1655  01-22-2020.csv  2020-01-22  \n",
       "2        NaN   35.7452    95.9956  01-22-2020.csv  2020-01-22  \n",
       "3        NaN   35.1917   108.8701  01-22-2020.csv  2020-01-22  \n",
       "4        NaN   36.3427   118.1498  01-22-2020.csv  2020-01-22  "
      ]
     },
     "execution_count": 280,
     "metadata": {},
     "output_type": "execute_result"
    }
   ],
   "source": [
    "epidemie_df.head()"
   ]
  },
  {
   "cell_type": "code",
   "execution_count": 281,
   "metadata": {},
   "outputs": [],
   "source": [
    "epidemie_df_sir= (epidemie_df\n",
    "                .groupby(['Country/Region','day'])\n",
    "                .agg({'Confirmed':'sum', 'Deaths':'sum','Recovered':'sum'})\n",
    "                .reset_index()\n",
    "                 )"
   ]
  },
  {
   "cell_type": "code",
   "execution_count": 289,
   "metadata": {},
   "outputs": [
    {
     "data": {
      "text/html": [
       "<div>\n",
       "<style scoped>\n",
       "    .dataframe tbody tr th:only-of-type {\n",
       "        vertical-align: middle;\n",
       "    }\n",
       "\n",
       "    .dataframe tbody tr th {\n",
       "        vertical-align: top;\n",
       "    }\n",
       "\n",
       "    .dataframe thead th {\n",
       "        text-align: right;\n",
       "    }\n",
       "</style>\n",
       "<table border=\"1\" class=\"dataframe\">\n",
       "  <thead>\n",
       "    <tr style=\"text-align: right;\">\n",
       "      <th></th>\n",
       "      <th>Country/Region</th>\n",
       "      <th>day</th>\n",
       "      <th>Confirmed</th>\n",
       "      <th>Deaths</th>\n",
       "      <th>Recovered</th>\n",
       "    </tr>\n",
       "  </thead>\n",
       "  <tbody>\n",
       "    <tr>\n",
       "      <th>31</th>\n",
       "      <td>France</td>\n",
       "      <td>2020-03-17</td>\n",
       "      <td>7674.0</td>\n",
       "      <td>148.0</td>\n",
       "      <td>12.0</td>\n",
       "    </tr>\n",
       "    <tr>\n",
       "      <th>32</th>\n",
       "      <td>France</td>\n",
       "      <td>2020-03-18</td>\n",
       "      <td>9046.0</td>\n",
       "      <td>148.0</td>\n",
       "      <td>12.0</td>\n",
       "    </tr>\n",
       "    <tr>\n",
       "      <th>33</th>\n",
       "      <td>France</td>\n",
       "      <td>2020-03-19</td>\n",
       "      <td>10883.0</td>\n",
       "      <td>243.0</td>\n",
       "      <td>12.0</td>\n",
       "    </tr>\n",
       "    <tr>\n",
       "      <th>34</th>\n",
       "      <td>France</td>\n",
       "      <td>2020-03-20</td>\n",
       "      <td>12623.0</td>\n",
       "      <td>450.0</td>\n",
       "      <td>12.0</td>\n",
       "    </tr>\n",
       "    <tr>\n",
       "      <th>35</th>\n",
       "      <td>France</td>\n",
       "      <td>2020-03-21</td>\n",
       "      <td>14301.0</td>\n",
       "      <td>562.0</td>\n",
       "      <td>12.0</td>\n",
       "    </tr>\n",
       "  </tbody>\n",
       "</table>\n",
       "</div>"
      ],
      "text/plain": [
       "   Country/Region         day  Confirmed  Deaths  Recovered\n",
       "31         France  2020-03-17     7674.0   148.0       12.0\n",
       "32         France  2020-03-18     9046.0   148.0       12.0\n",
       "33         France  2020-03-19    10883.0   243.0       12.0\n",
       "34         France  2020-03-20    12623.0   450.0       12.0\n",
       "35         France  2020-03-21    14301.0   562.0       12.0"
      ]
     },
     "execution_count": 289,
     "metadata": {},
     "output_type": "execute_result"
    }
   ],
   "source": [
    "france_df=(epidemie_df[epidemie_df['Country/Region']=='France']\n",
    "        .groupby(['Country/Region','day'])\n",
    "        .agg({'Confirmed':'sum', 'Deaths':'sum','Recovered':'sum'})\n",
    "        .reset_index()\n",
    "          )\n",
    "france_df.tail()"
   ]
  },
  {
   "cell_type": "code",
   "execution_count": 290,
   "metadata": {},
   "outputs": [
    {
     "data": {
      "text/plain": [
       "[<matplotlib.lines.Line2D at 0x12af8d220>]"
      ]
     },
     "execution_count": 290,
     "metadata": {},
     "output_type": "execute_result"
    },
    {
     "data": {
      "image/png": "[encoded data removed]",
      "text/plain": [
       "<Figure size 432x288 with 1 Axes>"
      ]
     },
     "metadata": {
      "needs_background": "light"
     },
     "output_type": "display_data"
    }
   ],
   "source": [
    "france_df['infected'] = france_df['Confirmed'].diff()\n",
    "\n",
    "# Number of infected over time for France\n",
    "plt.plot(france_df.loc[2:]['infected'].reset_index(drop=True).index, france_df.loc[2:]['infected'])"
   ]
  },
  {
   "cell_type": "code",
   "execution_count": 362,
   "metadata": {},
   "outputs": [
    {
     "data": {
      "text/html": [
       "<div>\n",
       "<style scoped>\n",
       "    .dataframe tbody tr th:only-of-type {\n",
       "        vertical-align: middle;\n",
       "    }\n",
       "\n",
       "    .dataframe tbody tr th {\n",
       "        vertical-align: top;\n",
       "    }\n",
       "\n",
       "    .dataframe thead th {\n",
       "        text-align: right;\n",
       "    }\n",
       "</style>\n",
       "<table border=\"1\" class=\"dataframe\">\n",
       "  <thead>\n",
       "    <tr style=\"text-align: right;\">\n",
       "      <th></th>\n",
       "      <th>Country/Region</th>\n",
       "      <th>day</th>\n",
       "      <th>Confirmed</th>\n",
       "      <th>Deaths</th>\n",
       "      <th>Recovered</th>\n",
       "      <th>infected</th>\n",
       "    </tr>\n",
       "  </thead>\n",
       "  <tbody>\n",
       "    <tr>\n",
       "      <th>0</th>\n",
       "      <td>Spain</td>\n",
       "      <td>2020-02-01</td>\n",
       "      <td>1.0</td>\n",
       "      <td>0.0</td>\n",
       "      <td>0.0</td>\n",
       "      <td>NaN</td>\n",
       "    </tr>\n",
       "    <tr>\n",
       "      <th>1</th>\n",
       "      <td>Spain</td>\n",
       "      <td>2020-02-09</td>\n",
       "      <td>2.0</td>\n",
       "      <td>0.0</td>\n",
       "      <td>0.0</td>\n",
       "      <td>1.0</td>\n",
       "    </tr>\n",
       "    <tr>\n",
       "      <th>2</th>\n",
       "      <td>Spain</td>\n",
       "      <td>2020-02-15</td>\n",
       "      <td>2.0</td>\n",
       "      <td>0.0</td>\n",
       "      <td>2.0</td>\n",
       "      <td>0.0</td>\n",
       "    </tr>\n",
       "    <tr>\n",
       "      <th>3</th>\n",
       "      <td>Spain</td>\n",
       "      <td>2020-02-25</td>\n",
       "      <td>6.0</td>\n",
       "      <td>0.0</td>\n",
       "      <td>2.0</td>\n",
       "      <td>4.0</td>\n",
       "    </tr>\n",
       "    <tr>\n",
       "      <th>4</th>\n",
       "      <td>Spain</td>\n",
       "      <td>2020-02-26</td>\n",
       "      <td>13.0</td>\n",
       "      <td>0.0</td>\n",
       "      <td>2.0</td>\n",
       "      <td>7.0</td>\n",
       "    </tr>\n",
       "    <tr>\n",
       "      <th>5</th>\n",
       "      <td>Spain</td>\n",
       "      <td>2020-02-27</td>\n",
       "      <td>15.0</td>\n",
       "      <td>0.0</td>\n",
       "      <td>2.0</td>\n",
       "      <td>2.0</td>\n",
       "    </tr>\n",
       "    <tr>\n",
       "      <th>6</th>\n",
       "      <td>Spain</td>\n",
       "      <td>2020-02-28</td>\n",
       "      <td>32.0</td>\n",
       "      <td>0.0</td>\n",
       "      <td>2.0</td>\n",
       "      <td>17.0</td>\n",
       "    </tr>\n",
       "    <tr>\n",
       "      <th>7</th>\n",
       "      <td>Spain</td>\n",
       "      <td>2020-02-29</td>\n",
       "      <td>45.0</td>\n",
       "      <td>0.0</td>\n",
       "      <td>2.0</td>\n",
       "      <td>13.0</td>\n",
       "    </tr>\n",
       "    <tr>\n",
       "      <th>8</th>\n",
       "      <td>Spain</td>\n",
       "      <td>2020-03-01</td>\n",
       "      <td>84.0</td>\n",
       "      <td>0.0</td>\n",
       "      <td>2.0</td>\n",
       "      <td>39.0</td>\n",
       "    </tr>\n",
       "    <tr>\n",
       "      <th>9</th>\n",
       "      <td>Spain</td>\n",
       "      <td>2020-03-02</td>\n",
       "      <td>120.0</td>\n",
       "      <td>0.0</td>\n",
       "      <td>2.0</td>\n",
       "      <td>36.0</td>\n",
       "    </tr>\n",
       "    <tr>\n",
       "      <th>10</th>\n",
       "      <td>Spain</td>\n",
       "      <td>2020-03-03</td>\n",
       "      <td>165.0</td>\n",
       "      <td>1.0</td>\n",
       "      <td>2.0</td>\n",
       "      <td>45.0</td>\n",
       "    </tr>\n",
       "    <tr>\n",
       "      <th>11</th>\n",
       "      <td>Spain</td>\n",
       "      <td>2020-03-04</td>\n",
       "      <td>222.0</td>\n",
       "      <td>2.0</td>\n",
       "      <td>2.0</td>\n",
       "      <td>57.0</td>\n",
       "    </tr>\n",
       "    <tr>\n",
       "      <th>12</th>\n",
       "      <td>Spain</td>\n",
       "      <td>2020-03-05</td>\n",
       "      <td>259.0</td>\n",
       "      <td>3.0</td>\n",
       "      <td>2.0</td>\n",
       "      <td>37.0</td>\n",
       "    </tr>\n",
       "    <tr>\n",
       "      <th>13</th>\n",
       "      <td>Spain</td>\n",
       "      <td>2020-03-06</td>\n",
       "      <td>400.0</td>\n",
       "      <td>5.0</td>\n",
       "      <td>2.0</td>\n",
       "      <td>141.0</td>\n",
       "    </tr>\n",
       "    <tr>\n",
       "      <th>14</th>\n",
       "      <td>Spain</td>\n",
       "      <td>2020-03-07</td>\n",
       "      <td>500.0</td>\n",
       "      <td>10.0</td>\n",
       "      <td>30.0</td>\n",
       "      <td>100.0</td>\n",
       "    </tr>\n",
       "    <tr>\n",
       "      <th>15</th>\n",
       "      <td>Spain</td>\n",
       "      <td>2020-03-08</td>\n",
       "      <td>673.0</td>\n",
       "      <td>17.0</td>\n",
       "      <td>30.0</td>\n",
       "      <td>173.0</td>\n",
       "    </tr>\n",
       "    <tr>\n",
       "      <th>16</th>\n",
       "      <td>Spain</td>\n",
       "      <td>2020-03-09</td>\n",
       "      <td>1073.0</td>\n",
       "      <td>28.0</td>\n",
       "      <td>32.0</td>\n",
       "      <td>400.0</td>\n",
       "    </tr>\n",
       "    <tr>\n",
       "      <th>17</th>\n",
       "      <td>Spain</td>\n",
       "      <td>2020-03-10</td>\n",
       "      <td>1695.0</td>\n",
       "      <td>35.0</td>\n",
       "      <td>32.0</td>\n",
       "      <td>622.0</td>\n",
       "    </tr>\n",
       "    <tr>\n",
       "      <th>18</th>\n",
       "      <td>Spain</td>\n",
       "      <td>2020-03-11</td>\n",
       "      <td>5232.0</td>\n",
       "      <td>133.0</td>\n",
       "      <td>193.0</td>\n",
       "      <td>3537.0</td>\n",
       "    </tr>\n",
       "    <tr>\n",
       "      <th>19</th>\n",
       "      <td>Spain</td>\n",
       "      <td>2020-03-12</td>\n",
       "      <td>2277.0</td>\n",
       "      <td>55.0</td>\n",
       "      <td>183.0</td>\n",
       "      <td>-2955.0</td>\n",
       "    </tr>\n",
       "    <tr>\n",
       "      <th>20</th>\n",
       "      <td>Spain</td>\n",
       "      <td>2020-03-14</td>\n",
       "      <td>6391.0</td>\n",
       "      <td>195.0</td>\n",
       "      <td>517.0</td>\n",
       "      <td>4114.0</td>\n",
       "    </tr>\n",
       "    <tr>\n",
       "      <th>21</th>\n",
       "      <td>Spain</td>\n",
       "      <td>2020-03-15</td>\n",
       "      <td>7798.0</td>\n",
       "      <td>289.0</td>\n",
       "      <td>517.0</td>\n",
       "      <td>1407.0</td>\n",
       "    </tr>\n",
       "    <tr>\n",
       "      <th>22</th>\n",
       "      <td>Spain</td>\n",
       "      <td>2020-03-16</td>\n",
       "      <td>9942.0</td>\n",
       "      <td>342.0</td>\n",
       "      <td>530.0</td>\n",
       "      <td>2144.0</td>\n",
       "    </tr>\n",
       "    <tr>\n",
       "      <th>23</th>\n",
       "      <td>Spain</td>\n",
       "      <td>2020-03-17</td>\n",
       "      <td>11748.0</td>\n",
       "      <td>533.0</td>\n",
       "      <td>1028.0</td>\n",
       "      <td>1806.0</td>\n",
       "    </tr>\n",
       "    <tr>\n",
       "      <th>24</th>\n",
       "      <td>Spain</td>\n",
       "      <td>2020-03-18</td>\n",
       "      <td>13910.0</td>\n",
       "      <td>623.0</td>\n",
       "      <td>1081.0</td>\n",
       "      <td>2162.0</td>\n",
       "    </tr>\n",
       "    <tr>\n",
       "      <th>25</th>\n",
       "      <td>Spain</td>\n",
       "      <td>2020-03-19</td>\n",
       "      <td>17963.0</td>\n",
       "      <td>830.0</td>\n",
       "      <td>1107.0</td>\n",
       "      <td>4053.0</td>\n",
       "    </tr>\n",
       "    <tr>\n",
       "      <th>26</th>\n",
       "      <td>Spain</td>\n",
       "      <td>2020-03-20</td>\n",
       "      <td>20410.0</td>\n",
       "      <td>1043.0</td>\n",
       "      <td>1588.0</td>\n",
       "      <td>2447.0</td>\n",
       "    </tr>\n",
       "    <tr>\n",
       "      <th>27</th>\n",
       "      <td>Spain</td>\n",
       "      <td>2020-03-21</td>\n",
       "      <td>25374.0</td>\n",
       "      <td>1375.0</td>\n",
       "      <td>2125.0</td>\n",
       "      <td>4964.0</td>\n",
       "    </tr>\n",
       "  </tbody>\n",
       "</table>\n",
       "</div>"
      ],
      "text/plain": [
       "   Country/Region         day  Confirmed  Deaths  Recovered  infected\n",
       "0           Spain  2020-02-01        1.0     0.0        0.0       NaN\n",
       "1           Spain  2020-02-09        2.0     0.0        0.0       1.0\n",
       "2           Spain  2020-02-15        2.0     0.0        2.0       0.0\n",
       "3           Spain  2020-02-25        6.0     0.0        2.0       4.0\n",
       "4           Spain  2020-02-26       13.0     0.0        2.0       7.0\n",
       "5           Spain  2020-02-27       15.0     0.0        2.0       2.0\n",
       "6           Spain  2020-02-28       32.0     0.0        2.0      17.0\n",
       "7           Spain  2020-02-29       45.0     0.0        2.0      13.0\n",
       "8           Spain  2020-03-01       84.0     0.0        2.0      39.0\n",
       "9           Spain  2020-03-02      120.0     0.0        2.0      36.0\n",
       "10          Spain  2020-03-03      165.0     1.0        2.0      45.0\n",
       "11          Spain  2020-03-04      222.0     2.0        2.0      57.0\n",
       "12          Spain  2020-03-05      259.0     3.0        2.0      37.0\n",
       "13          Spain  2020-03-06      400.0     5.0        2.0     141.0\n",
       "14          Spain  2020-03-07      500.0    10.0       30.0     100.0\n",
       "15          Spain  2020-03-08      673.0    17.0       30.0     173.0\n",
       "16          Spain  2020-03-09     1073.0    28.0       32.0     400.0\n",
       "17          Spain  2020-03-10     1695.0    35.0       32.0     622.0\n",
       "18          Spain  2020-03-11     5232.0   133.0      193.0    3537.0\n",
       "19          Spain  2020-03-12     2277.0    55.0      183.0   -2955.0\n",
       "20          Spain  2020-03-14     6391.0   195.0      517.0    4114.0\n",
       "21          Spain  2020-03-15     7798.0   289.0      517.0    1407.0\n",
       "22          Spain  2020-03-16     9942.0   342.0      530.0    2144.0\n",
       "23          Spain  2020-03-17    11748.0   533.0     1028.0    1806.0\n",
       "24          Spain  2020-03-18    13910.0   623.0     1081.0    2162.0\n",
       "25          Spain  2020-03-19    17963.0   830.0     1107.0    4053.0\n",
       "26          Spain  2020-03-20    20410.0  1043.0     1588.0    2447.0\n",
       "27          Spain  2020-03-21    25374.0  1375.0     2125.0    4964.0"
      ]
     },
     "execution_count": 362,
     "metadata": {},
     "output_type": "execute_result"
    }
   ],
   "source": [
    "spain_df=(epidemie_df[epidemie_df['Country/Region']=='Spain']\n",
    "        .groupby(['Country/Region','day'])\n",
    "        .agg({'Confirmed':'sum', 'Deaths':'sum','Recovered':'sum'})\n",
    "        .reset_index()\n",
    "          )\n",
    "\n",
    "spain_df['infected'] = spain_df['Confirmed'].diff()\n",
    "\n",
    "spain_df # On voit qu'on a des valeurs négatives pour infected"
   ]
  },
  {
   "cell_type": "code",
   "execution_count": 294,
   "metadata": {},
   "outputs": [
    {
     "data": {
      "text/plain": [
       "[<matplotlib.lines.Line2D at 0x12b127760>]"
      ]
     },
     "execution_count": 294,
     "metadata": {},
     "output_type": "execute_result"
    },
    {
     "data": {
      "image/png": "[encoded data removed]",
      "text/plain": [
       "<Figure size 432x288 with 1 Axes>"
      ]
     },
     "metadata": {
      "needs_background": "light"
     },
     "output_type": "display_data"
    }
   ],
   "source": [
    "# Nombre d'infectés dans le temps pour l'Espagne, on voit qu'on a des valeurs négatives\n",
    "plt.plot(spain_df.loc[2:][\"infected\"].reset_index(drop=True).index, spain_df.loc[2:][\"infected\"])"
   ]
  },
  {
   "cell_type": "code",
   "execution_count": 295,
   "metadata": {},
   "outputs": [
    {
     "data": {
      "text/plain": [
       "0        NaN\n",
       "1        1.0\n",
       "2        0.0\n",
       "3        0.0\n",
       "4        1.0\n",
       "5        1.0\n",
       "6        0.0\n",
       "7        0.0\n",
       "8        1.0\n",
       "9        5.0\n",
       "10       0.0\n",
       "11       1.0\n",
       "12       2.0\n",
       "13       4.0\n",
       "14      20.0\n",
       "15      19.0\n",
       "16      43.0\n",
       "17      30.0\n",
       "18      61.0\n",
       "19      13.0\n",
       "20      81.0\n",
       "21      92.0\n",
       "22     276.0\n",
       "23     296.0\n",
       "24     177.0\n",
       "25      83.0\n",
       "26     575.0\n",
       "27    1883.0\n",
       "28     814.0\n",
       "29      28.0\n",
       "30    2136.0\n",
       "31    1029.0\n",
       "32    1372.0\n",
       "33    1837.0\n",
       "34    1740.0\n",
       "35    1678.0\n",
       "Name: Confirmed, dtype: float64"
      ]
     },
     "execution_count": 295,
     "metadata": {},
     "output_type": "execute_result"
    }
   ],
   "source": [
    "france_df['Confirmed'].diff()\n",
    "\n",
    "# Fait la différence entre les lignes"
   ]
  },
  {
   "cell_type": "code",
   "execution_count": 296,
   "metadata": {},
   "outputs": [],
   "source": [
    "def get_country(self, country):\n",
    "    return (epidemie_df[epidemie_df['Country/Region']==country]\n",
    "        .groupby(['Country/Region','day'])\n",
    "        .agg({'Confirmed':'sum', 'Deaths':'sum','Recovered':'sum'})\n",
    "        .reset_index()\n",
    "        )\n",
    "\n",
    "# Monkey Patch pd.DataFrame\n",
    "pd.DataFrame.get_country = get_country"
   ]
  },
  {
   "cell_type": "code",
   "execution_count": 297,
   "metadata": {},
   "outputs": [
    {
     "data": {
      "text/html": [
       "<div>\n",
       "<style scoped>\n",
       "    .dataframe tbody tr th:only-of-type {\n",
       "        vertical-align: middle;\n",
       "    }\n",
       "\n",
       "    .dataframe tbody tr th {\n",
       "        vertical-align: top;\n",
       "    }\n",
       "\n",
       "    .dataframe thead th {\n",
       "        text-align: right;\n",
       "    }\n",
       "</style>\n",
       "<table border=\"1\" class=\"dataframe\">\n",
       "  <thead>\n",
       "    <tr style=\"text-align: right;\">\n",
       "      <th></th>\n",
       "      <th>Country/Region</th>\n",
       "      <th>day</th>\n",
       "      <th>Confirmed</th>\n",
       "      <th>Deaths</th>\n",
       "      <th>Recovered</th>\n",
       "    </tr>\n",
       "  </thead>\n",
       "  <tbody>\n",
       "    <tr>\n",
       "      <th>0</th>\n",
       "      <td>South Korea</td>\n",
       "      <td>2020-01-22</td>\n",
       "      <td>1.0</td>\n",
       "      <td>0.0</td>\n",
       "      <td>0.0</td>\n",
       "    </tr>\n",
       "    <tr>\n",
       "      <th>1</th>\n",
       "      <td>South Korea</td>\n",
       "      <td>2020-01-23</td>\n",
       "      <td>1.0</td>\n",
       "      <td>0.0</td>\n",
       "      <td>0.0</td>\n",
       "    </tr>\n",
       "    <tr>\n",
       "      <th>2</th>\n",
       "      <td>South Korea</td>\n",
       "      <td>2020-01-24</td>\n",
       "      <td>2.0</td>\n",
       "      <td>0.0</td>\n",
       "      <td>0.0</td>\n",
       "    </tr>\n",
       "    <tr>\n",
       "      <th>3</th>\n",
       "      <td>South Korea</td>\n",
       "      <td>2020-01-25</td>\n",
       "      <td>2.0</td>\n",
       "      <td>0.0</td>\n",
       "      <td>0.0</td>\n",
       "    </tr>\n",
       "    <tr>\n",
       "      <th>4</th>\n",
       "      <td>South Korea</td>\n",
       "      <td>2020-01-26</td>\n",
       "      <td>3.0</td>\n",
       "      <td>0.0</td>\n",
       "      <td>0.0</td>\n",
       "    </tr>\n",
       "  </tbody>\n",
       "</table>\n",
       "</div>"
      ],
      "text/plain": [
       "  Country/Region         day  Confirmed  Deaths  Recovered\n",
       "0    South Korea  2020-01-22        1.0     0.0        0.0\n",
       "1    South Korea  2020-01-23        1.0     0.0        0.0\n",
       "2    South Korea  2020-01-24        2.0     0.0        0.0\n",
       "3    South Korea  2020-01-25        2.0     0.0        0.0\n",
       "4    South Korea  2020-01-26        3.0     0.0        0.0"
      ]
     },
     "execution_count": 297,
     "metadata": {},
     "output_type": "execute_result"
    }
   ],
   "source": [
    "get_country(epidemie_df, 'South Korea').head()"
   ]
  },
  {
   "cell_type": "code",
   "execution_count": 298,
   "metadata": {},
   "outputs": [
    {
     "data": {
      "text/html": [
       "<div>\n",
       "<style scoped>\n",
       "    .dataframe tbody tr th:only-of-type {\n",
       "        vertical-align: middle;\n",
       "    }\n",
       "\n",
       "    .dataframe tbody tr th {\n",
       "        vertical-align: top;\n",
       "    }\n",
       "\n",
       "    .dataframe thead th {\n",
       "        text-align: right;\n",
       "    }\n",
       "</style>\n",
       "<table border=\"1\" class=\"dataframe\">\n",
       "  <thead>\n",
       "    <tr style=\"text-align: right;\">\n",
       "      <th></th>\n",
       "      <th>Country/Region</th>\n",
       "      <th>day</th>\n",
       "      <th>Confirmed</th>\n",
       "      <th>Deaths</th>\n",
       "      <th>Recovered</th>\n",
       "    </tr>\n",
       "  </thead>\n",
       "  <tbody>\n",
       "    <tr>\n",
       "      <th>0</th>\n",
       "      <td>Italy</td>\n",
       "      <td>2020-01-31</td>\n",
       "      <td>2.0</td>\n",
       "      <td>0.0</td>\n",
       "      <td>0.0</td>\n",
       "    </tr>\n",
       "    <tr>\n",
       "      <th>1</th>\n",
       "      <td>Italy</td>\n",
       "      <td>2020-02-07</td>\n",
       "      <td>3.0</td>\n",
       "      <td>0.0</td>\n",
       "      <td>0.0</td>\n",
       "    </tr>\n",
       "    <tr>\n",
       "      <th>2</th>\n",
       "      <td>Italy</td>\n",
       "      <td>2020-02-21</td>\n",
       "      <td>20.0</td>\n",
       "      <td>1.0</td>\n",
       "      <td>0.0</td>\n",
       "    </tr>\n",
       "    <tr>\n",
       "      <th>3</th>\n",
       "      <td>Italy</td>\n",
       "      <td>2020-02-22</td>\n",
       "      <td>62.0</td>\n",
       "      <td>2.0</td>\n",
       "      <td>1.0</td>\n",
       "    </tr>\n",
       "    <tr>\n",
       "      <th>4</th>\n",
       "      <td>Italy</td>\n",
       "      <td>2020-02-23</td>\n",
       "      <td>155.0</td>\n",
       "      <td>3.0</td>\n",
       "      <td>2.0</td>\n",
       "    </tr>\n",
       "  </tbody>\n",
       "</table>\n",
       "</div>"
      ],
      "text/plain": [
       "  Country/Region         day  Confirmed  Deaths  Recovered\n",
       "0          Italy  2020-01-31        2.0     0.0        0.0\n",
       "1          Italy  2020-02-07        3.0     0.0        0.0\n",
       "2          Italy  2020-02-21       20.0     1.0        0.0\n",
       "3          Italy  2020-02-22       62.0     2.0        1.0\n",
       "4          Italy  2020-02-23      155.0     3.0        2.0"
      ]
     },
     "execution_count": 298,
     "metadata": {},
     "output_type": "execute_result"
    }
   ],
   "source": [
    "italy_df = epidemie_df.get_country('Italy')\n",
    "italy_df.head()"
   ]
  },
  {
   "cell_type": "code",
   "execution_count": 299,
   "metadata": {},
   "outputs": [],
   "source": [
    "# epidemie_df.get_country('Mainland China').head()"
   ]
  },
  {
   "cell_type": "code",
   "execution_count": 300,
   "metadata": {},
   "outputs": [
    {
     "data": {
      "text/html": [
       "<div>\n",
       "<style scoped>\n",
       "    .dataframe tbody tr th:only-of-type {\n",
       "        vertical-align: middle;\n",
       "    }\n",
       "\n",
       "    .dataframe tbody tr th {\n",
       "        vertical-align: top;\n",
       "    }\n",
       "\n",
       "    .dataframe thead th {\n",
       "        text-align: right;\n",
       "    }\n",
       "</style>\n",
       "<table border=\"1\" class=\"dataframe\">\n",
       "  <thead>\n",
       "    <tr style=\"text-align: right;\">\n",
       "      <th></th>\n",
       "      <th>Country/Region</th>\n",
       "      <th>day</th>\n",
       "      <th>Confirmed</th>\n",
       "      <th>Deaths</th>\n",
       "      <th>Recovered</th>\n",
       "    </tr>\n",
       "  </thead>\n",
       "  <tbody>\n",
       "    <tr>\n",
       "      <th>0</th>\n",
       "      <td>South Korea</td>\n",
       "      <td>2020-01-22</td>\n",
       "      <td>1.0</td>\n",
       "      <td>0.0</td>\n",
       "      <td>0.0</td>\n",
       "    </tr>\n",
       "    <tr>\n",
       "      <th>1</th>\n",
       "      <td>South Korea</td>\n",
       "      <td>2020-01-23</td>\n",
       "      <td>1.0</td>\n",
       "      <td>0.0</td>\n",
       "      <td>0.0</td>\n",
       "    </tr>\n",
       "    <tr>\n",
       "      <th>2</th>\n",
       "      <td>South Korea</td>\n",
       "      <td>2020-01-24</td>\n",
       "      <td>2.0</td>\n",
       "      <td>0.0</td>\n",
       "      <td>0.0</td>\n",
       "    </tr>\n",
       "    <tr>\n",
       "      <th>3</th>\n",
       "      <td>South Korea</td>\n",
       "      <td>2020-01-25</td>\n",
       "      <td>2.0</td>\n",
       "      <td>0.0</td>\n",
       "      <td>0.0</td>\n",
       "    </tr>\n",
       "    <tr>\n",
       "      <th>4</th>\n",
       "      <td>South Korea</td>\n",
       "      <td>2020-01-26</td>\n",
       "      <td>3.0</td>\n",
       "      <td>0.0</td>\n",
       "      <td>0.0</td>\n",
       "    </tr>\n",
       "  </tbody>\n",
       "</table>\n",
       "</div>"
      ],
      "text/plain": [
       "  Country/Region         day  Confirmed  Deaths  Recovered\n",
       "0    South Korea  2020-01-22        1.0     0.0        0.0\n",
       "1    South Korea  2020-01-23        1.0     0.0        0.0\n",
       "2    South Korea  2020-01-24        2.0     0.0        0.0\n",
       "3    South Korea  2020-01-25        2.0     0.0        0.0\n",
       "4    South Korea  2020-01-26        3.0     0.0        0.0"
      ]
     },
     "execution_count": 300,
     "metadata": {},
     "output_type": "execute_result"
    }
   ],
   "source": [
    "epidemie_df.get_country('South Korea').head()"
   ]
  },
  {
   "cell_type": "code",
   "execution_count": 301,
   "metadata": {},
   "outputs": [
    {
     "data": {
      "text/html": [
       "<div>\n",
       "<style scoped>\n",
       "    .dataframe tbody tr th:only-of-type {\n",
       "        vertical-align: middle;\n",
       "    }\n",
       "\n",
       "    .dataframe tbody tr th {\n",
       "        vertical-align: top;\n",
       "    }\n",
       "\n",
       "    .dataframe thead th {\n",
       "        text-align: right;\n",
       "    }\n",
       "</style>\n",
       "<table border=\"1\" class=\"dataframe\">\n",
       "  <thead>\n",
       "    <tr style=\"text-align: right;\">\n",
       "      <th></th>\n",
       "      <th>Country/Region</th>\n",
       "      <th>day</th>\n",
       "      <th>Confirmed</th>\n",
       "      <th>Deaths</th>\n",
       "      <th>Recovered</th>\n",
       "    </tr>\n",
       "  </thead>\n",
       "  <tbody>\n",
       "    <tr>\n",
       "      <th>38</th>\n",
       "      <td>South Korea</td>\n",
       "      <td>2020-03-05</td>\n",
       "      <td>6088.0</td>\n",
       "      <td>35.0</td>\n",
       "      <td>41.0</td>\n",
       "    </tr>\n",
       "    <tr>\n",
       "      <th>39</th>\n",
       "      <td>South Korea</td>\n",
       "      <td>2020-03-06</td>\n",
       "      <td>6593.0</td>\n",
       "      <td>42.0</td>\n",
       "      <td>135.0</td>\n",
       "    </tr>\n",
       "    <tr>\n",
       "      <th>40</th>\n",
       "      <td>South Korea</td>\n",
       "      <td>2020-03-07</td>\n",
       "      <td>7041.0</td>\n",
       "      <td>44.0</td>\n",
       "      <td>135.0</td>\n",
       "    </tr>\n",
       "    <tr>\n",
       "      <th>41</th>\n",
       "      <td>South Korea</td>\n",
       "      <td>2020-03-08</td>\n",
       "      <td>7314.0</td>\n",
       "      <td>50.0</td>\n",
       "      <td>118.0</td>\n",
       "    </tr>\n",
       "    <tr>\n",
       "      <th>42</th>\n",
       "      <td>South Korea</td>\n",
       "      <td>2020-03-09</td>\n",
       "      <td>7478.0</td>\n",
       "      <td>53.0</td>\n",
       "      <td>118.0</td>\n",
       "    </tr>\n",
       "  </tbody>\n",
       "</table>\n",
       "</div>"
      ],
      "text/plain": [
       "   Country/Region         day  Confirmed  Deaths  Recovered\n",
       "38    South Korea  2020-03-05     6088.0    35.0       41.0\n",
       "39    South Korea  2020-03-06     6593.0    42.0      135.0\n",
       "40    South Korea  2020-03-07     7041.0    44.0      135.0\n",
       "41    South Korea  2020-03-08     7314.0    50.0      118.0\n",
       "42    South Korea  2020-03-09     7478.0    53.0      118.0"
      ]
     },
     "execution_count": 301,
     "metadata": {},
     "output_type": "execute_result"
    }
   ],
   "source": [
    "korea_df =(epidemie_df[epidemie_df['Country/Region']=='South Korea']\n",
    "        .groupby(['Country/Region','day'])\n",
    "        .agg({'Confirmed':'sum', 'Deaths':'sum','Recovered':'sum'})\n",
    "        .reset_index()\n",
    "          )\n",
    "korea_df.tail()"
   ]
  },
  {
   "cell_type": "code",
   "execution_count": 302,
   "metadata": {},
   "outputs": [],
   "source": [
    "korea_df['infected']= korea_df['Confirmed'].diff()\n",
    "italy_df['infected']= italy_df['Confirmed'].diff()"
   ]
  },
  {
   "cell_type": "code",
   "execution_count": 303,
   "metadata": {},
   "outputs": [
    {
     "data": {
      "text/plain": [
       "[<matplotlib.lines.Line2D at 0x12b1dadc0>]"
      ]
     },
     "execution_count": 303,
     "metadata": {},
     "output_type": "execute_result"
    },
    {
     "data": {
      "image/png": "[encoded data removed]",
      "text/plain": [
       "<Figure size 432x288 with 1 Axes>"
      ]
     },
     "metadata": {
      "needs_background": "light"
     },
     "output_type": "display_data"
    }
   ],
   "source": [
    "# Number of infected over time for Italy\n",
    "\n",
    "plt.plot(italy_df.loc[2:]['infected'].reset_index(drop=True).index, italy_df.loc[2:]['infected'])"
   ]
  },
  {
   "cell_type": "code",
   "execution_count": 304,
   "metadata": {},
   "outputs": [
    {
     "data": {
      "image/png": "[encoded data removed]",
      "text/plain": [
       "<Figure size 864x360 with 1 Axes>"
      ]
     },
     "metadata": {
      "needs_background": "light"
     },
     "output_type": "display_data"
    }
   ],
   "source": [
    "import matplotlib.pyplot as plt \n",
    "%matplotlib inline\n",
    "\n",
    "fig=plt.figure(figsize=(12,5))\n",
    "plt.plot(korea_df['day'], korea_df['Confirmed'], label=\"S.Korea confirmed\")\n",
    "plt.plot(korea_df['day'], korea_df['infected'], label='S.Korea infected')\n",
    "plt.plot(italy_df['day'], italy_df['Confirmed'], label=\"Italy confirmed\")\n",
    "plt.plot(italy_df['day'], italy_df['infected'], label=\"Italy infected\")\n",
    "plt.grid(True)\n",
    "plt.legend()\n",
    "plt.show()"
   ]
  },
  {
   "cell_type": "code",
   "execution_count": 305,
   "metadata": {},
   "outputs": [],
   "source": [
    "beta, gamma = [0.01, 0.1]\n",
    "\n",
    "def SIR(t, y):\n",
    "    S=y[0]\n",
    "    I=y[1]\n",
    "    R=y[2]\n",
    "    return([-beta*S*I, beta*S*I-gamma*I, gamma*I])\n"
   ]
  },
  {
   "cell_type": "code",
   "execution_count": 306,
   "metadata": {},
   "outputs": [
    {
     "data": {
      "text/html": [
       "<div>\n",
       "<style scoped>\n",
       "    .dataframe tbody tr th:only-of-type {\n",
       "        vertical-align: middle;\n",
       "    }\n",
       "\n",
       "    .dataframe tbody tr th {\n",
       "        vertical-align: top;\n",
       "    }\n",
       "\n",
       "    .dataframe thead th {\n",
       "        text-align: right;\n",
       "    }\n",
       "</style>\n",
       "<table border=\"1\" class=\"dataframe\">\n",
       "  <thead>\n",
       "    <tr style=\"text-align: right;\">\n",
       "      <th></th>\n",
       "      <th>Country/Region</th>\n",
       "      <th>day</th>\n",
       "      <th>Confirmed</th>\n",
       "      <th>Deaths</th>\n",
       "      <th>Recovered</th>\n",
       "      <th>infected</th>\n",
       "    </tr>\n",
       "  </thead>\n",
       "  <tbody>\n",
       "    <tr>\n",
       "      <th>2</th>\n",
       "      <td>South Korea</td>\n",
       "      <td>2020-01-24</td>\n",
       "      <td>2.0</td>\n",
       "      <td>0.0</td>\n",
       "      <td>0.0</td>\n",
       "      <td>1.0</td>\n",
       "    </tr>\n",
       "    <tr>\n",
       "      <th>3</th>\n",
       "      <td>South Korea</td>\n",
       "      <td>2020-01-25</td>\n",
       "      <td>2.0</td>\n",
       "      <td>0.0</td>\n",
       "      <td>0.0</td>\n",
       "      <td>0.0</td>\n",
       "    </tr>\n",
       "    <tr>\n",
       "      <th>4</th>\n",
       "      <td>South Korea</td>\n",
       "      <td>2020-01-26</td>\n",
       "      <td>3.0</td>\n",
       "      <td>0.0</td>\n",
       "      <td>0.0</td>\n",
       "      <td>1.0</td>\n",
       "    </tr>\n",
       "    <tr>\n",
       "      <th>5</th>\n",
       "      <td>South Korea</td>\n",
       "      <td>2020-01-27</td>\n",
       "      <td>4.0</td>\n",
       "      <td>0.0</td>\n",
       "      <td>0.0</td>\n",
       "      <td>1.0</td>\n",
       "    </tr>\n",
       "    <tr>\n",
       "      <th>6</th>\n",
       "      <td>South Korea</td>\n",
       "      <td>2020-01-28</td>\n",
       "      <td>4.0</td>\n",
       "      <td>0.0</td>\n",
       "      <td>0.0</td>\n",
       "      <td>0.0</td>\n",
       "    </tr>\n",
       "  </tbody>\n",
       "</table>\n",
       "</div>"
      ],
      "text/plain": [
       "  Country/Region         day  Confirmed  Deaths  Recovered  infected\n",
       "2    South Korea  2020-01-24        2.0     0.0        0.0       1.0\n",
       "3    South Korea  2020-01-25        2.0     0.0        0.0       0.0\n",
       "4    South Korea  2020-01-26        3.0     0.0        0.0       1.0\n",
       "5    South Korea  2020-01-27        4.0     0.0        0.0       1.0\n",
       "6    South Korea  2020-01-28        4.0     0.0        0.0       0.0"
      ]
     },
     "execution_count": 306,
     "metadata": {},
     "output_type": "execute_result"
    }
   ],
   "source": [
    "korea_df.loc[2:].head() "
   ]
  },
  {
   "cell_type": "code",
   "execution_count": 365,
   "metadata": {},
   "outputs": [],
   "source": [
    "from scipy.integrate import solve_ivp\n",
    "\n",
    "beta, gamma = [0.01, 0.1]\n",
    "solution_korea = solve_ivp(SIR, [0, 40], [51_470_000*0.0001, 1, 0], t_eval=np.arange(0, 40, 1))\n",
    "\n",
    "# On multiplie la population par 0.0001 car le solveur met beaucoup trop de temps sinon\n",
    "\n",
    "solution_italy = solve_ivp(SIR, [0, 40], [66_000_000*0.0001, 1, 0], t_eval=np.arange(0, 40, 1))"
   ]
  },
  {
   "cell_type": "code",
   "execution_count": 366,
   "metadata": {},
   "outputs": [
    {
     "data": {
      "text/plain": [
       "  message: 'The solver successfully reached the end of the integration interval.'\n",
       "     nfev: 1364\n",
       "     njev: 0\n",
       "      nlu: 0\n",
       "      sol: None\n",
       "   status: 0\n",
       "  success: True\n",
       "        t: array([ 0,  1,  2,  3,  4,  5,  6,  7,  8,  9, 10, 11, 12, 13, 14, 15, 16,\n",
       "       17, 18, 19, 20, 21, 22, 23, 24, 25, 26, 27, 28, 29, 30, 31, 32, 33,\n",
       "       34, 35, 36, 37, 38, 39])\n",
       " t_events: None\n",
       "        y: array([[ 6.60000000e+03,  2.50986072e-07,  6.05069433e-07,\n",
       "         6.10721657e-07,  1.14336543e-07,  1.87901721e-06,\n",
       "         7.79514212e-08, -3.10120337e-07,  4.43486669e-07,\n",
       "        -4.23163706e-07, -3.49680564e-07,  8.04338943e-08,\n",
       "         1.22258093e-07, -2.72891941e-07,  3.01648586e-07,\n",
       "        -5.41101081e-07,  1.69219999e-07,  1.15086480e-07,\n",
       "         5.20221952e-07, -9.60960396e-07, -4.74943597e-09,\n",
       "         6.20729957e-07,  4.11156652e-07, -6.47841866e-07,\n",
       "         7.18258379e-07,  6.17172026e-07, -2.58233066e-07,\n",
       "         1.15618574e-06,  3.60838220e-07, -1.97104617e-07,\n",
       "        -2.23215614e-07, -5.08300672e-07, -3.85650247e-07,\n",
       "         7.67314409e-07,  2.70581560e-07, -1.63158829e-07,\n",
       "         2.37993788e-07, -6.18502620e-08,  1.21926098e-07,\n",
       "        -6.83112047e-08],\n",
       "       [ 5.00000000e-01,  6.05898121e+03,  5.48239291e+03,\n",
       "         4.96067425e+03,  4.48860368e+03,  4.06145656e+03,\n",
       "         3.67495787e+03,  3.32523939e+03,  3.00880102e+03,\n",
       "         2.72247575e+03,  2.46339793e+03,  2.22897462e+03,\n",
       "         2.01685964e+03,  1.82493007e+03,  1.65126501e+03,\n",
       "         1.49412637e+03,  1.35194145e+03,  1.22328721e+03,\n",
       "         1.10687604e+03,  1.00154286e+03,  9.06233453e+02,\n",
       "         8.19993937e+02,  7.41961197e+02,  6.71354255e+02,\n",
       "         6.07466449e+02,  5.49658374e+02,  4.97351464e+02,\n",
       "         4.50022214e+02,  4.07196938e+02,  3.68447027e+02,\n",
       "         3.33384656e+02,  3.01658910e+02,  2.72952268e+02,\n",
       "         2.46977428e+02,  2.23474418e+02,  2.02208011e+02,\n",
       "         1.82965378e+02,  1.65553912e+02,  1.49799376e+02,\n",
       "         1.35544059e+02],\n",
       "       [ 5.00000000e-01,  5.42018791e+02,  1.11860709e+03,\n",
       "         1.64032575e+03,  2.11239632e+03,  2.53954344e+03,\n",
       "         2.92604213e+03,  3.27576061e+03,  3.59219898e+03,\n",
       "         3.87852425e+03,  4.13760207e+03,  4.37202538e+03,\n",
       "         4.58414036e+03,  4.77606993e+03,  4.94973499e+03,\n",
       "         5.10687363e+03,  5.24905855e+03,  5.37771279e+03,\n",
       "         5.49412396e+03,  5.59945714e+03,  5.69476655e+03,\n",
       "         5.78100606e+03,  5.85903880e+03,  5.92964575e+03,\n",
       "         5.99353355e+03,  6.05134163e+03,  6.10364854e+03,\n",
       "         6.15097779e+03,  6.19380306e+03,  6.23255297e+03,\n",
       "         6.26761534e+03,  6.29934109e+03,  6.32804773e+03,\n",
       "         6.35402257e+03,  6.37752558e+03,  6.39879199e+03,\n",
       "         6.41803462e+03,  6.43544609e+03,  6.45120062e+03,\n",
       "         6.46545594e+03]])\n",
       " y_events: None"
      ]
     },
     "execution_count": 366,
     "metadata": {},
     "output_type": "execute_result"
    }
   ],
   "source": [
    "#solution_korea\n",
    "solution_italy"
   ]
  },
  {
   "cell_type": "code",
   "execution_count": 367,
   "metadata": {},
   "outputs": [
    {
     "data": {
      "text/html": [
       "<div>\n",
       "<style scoped>\n",
       "    .dataframe tbody tr th:only-of-type {\n",
       "        vertical-align: middle;\n",
       "    }\n",
       "\n",
       "    .dataframe tbody tr th {\n",
       "        vertical-align: top;\n",
       "    }\n",
       "\n",
       "    .dataframe thead th {\n",
       "        text-align: right;\n",
       "    }\n",
       "</style>\n",
       "<table border=\"1\" class=\"dataframe\">\n",
       "  <thead>\n",
       "    <tr style=\"text-align: right;\">\n",
       "      <th></th>\n",
       "      <th>Time</th>\n",
       "      <th>Susceptible</th>\n",
       "      <th>Infected</th>\n",
       "      <th>Recovered</th>\n",
       "    </tr>\n",
       "  </thead>\n",
       "  <tbody>\n",
       "    <tr>\n",
       "      <th>0</th>\n",
       "      <td>0.0</td>\n",
       "      <td>5.147000e+03</td>\n",
       "      <td>0.500000</td>\n",
       "      <td>0.500000</td>\n",
       "    </tr>\n",
       "    <tr>\n",
       "      <th>1</th>\n",
       "      <td>1.0</td>\n",
       "      <td>-6.562058e-07</td>\n",
       "      <td>4742.175021</td>\n",
       "      <td>405.824980</td>\n",
       "    </tr>\n",
       "    <tr>\n",
       "      <th>2</th>\n",
       "      <td>2.0</td>\n",
       "      <td>1.541960e-06</td>\n",
       "      <td>4290.897399</td>\n",
       "      <td>857.102599</td>\n",
       "    </tr>\n",
       "    <tr>\n",
       "      <th>3</th>\n",
       "      <td>3.0</td>\n",
       "      <td>-2.994914e-07</td>\n",
       "      <td>3882.564526</td>\n",
       "      <td>1265.435475</td>\n",
       "    </tr>\n",
       "    <tr>\n",
       "      <th>4</th>\n",
       "      <td>4.0</td>\n",
       "      <td>-2.841732e-07</td>\n",
       "      <td>3513.089661</td>\n",
       "      <td>1634.910340</td>\n",
       "    </tr>\n",
       "  </tbody>\n",
       "</table>\n",
       "</div>"
      ],
      "text/plain": [
       "   Time   Susceptible     Infected    Recovered\n",
       "0   0.0  5.147000e+03     0.500000     0.500000\n",
       "1   1.0 -6.562058e-07  4742.175021   405.824980\n",
       "2   2.0  1.541960e-06  4290.897399   857.102599\n",
       "3   3.0 -2.994914e-07  3882.564526  1265.435475\n",
       "4   4.0 -2.841732e-07  3513.089661  1634.910340"
      ]
     },
     "execution_count": 367,
     "metadata": {},
     "output_type": "execute_result"
    }
   ],
   "source": [
    "# Create dataframe with solution_korea output \n",
    "\n",
    "df_solution_korea = (pd.DataFrame(data=[solution_korea.t, solution_korea.y[0], solution_korea.y[1], solution_korea.y[2] ])\n",
    "                      .T\n",
    "                      .rename(columns={0: \"Time\", 1: \"Susceptible\", 2 : \"Infected\", 3: \"Recovered\"}))\n",
    "df_solution_korea.head()"
   ]
  },
  {
   "cell_type": "code",
   "execution_count": 368,
   "metadata": {},
   "outputs": [
    {
     "data": {
      "text/html": [
       "<div>\n",
       "<style scoped>\n",
       "    .dataframe tbody tr th:only-of-type {\n",
       "        vertical-align: middle;\n",
       "    }\n",
       "\n",
       "    .dataframe tbody tr th {\n",
       "        vertical-align: top;\n",
       "    }\n",
       "\n",
       "    .dataframe thead th {\n",
       "        text-align: right;\n",
       "    }\n",
       "</style>\n",
       "<table border=\"1\" class=\"dataframe\">\n",
       "  <thead>\n",
       "    <tr style=\"text-align: right;\">\n",
       "      <th></th>\n",
       "      <th>Time</th>\n",
       "      <th>Susceptible</th>\n",
       "      <th>Infected</th>\n",
       "      <th>Recovered</th>\n",
       "      <th>infected</th>\n",
       "    </tr>\n",
       "  </thead>\n",
       "  <tbody>\n",
       "    <tr>\n",
       "      <th>0</th>\n",
       "      <td>0.0</td>\n",
       "      <td>5.147000e+03</td>\n",
       "      <td>0.500000</td>\n",
       "      <td>0.500000</td>\n",
       "      <td>NaN</td>\n",
       "    </tr>\n",
       "    <tr>\n",
       "      <th>1</th>\n",
       "      <td>1.0</td>\n",
       "      <td>-6.562058e-07</td>\n",
       "      <td>4742.175021</td>\n",
       "      <td>405.824980</td>\n",
       "      <td>NaN</td>\n",
       "    </tr>\n",
       "    <tr>\n",
       "      <th>2</th>\n",
       "      <td>2.0</td>\n",
       "      <td>1.541960e-06</td>\n",
       "      <td>4290.897399</td>\n",
       "      <td>857.102599</td>\n",
       "      <td>1.0</td>\n",
       "    </tr>\n",
       "    <tr>\n",
       "      <th>3</th>\n",
       "      <td>3.0</td>\n",
       "      <td>-2.994914e-07</td>\n",
       "      <td>3882.564526</td>\n",
       "      <td>1265.435475</td>\n",
       "      <td>0.0</td>\n",
       "    </tr>\n",
       "    <tr>\n",
       "      <th>4</th>\n",
       "      <td>4.0</td>\n",
       "      <td>-2.841732e-07</td>\n",
       "      <td>3513.089661</td>\n",
       "      <td>1634.910340</td>\n",
       "      <td>1.0</td>\n",
       "    </tr>\n",
       "  </tbody>\n",
       "</table>\n",
       "</div>"
      ],
      "text/plain": [
       "   Time   Susceptible     Infected    Recovered  infected\n",
       "0   0.0  5.147000e+03     0.500000     0.500000       NaN\n",
       "1   1.0 -6.562058e-07  4742.175021   405.824980       NaN\n",
       "2   2.0  1.541960e-06  4290.897399   857.102599       1.0\n",
       "3   3.0 -2.994914e-07  3882.564526  1265.435475       0.0\n",
       "4   4.0 -2.841732e-07  3513.089661  1634.910340       1.0"
      ]
     },
     "execution_count": 368,
     "metadata": {},
     "output_type": "execute_result"
    }
   ],
   "source": [
    "# Merge df_solution_korea with korea_df\n",
    "\n",
    "korea_df2 = pd.concat([df_solution_korea, korea_df.loc[2:]['infected'].reindex(df_solution_korea.index)], axis=1)\n",
    "\n",
    "korea_df2.head()"
   ]
  },
  {
   "cell_type": "code",
   "execution_count": 369,
   "metadata": {},
   "outputs": [
    {
     "data": {
      "text/plain": [
       "[<matplotlib.lines.Line2D at 0x12842c700>]"
      ]
     },
     "execution_count": 369,
     "metadata": {},
     "output_type": "execute_result"
    },
    {
     "data": {
      "image/png": "[encoded data removed]",
      "text/plain": [
       "<Figure size 432x288 with 1 Axes>"
      ]
     },
     "metadata": {
      "needs_background": "light"
     },
     "output_type": "display_data"
    }
   ],
   "source": [
    "# Infected population for Korea\n",
    "plt.plot(korea_df.loc[2:]['infected'].reset_index(drop=True).index, korea_df.loc[2:]['infected'])"
   ]
  },
  {
   "cell_type": "code",
   "execution_count": 370,
   "metadata": {},
   "outputs": [
    {
     "data": {
      "text/plain": [
       "[<matplotlib.lines.Line2D at 0x128454ee0>]"
      ]
     },
     "execution_count": 370,
     "metadata": {},
     "output_type": "execute_result"
    },
    {
     "data": {
      "image/png": "[encoded data removed]",
      "text/plain": [
       "<Figure size 432x288 with 1 Axes>"
      ]
     },
     "metadata": {
      "needs_background": "light"
     },
     "output_type": "display_data"
    }
   ],
   "source": [
    "# Susceptible population for Korea\n",
    "plt.plot(df_solution_korea[\"Time\"], df_solution_korea[\"Susceptible\"])"
   ]
  },
  {
   "cell_type": "code",
   "execution_count": 371,
   "metadata": {},
   "outputs": [
    {
     "data": {
      "text/plain": [
       "<matplotlib.legend.Legend at 0x12850dbe0>"
      ]
     },
     "execution_count": 371,
     "metadata": {},
     "output_type": "execute_result"
    },
    {
     "data": {
      "image/png": "[encoded data removed]",
      "text/plain": [
       "<Figure size 864x360 with 1 Axes>"
      ]
     },
     "metadata": {
      "needs_background": "light"
     },
     "output_type": "display_data"
    }
   ],
   "source": [
    "# PLot showing all populations for beta, gamma = [0.001, 0.1] : we can see original data. It displays more information than the \n",
    "# one above\n",
    "\n",
    "fig = plt.figure(figsize=(12, 5))\n",
    "\n",
    "plt.plot( 'Time', 'Susceptible', data=df_solution_korea, marker='o', markerfacecolor='blue', markersize=12, color='skyblue', linewidth=4)\n",
    "plt.plot( 'Time', 'Infected', data=df_solution_korea, marker='', color='olive', linewidth=2)\n",
    "plt.plot( 'Time', 'Recovered', data=df_solution_korea, marker='', color='olive', linewidth=2, linestyle='dashed')\n",
    "plt.plot(\"Time\", 'infected', data= korea_df2, marker='', color='red', linewidth=2, label='Original data')\n",
    "plt.legend()"
   ]
  },
  {
   "cell_type": "code",
   "execution_count": 372,
   "metadata": {},
   "outputs": [],
   "source": [
    "def plot_epidemia(solution, infected, susceptible=False):\n",
    "    fig = plt.figure(figsize=(12, 5))\n",
    "    if susceptible:\n",
    "        plt.plot(solution.t, solution.y[0])\n",
    "    plt.plot(solution.t, solution.y[1])\n",
    "    plt.plot(solution.t, solution.y[2])\n",
    "    plt.plot(infected.reset_index(drop=True).index, infected, \"k*:\")\n",
    "    plt.grid(\"True\")\n",
    "    if susceptible:\n",
    "        plt.legend([\"Susceptible\", \"Infected\", \"Recovered\", \"Original Data\"])\n",
    "    else:\n",
    "        plt.legend([\"Infected\", \"Recovered\", \"Original Data\"])\n",
    "    plt.show()"
   ]
  },
  {
   "cell_type": "code",
   "execution_count": 373,
   "metadata": {},
   "outputs": [
    {
     "data": {
      "image/png": "[encoded data removed]",
      "text/plain": [
       "<Figure size 864x360 with 1 Axes>"
      ]
     },
     "metadata": {
      "needs_background": "light"
     },
     "output_type": "display_data"
    }
   ],
   "source": [
    "plot_epidemia(solution_korea, korea_df.loc[2:]['infected'])\n",
    "\n",
    "# Les courbes infected et recovered sont bien trop hautes comparées à la donnée originelle. \n",
    "# Les paramètres beta et gamma ne sont pas bons."
   ]
  },
  {
   "cell_type": "code",
   "execution_count": 374,
   "metadata": {},
   "outputs": [
    {
     "data": {
      "image/png": "[encoded data removed]",
      "text/plain": [
       "<Figure size 864x360 with 1 Axes>"
      ]
     },
     "metadata": {
      "needs_background": "light"
     },
     "output_type": "display_data"
    }
   ],
   "source": [
    "plot_epidemia(solution_italy, italy_df.loc[2:]['infected'])\n",
    "\n",
    "# Le constat est le même pour l'Italie"
   ]
  },
  {
   "cell_type": "markdown",
   "metadata": {},
   "source": [
    "#### Approximation"
   ]
  },
  {
   "cell_type": "code",
   "execution_count": 341,
   "metadata": {},
   "outputs": [
    {
     "data": {
      "text/plain": [
       "851.0"
      ]
     },
     "execution_count": 341,
     "metadata": {},
     "output_type": "execute_result"
    }
   ],
   "source": [
    "korea_df['infected'].max()"
   ]
  },
  {
   "cell_type": "code",
   "execution_count": 342,
   "metadata": {},
   "outputs": [
    {
     "data": {
      "text/plain": [
       "252.0"
      ]
     },
     "execution_count": 342,
     "metadata": {},
     "output_type": "execute_result"
    }
   ],
   "source": [
    "korea_df['infected'].diff().max()"
   ]
  },
  {
   "cell_type": "code",
   "execution_count": 343,
   "metadata": {},
   "outputs": [
    {
     "data": {
      "text/plain": [
       "0.17870945831971552"
      ]
     },
     "execution_count": 343,
     "metadata": {},
     "output_type": "execute_result"
    }
   ],
   "source": [
    "(korea_df['Recovered'].diff().loc[korea_df['infected'] != 0] / korea_df.loc[korea_df['infected'] != 0]['infected']).mean()"
   ]
  },
  {
   "cell_type": "code",
   "execution_count": 344,
   "metadata": {},
   "outputs": [],
   "source": [
    "beta, gamma = [0.001, 0.1]\n",
    "solution_korea = solve_ivp(SIR, [0, 40], [51_470_000*0.00001, 1, 0], t_eval=np.arange(0, 41, 1))"
   ]
  },
  {
   "cell_type": "code",
   "execution_count": 345,
   "metadata": {},
   "outputs": [
    {
     "data": {
      "image/png": "[encoded data removed]",
      "text/plain": [
       "<Figure size 864x360 with 1 Axes>"
      ]
     },
     "metadata": {
      "needs_background": "light"
     },
     "output_type": "display_data"
    }
   ],
   "source": [
    "plot_epidemia(solution_korea, korea_df.loc[2:]['infected'])\n",
    "\n",
    "# On voit que les courbes se sont adaptées, elles sont bien moins hautes qu'avant et plus en accord avec la donnée originelle."
   ]
  },
  {
   "cell_type": "code",
   "execution_count": 266,
   "metadata": {},
   "outputs": [],
   "source": [
    "total_population = 51_470_000\n",
    "infected_population = korea_df.loc[2:]['infected']\n",
    "nb_steps = len(infected_population)"
   ]
  },
  {
   "cell_type": "code",
   "execution_count": 346,
   "metadata": {},
   "outputs": [],
   "source": [
    "def sumsq_error(parameters):\n",
    "    beta, gamma = parameters\n",
    "    \n",
    "    def SIR(t, y):\n",
    "        S = y[0]\n",
    "        I = y[1]\n",
    "        R = y[2]\n",
    "        return([-beta*S*I, beta*S*I-gamma*I, gamma*I])\n",
    "\n",
    "    solution = solve_ivp(SIR, [0, nb_steps-1], [total_population*0.0001, 1, 0], t_eval=np.arange(0, nb_steps, 1))\n",
    "    # On muliplie toujours par 0.0001 car sinon le solveur met trop de temps\n",
    "    return(sum((solution.y[1]-infected_population)**2))"
   ]
  },
  {
   "cell_type": "code",
   "execution_count": 347,
   "metadata": {},
   "outputs": [
    {
     "name": "stdout",
     "output_type": "stream",
     "text": [
      "CPU times: user 11.4 s, sys: 115 ms, total: 11.5 s\n",
      "Wall time: 11.7 s\n"
     ]
    },
    {
     "data": {
      "text/plain": [
       "array([ 2.54053535, 13.32818259])"
      ]
     },
     "execution_count": 347,
     "metadata": {},
     "output_type": "execute_result"
    }
   ],
   "source": [
    "%%time\n",
    "from scipy.optimize import minimize\n",
    "\n",
    "msol = minimize(sumsq_error, [0.1, 0.1], method='Nelder-Mead')\n",
    "msol.x"
   ]
  },
  {
   "cell_type": "code",
   "execution_count": 348,
   "metadata": {},
   "outputs": [],
   "source": [
    "beta_optimal = 2.54\n",
    "gamma_optimal = 13.32"
   ]
  },
  {
   "cell_type": "code",
   "execution_count": 350,
   "metadata": {},
   "outputs": [],
   "source": [
    "beta = beta_optimal\n",
    "gamma = gamma_optimal\n",
    "\n",
    "def SIR(t, y):\n",
    "    S = y[0]\n",
    "    I = y[1]\n",
    "    R = y[2]\n",
    "    return([-beta*S*I, beta*S*I-gamma*I, gamma*I])\n",
    "\n",
    "solution_korea_optimal = solve_ivp(SIR, [0, 40], [51_470_000*0.0001, 1, 0], t_eval=np.arange(0, 40, 1))"
   ]
  },
  {
   "cell_type": "code",
   "execution_count": 353,
   "metadata": {},
   "outputs": [
    {
     "data": {
      "text/plain": [
       "  message: 'The solver successfully reached the end of the integration interval.'\n",
       "     nfev: 3176\n",
       "     njev: 0\n",
       "      nlu: 0\n",
       "      sol: None\n",
       "   status: 0\n",
       "  success: True\n",
       "        t: array([ 0,  1,  2,  3,  4,  5,  6,  7,  8,  9, 10, 11, 12, 13, 14, 15, 16,\n",
       "       17, 18, 19, 20, 21, 22, 23, 24, 25, 26, 27, 28, 29, 30, 31, 32, 33,\n",
       "       34, 35, 36, 37, 38, 39])\n",
       " t_events: None\n",
       "        y: array([[ 5.14700000e+03,  3.73634844e-08,  3.73023946e-08,\n",
       "         3.73023940e-08,  3.73023959e-08,  3.73023967e-08,\n",
       "         3.73023910e-08,  3.73023925e-08,  3.73023947e-08,\n",
       "         3.73023919e-08,  3.73023884e-08,  3.73023938e-08,\n",
       "         3.73023944e-08,  3.73023936e-08,  3.73023934e-08,\n",
       "         3.73023935e-08,  3.73023937e-08,  3.73023940e-08,\n",
       "         3.73023945e-08,  3.73023896e-08,  3.73023963e-08,\n",
       "         3.73023984e-08,  3.73023989e-08,  3.73023994e-08,\n",
       "         3.73023999e-08,  3.73024004e-08,  3.73024000e-08,\n",
       "         3.73024011e-08,  3.73024024e-08,  3.73024024e-08,\n",
       "         3.73024027e-08,  3.73024028e-08,  3.73024029e-08,\n",
       "         3.73024027e-08,  3.73024014e-08,  3.73024096e-08,\n",
       "         3.73024092e-08,  3.73024082e-08,  3.73024073e-08,\n",
       "         3.73024061e-08],\n",
       "       [ 1.00000000e+00,  8.58133269e-03, -2.83582211e-07,\n",
       "        -3.67089850e-07, -1.08608587e-07,  6.57277982e-09,\n",
       "        -7.93583516e-07, -5.81389335e-07, -2.76109282e-07,\n",
       "        -6.69292631e-07, -1.15493805e-06, -4.02903566e-07,\n",
       "        -3.22119508e-07, -4.31876503e-07, -4.57502535e-07,\n",
       "        -4.49201373e-07, -4.21154171e-07, -3.73264795e-07,\n",
       "        -3.06146784e-07, -9.85562857e-07, -5.56989586e-08,\n",
       "         2.44718260e-07,  3.14150680e-07,  3.82232362e-07,\n",
       "         4.55080732e-07,  5.29511660e-07,  4.72999082e-07,\n",
       "         6.26502876e-07,  8.06492787e-07,  8.05359292e-07,\n",
       "         8.51193102e-07,  8.68735089e-07,  8.72218929e-07,\n",
       "         8.51829564e-07,  6.66255972e-07,  1.82000450e-06,\n",
       "         1.76173693e-06,  1.61791116e-06,  1.49603750e-06,\n",
       "         1.32888289e-06],\n",
       "       [ 0.00000000e+00,  5.14799142e+03,  5.14800000e+03,\n",
       "         5.14800000e+03,  5.14800000e+03,  5.14800000e+03,\n",
       "         5.14800000e+03,  5.14800000e+03,  5.14800000e+03,\n",
       "         5.14800000e+03,  5.14800000e+03,  5.14800000e+03,\n",
       "         5.14800000e+03,  5.14800000e+03,  5.14800000e+03,\n",
       "         5.14800000e+03,  5.14800000e+03,  5.14800000e+03,\n",
       "         5.14800000e+03,  5.14800000e+03,  5.14800000e+03,\n",
       "         5.14800000e+03,  5.14800000e+03,  5.14800000e+03,\n",
       "         5.14800000e+03,  5.14800000e+03,  5.14800000e+03,\n",
       "         5.14800000e+03,  5.14800000e+03,  5.14800000e+03,\n",
       "         5.14800000e+03,  5.14800000e+03,  5.14800000e+03,\n",
       "         5.14800000e+03,  5.14800000e+03,  5.14800000e+03,\n",
       "         5.14800000e+03,  5.14800000e+03,  5.14800000e+03,\n",
       "         5.14800000e+03]])\n",
       " y_events: None"
      ]
     },
     "execution_count": 353,
     "metadata": {},
     "output_type": "execute_result"
    }
   ],
   "source": [
    "solution_korea_optimal"
   ]
  },
  {
   "cell_type": "code",
   "execution_count": 375,
   "metadata": {},
   "outputs": [
    {
     "data": {
      "image/png": "[encoded data removed]",
      "text/plain": [
       "<Figure size 864x360 with 1 Axes>"
      ]
     },
     "metadata": {
      "needs_background": "light"
     },
     "output_type": "display_data"
    }
   ],
   "source": [
    "plot_epidemia(solution_korea_optimal, korea_df.loc[2:]['infected'])\n"
   ]
  },
  {
   "cell_type": "code",
   "execution_count": 355,
   "metadata": {},
   "outputs": [
    {
     "data": {
      "image/png": "[encoded data removed]",
      "text/plain": [
       "<Figure size 864x360 with 1 Axes>"
      ]
     },
     "metadata": {
      "needs_background": "light"
     },
     "output_type": "display_data"
    }
   ],
   "source": [
    "fig = plt.figure(figsize=(12, 5))\n",
    "plt.plot(solution_korea_optimal.t, solution_korea_optimal.y[1])\n",
    "plt.plot(korea_df.loc[2:]['infected'].reset_index(drop=True).index, korea_df.loc[2:]['infected'], \"k*:\")\n",
    "plt.grid(\"True\")\n",
    "plt.legend([\"Infected\", \"Original Data\"])\n",
    "plt.show()"
   ]
  },
  {
   "cell_type": "code",
   "execution_count": 356,
   "metadata": {},
   "outputs": [
    {
     "data": {
      "text/html": [
       "<div>\n",
       "<style scoped>\n",
       "    .dataframe tbody tr th:only-of-type {\n",
       "        vertical-align: middle;\n",
       "    }\n",
       "\n",
       "    .dataframe tbody tr th {\n",
       "        vertical-align: top;\n",
       "    }\n",
       "\n",
       "    .dataframe thead th {\n",
       "        text-align: right;\n",
       "    }\n",
       "</style>\n",
       "<table border=\"1\" class=\"dataframe\">\n",
       "  <thead>\n",
       "    <tr style=\"text-align: right;\">\n",
       "      <th></th>\n",
       "      <th>Country/Region</th>\n",
       "      <th>day</th>\n",
       "      <th>Confirmed</th>\n",
       "      <th>Deaths</th>\n",
       "      <th>Recovered</th>\n",
       "    </tr>\n",
       "  </thead>\n",
       "  <tbody>\n",
       "    <tr>\n",
       "      <th>44</th>\n",
       "      <td>Mainland China</td>\n",
       "      <td>2020-03-06</td>\n",
       "      <td>79771.0</td>\n",
       "      <td>3029.0</td>\n",
       "      <td>53172.0</td>\n",
       "    </tr>\n",
       "    <tr>\n",
       "      <th>45</th>\n",
       "      <td>Mainland China</td>\n",
       "      <td>2020-03-07</td>\n",
       "      <td>78619.0</td>\n",
       "      <td>3051.0</td>\n",
       "      <td>53511.0</td>\n",
       "    </tr>\n",
       "    <tr>\n",
       "      <th>46</th>\n",
       "      <td>Mainland China</td>\n",
       "      <td>2020-03-08</td>\n",
       "      <td>79455.0</td>\n",
       "      <td>3084.0</td>\n",
       "      <td>56114.0</td>\n",
       "    </tr>\n",
       "    <tr>\n",
       "      <th>47</th>\n",
       "      <td>Mainland China</td>\n",
       "      <td>2020-03-09</td>\n",
       "      <td>76902.0</td>\n",
       "      <td>3071.0</td>\n",
       "      <td>55004.0</td>\n",
       "    </tr>\n",
       "    <tr>\n",
       "      <th>48</th>\n",
       "      <td>Mainland China</td>\n",
       "      <td>2020-03-10</td>\n",
       "      <td>77201.0</td>\n",
       "      <td>3088.0</td>\n",
       "      <td>56620.0</td>\n",
       "    </tr>\n",
       "  </tbody>\n",
       "</table>\n",
       "</div>"
      ],
      "text/plain": [
       "    Country/Region         day  Confirmed  Deaths  Recovered\n",
       "44  Mainland China  2020-03-06    79771.0  3029.0    53172.0\n",
       "45  Mainland China  2020-03-07    78619.0  3051.0    53511.0\n",
       "46  Mainland China  2020-03-08    79455.0  3084.0    56114.0\n",
       "47  Mainland China  2020-03-09    76902.0  3071.0    55004.0\n",
       "48  Mainland China  2020-03-10    77201.0  3088.0    56620.0"
      ]
     },
     "execution_count": 356,
     "metadata": {},
     "output_type": "execute_result"
    }
   ],
   "source": [
    "china_df = epidemie_df.get_country('Mainland China')[:49]\n",
    "china_df.tail()"
   ]
  },
  {
   "cell_type": "code",
   "execution_count": 357,
   "metadata": {},
   "outputs": [
    {
     "data": {
      "image/png": "[encoded data removed]",
      "text/plain": [
       "<Figure size 864x360 with 1 Axes>"
      ]
     },
     "metadata": {
      "needs_background": "light"
     },
     "output_type": "display_data"
    }
   ],
   "source": [
    "china_df.set_index('day').plot.line(figsize=(12, 5));"
   ]
  },
  {
   "cell_type": "code",
   "execution_count": 358,
   "metadata": {},
   "outputs": [],
   "source": [
    "beta, gamma = [0.001, 0.1]\n",
    "china_df['infected'] = china_df['Confirmed'].diff()\n",
    "nb_steps = china_df.shape[0]\n",
    "solution_china = solve_ivp(SIR, [0, nb_steps-1], [1_350_000_000*0.0001, 1, 0], t_eval=np.arange(0, nb_steps, 1))"
   ]
  },
  {
   "cell_type": "code",
   "execution_count": 359,
   "metadata": {},
   "outputs": [
    {
     "data": {
      "image/png": "[encoded data removed]",
      "text/plain": [
       "<Figure size 864x360 with 1 Axes>"
      ]
     },
     "metadata": {
      "needs_background": "light"
     },
     "output_type": "display_data"
    }
   ],
   "source": [
    "fig = plt.figure(figsize=(12, 5))\n",
    "plt.plot(solution_china.t, solution_china.y[1])\n",
    "plt.plot(china_df['infected'].reset_index(drop=True).index, china_df['infected'], \"k*:\")\n",
    "plt.title('China')\n",
    "plt.grid(\"True\")\n",
    "plt.legend([\"Infected\", \"Original Data\"])\n",
    "plt.show()"
   ]
  },
  {
   "cell_type": "code",
   "execution_count": 360,
   "metadata": {},
   "outputs": [],
   "source": [
    "korea_df.to_clipboard()"
   ]
  },
  {
   "cell_type": "code",
   "execution_count": null,
   "metadata": {},
   "outputs": [],
   "source": []
  }
 ],
 "metadata": {
  "kernelspec": {
   "display_name": "Projet Corona (Python)",
   "language": "python",
   "name": "corona"
  },
  "language_info": {
   "codemirror_mode": {
    "name": "ipython",
    "version": 3
   },
   "file_extension": ".py",
   "mimetype": "text/x-python",
   "name": "python",
   "nbconvert_exporter": "python",
   "pygments_lexer": "ipython3",
   "version": "3.8.1"
  }
 },
 "nbformat": 4,
 "nbformat_minor": 4
}
