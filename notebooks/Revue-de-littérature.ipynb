{
 "cells": [
  {
   "cell_type": "markdown",
   "metadata": {},
   "source": [
    "<h1 align=\"center\"> Modèles de contagion: revue de littérature et implémentation </h1> \n",
    "<h2 align=\"center\"> Enzo Buthiot, Nicolas Gallo ~ A.M.S.E. </h2> \n"
   ]
  },
  {
   "cell_type": "markdown",
   "metadata": {},
   "source": [
    "<hr>"
   ]
  },
  {
   "cell_type": "markdown",
   "metadata": {},
   "source": [
    "## Table des matières"
   ]
  },
  {
   "cell_type": "markdown",
   "metadata": {},
   "source": [
    "[1. Revue de littérature](#l1)  \n",
    "- [1.1. Un premier modèle de diffusion: *le modèle de Bass*](#l1.1)\n",
    "- [1.2. Un modèle de diffusion classique: *le modèle SIR*](#l1.2)  \n",
    "- [1.3. Empirical approach](#l1.3)  \n",
    "\n",
    "[2. Implémentation du modèle **SIS**](#l2)  "
   ]
  },
  {
   "cell_type": "markdown",
   "metadata": {},
   "source": [
    "<hr>"
   ]
  },
  {
   "cell_type": "markdown",
   "metadata": {},
   "source": [
    "<a id = \"l1\"></a>\n",
    "# 1. Revue de littérature"
   ]
  },
  {
   "cell_type": "markdown",
   "metadata": {},
   "source": [
    "<a id = \"l1.1\"></a>\n",
    " ## 1.1. Un premier modèle de diffusion: *le modèle de Bass*"
   ]
  },
  {
   "cell_type": "markdown",
   "metadata": {},
   "source": [
    "A l'origine, ce modèle a été developpé pour décrire le porcessus selon lequel un nouveau produit est adopté par une population donnée. Cependant, il peut aussi etre utilisé comme modèle de propagation virale.\n",
    "<br>\n",
    "Le modèle est décris par l'équation différentielle suivante:\n",
    "$$ F(t) = F(t-1) + p(1 - F(t-1)) + q(1 - F(t-1))F(t-1),  $$"
   ]
  },
  {
   "cell_type": "markdown",
   "metadata": {},
   "source": [
    "avec $F(t)$ la fraction des agents infectés au temps $t$, $p$ le taux d'infection et $q$ le taux de contagion."
   ]
  },
  {
   "cell_type": "markdown",
   "metadata": {},
   "source": [
    "Ainsi, le terme $p(1 - F(t-1))$ correspond au taux d'infection multiplié par la part des agents non-infectés et $q(1 - F(t-1))F(t-1)$ correspond au taux de contagion mulitplié par la fréquence de recontre entre agents saints et agents infectés."
   ]
  },
  {
   "cell_type": "markdown",
   "metadata": {},
   "source": [
    "Le modèle permet donc de capturer 2 phénomènes expliquant l'épidemie: le phénomène d'infection exogène (donné par $p$), et le phénomène de contagion des agents infectés (donné par $q$) ."
   ]
  },
  {
   "cell_type": "markdown",
   "metadata": {},
   "source": [
    "Le choix des paramètres du modèle est crucial pour les performances du modèle. En particulier, si $p>q$ la courbe de diffusion est croissante et concave; alors que pour $p<q$ la courbe est en forme de S, capturant alors le phénomène de saturation existant empiriquement. Cette seconde spécification est donc préférable."
   ]
  },
  {
   "cell_type": "markdown",
   "metadata": {},
   "source": [
    "<a id = \"l1.2\"></a>\n",
    " ## 1.2. Un modèle de diffusion classique: *le modèle SIR*"
   ]
  },
  {
   "cell_type": "markdown",
   "metadata": {},
   "source": [
    "Dans un tel modèle, les agent appartiennent succesivement à trois groupes:\n",
    "- **S**uceptible\n",
    "- **I**nfected\n",
    "- **R**ecovered\n"
   ]
  },
  {
   "cell_type": "markdown",
   "metadata": {},
   "source": [
    "La dynamique de l'épidémie est alors donnée par les taux de transition entre compartiments. \n",
    "<br>\n",
    "Entre **S** et **I** d'abord, le taux de transition est $\\frac{\\beta I}{N}$, où $\\beta$ capture la probabilité de transmission du virus par contact entre agents saints et infectés, multiplié par le nombre moyen de contact par personne; et  $\\frac{I}{N}$ représente la part des contacts totaux impliquant un individu infecté."
   ]
  },
  {
   "cell_type": "markdown",
   "metadata": {},
   "source": [
    "Ensuite, entre **I** et **R**, le taux de transition théorique est donné par $ \\gamma = \\frac{1}{D}$, avec $D$ la durée de l'infection pour l'individu. De cette manière, $\\gamma$ représente le taux de guérison. Empiriquement, $\\gamma$ est simplement le nombre d'agents guéris divisé par le nombre de nouveaux infectés en une période de temps donnée (une journée par exemple).\n",
    "<br>\n",
    "Théoriquement, $D$ est généralement défini, pour chaque individu, par une variable aléatoire avec distribution exponentielle.\n",
    "<br>\n",
    "<br>\n",
    "Ce modèle performe bien mieux que le *modèle de Bass* empiriquement, puisqu'il prend additionnellement en compte l'évolution du stock d'infectés potentiels, ce dernier diminuant suite à la mort et/ou à la guérison de certains infectés."
   ]
  },
  {
   "cell_type": "markdown",
   "metadata": {},
   "source": [
    "<a id = \"l1.3\"></a>\n",
    " ## 1.3. Un modèle de diffusion alternatif: *le modèle SIS*"
   ]
  },
  {
   "cell_type": "markdown",
   "metadata": {},
   "source": [
    "Dans ce cas, les trois compartiments deviennent:\n",
    "- Suceptible\n",
    "- Infected\n",
    "- Suceptible\n"
   ]
  },
  {
   "cell_type": "markdown",
   "metadata": {},
   "source": [
    "Ce qui est alors capturé est le fait qu'un individu infecté, puis guéri, peut à nouveau être infecté.\n",
    "<br>\n",
    "Certaines incertitudes subsistent à propos du coronavirus. En particulier, la ré-infection d'agents déja infectés est toujours considérée comme possible. Plus précisement, si le virus était amené à muter, une seconde vague d'épidemie serait à craindre; et ce autant de fois que le virus mutera.\n",
    "<br>\n",
    "<br>\n",
    "C'est pourquoi nous souhaitons aussi considérer ce cas, en implémentant un modèle **SIS** avec les données dont nous disposons."
   ]
  },
  {
   "cell_type": "markdown",
   "metadata": {},
   "source": [
    "<a id = \"l2\"></a>\n",
    "# 2. Implementation du modèle **SIS**"
   ]
  },
  {
   "cell_type": "code",
   "execution_count": 29,
   "metadata": {},
   "outputs": [],
   "source": [
    "import numpy as np \n",
    "import pandas as pd \n",
    "import os\n",
    "import datetime\n",
    "import yaml\n",
    "from matplotlib import pyplot as plt"
   ]
  },
  {
   "cell_type": "code",
   "execution_count": 30,
   "metadata": {},
   "outputs": [],
   "source": [
    "ENV_FILE= \"../documents/corona/env.yaml\"\n",
    "with open(ENV_FILE) as f: \n",
    "    params= yaml.load(f, Loader=yaml.FullLoader)\n",
    "\n",
    "#Initialisation des chemin vers les fichiers\n",
    "ROOT_DIR= os.path.dirname(os.path.abspath(ENV_FILE))\n",
    "DATA_FILE=os.path.join(#ROOT_DIR,\n",
    "                       params['directories']['processed'],\n",
    "                       params['files']['all_data'])\n",
    "\n",
    "#Lecture du fichier de données\n",
    "epidemie_df =(pd.read_csv(DATA_FILE, parse_dates=[\"Last Update\"])\n",
    "             .assign(day=lambda _df: _df['Last Update'].dt.date)\n",
    "             .drop_duplicates(subset=['Country/Region','Province/State','day'])\n",
    "             [lambda df: df['day'] <= datetime.date(2020, 3, 21)]\n",
    "             )\n"
   ]
  },
  {
   "cell_type": "code",
   "execution_count": 31,
   "metadata": {},
   "outputs": [],
   "source": [
    "epidemie_df_sis= (epidemie_df\n",
    "                .groupby(['Country/Region','day'])\n",
    "                .agg({'Confirmed':'sum', 'Deaths':'sum'})\n",
    "                .reset_index()\n",
    "                 )"
   ]
  },
  {
   "cell_type": "code",
   "execution_count": 32,
   "metadata": {},
   "outputs": [
    {
     "data": {
      "text/html": [
       "<div>\n",
       "<style scoped>\n",
       "    .dataframe tbody tr th:only-of-type {\n",
       "        vertical-align: middle;\n",
       "    }\n",
       "\n",
       "    .dataframe tbody tr th {\n",
       "        vertical-align: top;\n",
       "    }\n",
       "\n",
       "    .dataframe thead th {\n",
       "        text-align: right;\n",
       "    }\n",
       "</style>\n",
       "<table border=\"1\" class=\"dataframe\">\n",
       "  <thead>\n",
       "    <tr style=\"text-align: right;\">\n",
       "      <th></th>\n",
       "      <th>Country/Region</th>\n",
       "      <th>day</th>\n",
       "      <th>Confirmed</th>\n",
       "      <th>Deaths</th>\n",
       "    </tr>\n",
       "  </thead>\n",
       "  <tbody>\n",
       "    <tr>\n",
       "      <th>38</th>\n",
       "      <td>South Korea</td>\n",
       "      <td>2020-03-05</td>\n",
       "      <td>6088.0</td>\n",
       "      <td>35.0</td>\n",
       "    </tr>\n",
       "    <tr>\n",
       "      <th>39</th>\n",
       "      <td>South Korea</td>\n",
       "      <td>2020-03-06</td>\n",
       "      <td>6593.0</td>\n",
       "      <td>42.0</td>\n",
       "    </tr>\n",
       "    <tr>\n",
       "      <th>40</th>\n",
       "      <td>South Korea</td>\n",
       "      <td>2020-03-07</td>\n",
       "      <td>7041.0</td>\n",
       "      <td>44.0</td>\n",
       "    </tr>\n",
       "    <tr>\n",
       "      <th>41</th>\n",
       "      <td>South Korea</td>\n",
       "      <td>2020-03-08</td>\n",
       "      <td>7314.0</td>\n",
       "      <td>50.0</td>\n",
       "    </tr>\n",
       "    <tr>\n",
       "      <th>42</th>\n",
       "      <td>South Korea</td>\n",
       "      <td>2020-03-09</td>\n",
       "      <td>7478.0</td>\n",
       "      <td>53.0</td>\n",
       "    </tr>\n",
       "  </tbody>\n",
       "</table>\n",
       "</div>"
      ],
      "text/plain": [
       "   Country/Region         day  Confirmed  Deaths\n",
       "38    South Korea  2020-03-05     6088.0    35.0\n",
       "39    South Korea  2020-03-06     6593.0    42.0\n",
       "40    South Korea  2020-03-07     7041.0    44.0\n",
       "41    South Korea  2020-03-08     7314.0    50.0\n",
       "42    South Korea  2020-03-09     7478.0    53.0"
      ]
     },
     "execution_count": 32,
     "metadata": {},
     "output_type": "execute_result"
    }
   ],
   "source": [
    "korea_df =(epidemie_df[epidemie_df['Country/Region']=='South Korea']\n",
    "        .groupby(['Country/Region','day'])\n",
    "        .agg({'Confirmed':'sum', 'Deaths':'sum'})\n",
    "        .reset_index()\n",
    "          )\n",
    "korea_df.tail()"
   ]
  },
  {
   "cell_type": "code",
   "execution_count": 33,
   "metadata": {},
   "outputs": [],
   "source": [
    "korea_df['infected']= korea_df['Confirmed'].diff()"
   ]
  },
  {
   "cell_type": "code",
   "execution_count": 34,
   "metadata": {
    "scrolled": true
   },
   "outputs": [
    {
     "data": {
      "image/png": "[encoded data removed]",
      "text/plain": [
       "<Figure size 864x360 with 1 Axes>"
      ]
     },
     "metadata": {
      "needs_background": "light"
     },
     "output_type": "display_data"
    }
   ],
   "source": [
    "import matplotlib.pyplot as plt \n",
    "%matplotlib inline\n",
    "\n",
    "fig=plt.figure(figsize=(12,5))\n",
    "plt.plot(korea_df['day'], korea_df['Confirmed'], label=\"S.Korea confirmed\")\n",
    "plt.plot(korea_df['day'], korea_df['infected'], label='S.Korea infected')\n",
    "plt.grid(True)\n",
    "plt.legend()\n",
    "plt.show()"
   ]
  },
  {
   "cell_type": "code",
   "execution_count": 35,
   "metadata": {},
   "outputs": [],
   "source": [
    "total_population = 51_470_000\n",
    "infected_population = korea_df.loc[2:]['infected']\n",
    "nb_steps = len(infected_population)"
   ]
  },
  {
   "cell_type": "code",
   "execution_count": 36,
   "metadata": {},
   "outputs": [],
   "source": [
    "def sumsq_error(parameters):\n",
    "    beta, gamma = parameters\n",
    "    \n",
    "    def SIS(t, y):\n",
    "        S = y[0]\n",
    "        I = y[1]\n",
    "        return([-beta*S*I+gamma*I, beta*S*I-gamma*I])\n",
    "\n",
    "    solution = solve_ivp(SIS, [0, nb_steps-1], [total_population*0.001, 1], t_eval=np.arange(0, nb_steps, 1))\n",
    "    \n",
    "    return(sum((solution.y[1]-infected_population)**2))"
   ]
  },
  {
   "cell_type": "code",
   "execution_count": 37,
   "metadata": {},
   "outputs": [
    {
     "name": "stdout",
     "output_type": "stream",
     "text": [
      "Wall time: 4.79 s\n"
     ]
    },
    {
     "data": {
      "text/plain": [
       "array([-0.00038046,  0.20686027])"
      ]
     },
     "execution_count": 37,
     "metadata": {},
     "output_type": "execute_result"
    }
   ],
   "source": [
    "%%time\n",
    "from scipy.optimize import minimize\n",
    "\n",
    "msol = minimize(sumsq_error, [0.001, 0.1], method='Nelder-Mead')\n",
    "msol.x"
   ]
  },
  {
   "cell_type": "code",
   "execution_count": 38,
   "metadata": {},
   "outputs": [],
   "source": [
    "beta_optimal = -0.00038046\n",
    "gamma_optimal = 0.20686027"
   ]
  },
  {
   "cell_type": "markdown",
   "metadata": {},
   "source": [
    "### La valeur optimale pour Beta est irréaliste, alors nous utilisons la valeur 0.01 (c'est à dire qu'un pourcent des contacts entrainent transmission)"
   ]
  },
  {
   "cell_type": "code",
   "execution_count": 42,
   "metadata": {},
   "outputs": [],
   "source": [
    "beta = 0.01\n",
    "gamma = gamma_optimal\n",
    "\n",
    "def SIS(t, y):\n",
    "        S = y[0]\n",
    "        I = y[1]\n",
    "        return([-beta*S*I+gamma*I, beta*S*I-gamma*I])\n",
    "\n",
    "solution_korea_optimal = solve_ivp(SIS, [0, 40], [51_470_000*0.001, 1], t_eval=np.arange(0, 40, 1))"
   ]
  },
  {
   "cell_type": "code",
   "execution_count": 43,
   "metadata": {},
   "outputs": [
    {
     "data": {
      "text/html": [
       "<div>\n",
       "<style scoped>\n",
       "    .dataframe tbody tr th:only-of-type {\n",
       "        vertical-align: middle;\n",
       "    }\n",
       "\n",
       "    .dataframe tbody tr th {\n",
       "        vertical-align: top;\n",
       "    }\n",
       "\n",
       "    .dataframe thead th {\n",
       "        text-align: right;\n",
       "    }\n",
       "</style>\n",
       "<table border=\"1\" class=\"dataframe\">\n",
       "  <thead>\n",
       "    <tr style=\"text-align: right;\">\n",
       "      <th></th>\n",
       "      <th>Time</th>\n",
       "      <th>Susceptible</th>\n",
       "      <th>Infected</th>\n",
       "    </tr>\n",
       "  </thead>\n",
       "  <tbody>\n",
       "    <tr>\n",
       "      <th>0</th>\n",
       "      <td>0.0</td>\n",
       "      <td>51470.000000</td>\n",
       "      <td>1.000000</td>\n",
       "    </tr>\n",
       "    <tr>\n",
       "      <th>1</th>\n",
       "      <td>1.0</td>\n",
       "      <td>100.082114</td>\n",
       "      <td>51370.917886</td>\n",
       "    </tr>\n",
       "    <tr>\n",
       "      <th>2</th>\n",
       "      <td>2.0</td>\n",
       "      <td>99.983087</td>\n",
       "      <td>51371.016913</td>\n",
       "    </tr>\n",
       "    <tr>\n",
       "      <th>3</th>\n",
       "      <td>3.0</td>\n",
       "      <td>99.972175</td>\n",
       "      <td>51371.027825</td>\n",
       "    </tr>\n",
       "    <tr>\n",
       "      <th>4</th>\n",
       "      <td>4.0</td>\n",
       "      <td>100.028668</td>\n",
       "      <td>51370.971332</td>\n",
       "    </tr>\n",
       "    <tr>\n",
       "      <th>5</th>\n",
       "      <td>5.0</td>\n",
       "      <td>99.994626</td>\n",
       "      <td>51371.005374</td>\n",
       "    </tr>\n",
       "    <tr>\n",
       "      <th>6</th>\n",
       "      <td>6.0</td>\n",
       "      <td>100.037271</td>\n",
       "      <td>51370.962729</td>\n",
       "    </tr>\n",
       "    <tr>\n",
       "      <th>7</th>\n",
       "      <td>7.0</td>\n",
       "      <td>99.929631</td>\n",
       "      <td>51371.070369</td>\n",
       "    </tr>\n",
       "    <tr>\n",
       "      <th>8</th>\n",
       "      <td>8.0</td>\n",
       "      <td>100.058304</td>\n",
       "      <td>51370.941696</td>\n",
       "    </tr>\n",
       "    <tr>\n",
       "      <th>9</th>\n",
       "      <td>9.0</td>\n",
       "      <td>99.951281</td>\n",
       "      <td>51371.048719</td>\n",
       "    </tr>\n",
       "    <tr>\n",
       "      <th>10</th>\n",
       "      <td>10.0</td>\n",
       "      <td>100.066634</td>\n",
       "      <td>51370.933366</td>\n",
       "    </tr>\n",
       "    <tr>\n",
       "      <th>11</th>\n",
       "      <td>11.0</td>\n",
       "      <td>99.981870</td>\n",
       "      <td>51371.018130</td>\n",
       "    </tr>\n",
       "    <tr>\n",
       "      <th>12</th>\n",
       "      <td>12.0</td>\n",
       "      <td>100.100661</td>\n",
       "      <td>51370.899339</td>\n",
       "    </tr>\n",
       "    <tr>\n",
       "      <th>13</th>\n",
       "      <td>13.0</td>\n",
       "      <td>99.919146</td>\n",
       "      <td>51371.080854</td>\n",
       "    </tr>\n",
       "    <tr>\n",
       "      <th>14</th>\n",
       "      <td>14.0</td>\n",
       "      <td>100.055539</td>\n",
       "      <td>51370.944461</td>\n",
       "    </tr>\n",
       "    <tr>\n",
       "      <th>15</th>\n",
       "      <td>15.0</td>\n",
       "      <td>99.966443</td>\n",
       "      <td>51371.033557</td>\n",
       "    </tr>\n",
       "    <tr>\n",
       "      <th>16</th>\n",
       "      <td>16.0</td>\n",
       "      <td>100.085172</td>\n",
       "      <td>51370.914828</td>\n",
       "    </tr>\n",
       "    <tr>\n",
       "      <th>17</th>\n",
       "      <td>17.0</td>\n",
       "      <td>99.901921</td>\n",
       "      <td>51371.098079</td>\n",
       "    </tr>\n",
       "    <tr>\n",
       "      <th>18</th>\n",
       "      <td>18.0</td>\n",
       "      <td>100.061856</td>\n",
       "      <td>51370.938144</td>\n",
       "    </tr>\n",
       "    <tr>\n",
       "      <th>19</th>\n",
       "      <td>19.0</td>\n",
       "      <td>99.964564</td>\n",
       "      <td>51371.035436</td>\n",
       "    </tr>\n",
       "    <tr>\n",
       "      <th>20</th>\n",
       "      <td>20.0</td>\n",
       "      <td>100.055279</td>\n",
       "      <td>51370.944721</td>\n",
       "    </tr>\n",
       "    <tr>\n",
       "      <th>21</th>\n",
       "      <td>21.0</td>\n",
       "      <td>99.974192</td>\n",
       "      <td>51371.025808</td>\n",
       "    </tr>\n",
       "    <tr>\n",
       "      <th>22</th>\n",
       "      <td>22.0</td>\n",
       "      <td>100.096844</td>\n",
       "      <td>51370.903156</td>\n",
       "    </tr>\n",
       "    <tr>\n",
       "      <th>23</th>\n",
       "      <td>23.0</td>\n",
       "      <td>99.962598</td>\n",
       "      <td>51371.037402</td>\n",
       "    </tr>\n",
       "    <tr>\n",
       "      <th>24</th>\n",
       "      <td>24.0</td>\n",
       "      <td>99.988616</td>\n",
       "      <td>51371.011384</td>\n",
       "    </tr>\n",
       "    <tr>\n",
       "      <th>25</th>\n",
       "      <td>25.0</td>\n",
       "      <td>100.012554</td>\n",
       "      <td>51370.987446</td>\n",
       "    </tr>\n",
       "    <tr>\n",
       "      <th>26</th>\n",
       "      <td>26.0</td>\n",
       "      <td>100.010030</td>\n",
       "      <td>51370.989970</td>\n",
       "    </tr>\n",
       "    <tr>\n",
       "      <th>27</th>\n",
       "      <td>27.0</td>\n",
       "      <td>100.002532</td>\n",
       "      <td>51370.997468</td>\n",
       "    </tr>\n",
       "    <tr>\n",
       "      <th>28</th>\n",
       "      <td>28.0</td>\n",
       "      <td>99.956618</td>\n",
       "      <td>51371.043382</td>\n",
       "    </tr>\n",
       "    <tr>\n",
       "      <th>29</th>\n",
       "      <td>29.0</td>\n",
       "      <td>100.041175</td>\n",
       "      <td>51370.958825</td>\n",
       "    </tr>\n",
       "    <tr>\n",
       "      <th>30</th>\n",
       "      <td>30.0</td>\n",
       "      <td>99.960508</td>\n",
       "      <td>51371.039492</td>\n",
       "    </tr>\n",
       "    <tr>\n",
       "      <th>31</th>\n",
       "      <td>31.0</td>\n",
       "      <td>100.049305</td>\n",
       "      <td>51370.950695</td>\n",
       "    </tr>\n",
       "    <tr>\n",
       "      <th>32</th>\n",
       "      <td>32.0</td>\n",
       "      <td>99.994569</td>\n",
       "      <td>51371.005431</td>\n",
       "    </tr>\n",
       "    <tr>\n",
       "      <th>33</th>\n",
       "      <td>33.0</td>\n",
       "      <td>100.077470</td>\n",
       "      <td>51370.922530</td>\n",
       "    </tr>\n",
       "    <tr>\n",
       "      <th>34</th>\n",
       "      <td>34.0</td>\n",
       "      <td>99.948660</td>\n",
       "      <td>51371.051340</td>\n",
       "    </tr>\n",
       "    <tr>\n",
       "      <th>35</th>\n",
       "      <td>35.0</td>\n",
       "      <td>100.062786</td>\n",
       "      <td>51370.937214</td>\n",
       "    </tr>\n",
       "    <tr>\n",
       "      <th>36</th>\n",
       "      <td>36.0</td>\n",
       "      <td>99.963885</td>\n",
       "      <td>51371.036115</td>\n",
       "    </tr>\n",
       "    <tr>\n",
       "      <th>37</th>\n",
       "      <td>37.0</td>\n",
       "      <td>100.130453</td>\n",
       "      <td>51370.869547</td>\n",
       "    </tr>\n",
       "    <tr>\n",
       "      <th>38</th>\n",
       "      <td>38.0</td>\n",
       "      <td>99.902591</td>\n",
       "      <td>51371.097409</td>\n",
       "    </tr>\n",
       "    <tr>\n",
       "      <th>39</th>\n",
       "      <td>39.0</td>\n",
       "      <td>100.078186</td>\n",
       "      <td>51370.921814</td>\n",
       "    </tr>\n",
       "    <tr>\n",
       "      <th>40</th>\n",
       "      <td>NaN</td>\n",
       "      <td>100.012436</td>\n",
       "      <td>51370.987564</td>\n",
       "    </tr>\n",
       "  </tbody>\n",
       "</table>\n",
       "</div>"
      ],
      "text/plain": [
       "    Time   Susceptible      Infected\n",
       "0    0.0  51470.000000      1.000000\n",
       "1    1.0    100.082114  51370.917886\n",
       "2    2.0     99.983087  51371.016913\n",
       "3    3.0     99.972175  51371.027825\n",
       "4    4.0    100.028668  51370.971332\n",
       "5    5.0     99.994626  51371.005374\n",
       "6    6.0    100.037271  51370.962729\n",
       "7    7.0     99.929631  51371.070369\n",
       "8    8.0    100.058304  51370.941696\n",
       "9    9.0     99.951281  51371.048719\n",
       "10  10.0    100.066634  51370.933366\n",
       "11  11.0     99.981870  51371.018130\n",
       "12  12.0    100.100661  51370.899339\n",
       "13  13.0     99.919146  51371.080854\n",
       "14  14.0    100.055539  51370.944461\n",
       "15  15.0     99.966443  51371.033557\n",
       "16  16.0    100.085172  51370.914828\n",
       "17  17.0     99.901921  51371.098079\n",
       "18  18.0    100.061856  51370.938144\n",
       "19  19.0     99.964564  51371.035436\n",
       "20  20.0    100.055279  51370.944721\n",
       "21  21.0     99.974192  51371.025808\n",
       "22  22.0    100.096844  51370.903156\n",
       "23  23.0     99.962598  51371.037402\n",
       "24  24.0     99.988616  51371.011384\n",
       "25  25.0    100.012554  51370.987446\n",
       "26  26.0    100.010030  51370.989970\n",
       "27  27.0    100.002532  51370.997468\n",
       "28  28.0     99.956618  51371.043382\n",
       "29  29.0    100.041175  51370.958825\n",
       "30  30.0     99.960508  51371.039492\n",
       "31  31.0    100.049305  51370.950695\n",
       "32  32.0     99.994569  51371.005431\n",
       "33  33.0    100.077470  51370.922530\n",
       "34  34.0     99.948660  51371.051340\n",
       "35  35.0    100.062786  51370.937214\n",
       "36  36.0     99.963885  51371.036115\n",
       "37  37.0    100.130453  51370.869547\n",
       "38  38.0     99.902591  51371.097409\n",
       "39  39.0    100.078186  51370.921814\n",
       "40   NaN    100.012436  51370.987564"
      ]
     },
     "execution_count": 43,
     "metadata": {},
     "output_type": "execute_result"
    }
   ],
   "source": [
    "df_solution_korea = (pd.DataFrame(data=[solution_korea_optimal.t, solution_korea.y[0], solution_korea.y[1] ])\n",
    "                      .T\n",
    "                      .rename(columns={0: \"Time\", 1: \"Susceptible\", 2 : \"Infected\"}))\n",
    "df_solution_korea"
   ]
  },
  {
   "cell_type": "code",
   "execution_count": 44,
   "metadata": {},
   "outputs": [
    {
     "data": {
      "image/png": "[encoded data removed]",
      "text/plain": [
       "<Figure size 864x360 with 1 Axes>"
      ]
     },
     "metadata": {
      "needs_background": "light"
     },
     "output_type": "display_data"
    }
   ],
   "source": [
    "fig = plt.figure(figsize=(12, 5))\n",
    "plt.plot(solution_korea_optimal.t, solution_korea_optimal.y[1])\n",
    "plt.plot(korea_df.loc[2:]['infected'].reset_index(drop=True).index, korea_df.loc[2:]['infected'], \"k*:\")\n",
    "plt.grid(\"True\")\n",
    "plt.legend([\"Infected\", \"Original Data\"])\n",
    "plt.show()"
   ]
  },
  {
   "cell_type": "markdown",
   "metadata": {},
   "source": [
    "Les résultats correspondent aux résultats théoriques du modèle SIS. En effet, avec un taux de guérison définitive nul, la population est rapidement contaminée dans son ensemble. En regardant les chiffres, on peut voir qu'il y a, d'une période à l'autre, une diminution puis une augmentation du nombre d'infectés: les quelques personnes guérissant contact immédiatement le virus de nouveau.\n",
    "<br>\n",
    "Enfin, nottons que nos resultats sont mitigés parceque la taille de la population à dû être modifiée par soucis de charge calculatoire."
   ]
  },
  {
   "cell_type": "markdown",
   "metadata": {},
   "source": [
    "### Le modèle SIS semble ne pas correspondre empiriquement à l'épidémie du coronavirus."
   ]
  }
 ],
 "metadata": {
  "kernelspec": {
   "display_name": "Python 3",
   "language": "python",
   "name": "python3"
  },
  "language_info": {
   "codemirror_mode": {
    "name": "ipython",
    "version": 3
   },
   "file_extension": ".py",
   "mimetype": "text/x-python",
   "name": "python",
   "nbconvert_exporter": "python",
   "pygments_lexer": "ipython3",
   "version": "3.7.3"
  }
 },
 "nbformat": 4,
 "nbformat_minor": 4
}
