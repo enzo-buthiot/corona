{
 "cells": [
  {
   "cell_type": "markdown",
   "metadata": {},
   "source": [
    "# Visualisation des données"
   ]
  },
  {
   "cell_type": "code",
   "execution_count": 129,
   "metadata": {},
   "outputs": [],
   "source": [
    "import os\n",
    "\n",
    "import pandas as pd"
   ]
  },
  {
   "cell_type": "code",
   "execution_count": 130,
   "metadata": {},
   "outputs": [],
   "source": [
    "# Répertoire du fichier de données\n",
    "PROCESSED_DIR = '/Users/EnzoButhiot/Documents/AMSE/MAG3/S2/Projet_mignot/corona/data/processed/'\n",
    "\n",
    "# Table principale\n",
    "ALL_DATA_FILE = 'all_data.csv'"
   ]
  },
  {
   "cell_type": "code",
   "execution_count": 131,
   "metadata": {},
   "outputs": [],
   "source": [
    "epidemie_df = (pd.read_csv(os.path.join(PROCESSED_DIR, ALL_DATA_FILE), parse_dates=['Last Update'])\n",
    "               .assign(day=lambda _df: _df['Last Update'].dt.date))"
   ]
  },
  {
   "cell_type": "code",
   "execution_count": 132,
   "metadata": {},
   "outputs": [
    {
     "data": {
      "text/html": [
       "<div>\n",
       "<style scoped>\n",
       "    .dataframe tbody tr th:only-of-type {\n",
       "        vertical-align: middle;\n",
       "    }\n",
       "\n",
       "    .dataframe tbody tr th {\n",
       "        vertical-align: top;\n",
       "    }\n",
       "\n",
       "    .dataframe thead th {\n",
       "        text-align: right;\n",
       "    }\n",
       "</style>\n",
       "<table border=\"1\" class=\"dataframe\">\n",
       "  <thead>\n",
       "    <tr style=\"text-align: right;\">\n",
       "      <th></th>\n",
       "      <th>Province/State</th>\n",
       "      <th>Country/Region</th>\n",
       "      <th>Last Update</th>\n",
       "      <th>Confirmed</th>\n",
       "      <th>Deaths</th>\n",
       "      <th>Recovered</th>\n",
       "      <th>Latitude</th>\n",
       "      <th>Longitude</th>\n",
       "      <th>source</th>\n",
       "      <th>day</th>\n",
       "    </tr>\n",
       "  </thead>\n",
       "  <tbody>\n",
       "    <tr>\n",
       "      <th>0</th>\n",
       "      <td>Liaoning</td>\n",
       "      <td>Mainland China</td>\n",
       "      <td>2020-01-22 17:00:00</td>\n",
       "      <td>2.0</td>\n",
       "      <td>NaN</td>\n",
       "      <td>NaN</td>\n",
       "      <td>41.2956</td>\n",
       "      <td>122.6085</td>\n",
       "      <td>01-22-2020.csv</td>\n",
       "      <td>2020-01-22</td>\n",
       "    </tr>\n",
       "    <tr>\n",
       "      <th>1</th>\n",
       "      <td>Ningxia</td>\n",
       "      <td>Mainland China</td>\n",
       "      <td>2020-01-22 17:00:00</td>\n",
       "      <td>1.0</td>\n",
       "      <td>NaN</td>\n",
       "      <td>NaN</td>\n",
       "      <td>37.2692</td>\n",
       "      <td>106.1655</td>\n",
       "      <td>01-22-2020.csv</td>\n",
       "      <td>2020-01-22</td>\n",
       "    </tr>\n",
       "    <tr>\n",
       "      <th>2</th>\n",
       "      <td>Qinghai</td>\n",
       "      <td>Mainland China</td>\n",
       "      <td>2020-01-22 17:00:00</td>\n",
       "      <td>NaN</td>\n",
       "      <td>NaN</td>\n",
       "      <td>NaN</td>\n",
       "      <td>35.7452</td>\n",
       "      <td>95.9956</td>\n",
       "      <td>01-22-2020.csv</td>\n",
       "      <td>2020-01-22</td>\n",
       "    </tr>\n",
       "    <tr>\n",
       "      <th>3</th>\n",
       "      <td>Shaanxi</td>\n",
       "      <td>Mainland China</td>\n",
       "      <td>2020-01-22 17:00:00</td>\n",
       "      <td>NaN</td>\n",
       "      <td>NaN</td>\n",
       "      <td>NaN</td>\n",
       "      <td>35.1917</td>\n",
       "      <td>108.8701</td>\n",
       "      <td>01-22-2020.csv</td>\n",
       "      <td>2020-01-22</td>\n",
       "    </tr>\n",
       "    <tr>\n",
       "      <th>4</th>\n",
       "      <td>Shandong</td>\n",
       "      <td>Mainland China</td>\n",
       "      <td>2020-01-22 17:00:00</td>\n",
       "      <td>2.0</td>\n",
       "      <td>NaN</td>\n",
       "      <td>NaN</td>\n",
       "      <td>36.3427</td>\n",
       "      <td>118.1498</td>\n",
       "      <td>01-22-2020.csv</td>\n",
       "      <td>2020-01-22</td>\n",
       "    </tr>\n",
       "  </tbody>\n",
       "</table>\n",
       "</div>"
      ],
      "text/plain": [
       "  Province/State  Country/Region         Last Update  Confirmed  Deaths  \\\n",
       "0       Liaoning  Mainland China 2020-01-22 17:00:00        2.0     NaN   \n",
       "1        Ningxia  Mainland China 2020-01-22 17:00:00        1.0     NaN   \n",
       "2        Qinghai  Mainland China 2020-01-22 17:00:00        NaN     NaN   \n",
       "3        Shaanxi  Mainland China 2020-01-22 17:00:00        NaN     NaN   \n",
       "4       Shandong  Mainland China 2020-01-22 17:00:00        2.0     NaN   \n",
       "\n",
       "   Recovered  Latitude  Longitude          source         day  \n",
       "0        NaN   41.2956   122.6085  01-22-2020.csv  2020-01-22  \n",
       "1        NaN   37.2692   106.1655  01-22-2020.csv  2020-01-22  \n",
       "2        NaN   35.7452    95.9956  01-22-2020.csv  2020-01-22  \n",
       "3        NaN   35.1917   108.8701  01-22-2020.csv  2020-01-22  \n",
       "4        NaN   36.3427   118.1498  01-22-2020.csv  2020-01-22  "
      ]
     },
     "execution_count": 132,
     "metadata": {},
     "output_type": "execute_result"
    }
   ],
   "source": [
    "epidemie_df.head()"
   ]
  },
  {
   "cell_type": "code",
   "execution_count": 108,
   "metadata": {},
   "outputs": [
    {
     "data": {
      "text/plain": [
       "Province/State            object\n",
       "Country/Region            object\n",
       "Last Update       datetime64[ns]\n",
       "Confirmed                float64\n",
       "Deaths                   float64\n",
       "Recovered                float64\n",
       "Latitude                 float64\n",
       "Longitude                float64\n",
       "source                    object\n",
       "day                       object\n",
       "dtype: object"
      ]
     },
     "execution_count": 108,
     "metadata": {},
     "output_type": "execute_result"
    }
   ],
   "source": [
    "epidemie_df.dtypes"
   ]
  },
  {
   "cell_type": "code",
   "execution_count": 109,
   "metadata": {},
   "outputs": [
    {
     "data": {
      "text/plain": [
       "US                     1560\n",
       "Mainland China         1517\n",
       "China                   363\n",
       "Australia               314\n",
       "Canada                  242\n",
       "                       ... \n",
       "Taipei and environs       1\n",
       "Ivory Coast               1\n",
       "Uganda                    1\n",
       "Viet Nam                  1\n",
       "Russian Federation        1\n",
       "Name: Country/Region, Length: 210, dtype: int64"
      ]
     },
     "execution_count": 109,
     "metadata": {},
     "output_type": "execute_result"
    }
   ],
   "source": [
    "epidemie_df['Country/Region'].value_counts()"
   ]
  },
  {
   "cell_type": "markdown",
   "metadata": {},
   "source": [
    "## Epidémie en France"
   ]
  },
  {
   "cell_type": "code",
   "execution_count": 68,
   "metadata": {},
   "outputs": [
    {
     "name": "stdout",
     "output_type": "stream",
     "text": [
      "Requirement already satisfied: seaborn in /anaconda3/lib/python3.6/site-packages\n",
      "Requirement already satisfied: matplotlib>=1.4.3 in /anaconda3/lib/python3.6/site-packages (from seaborn)\n",
      "Requirement already satisfied: numpy>=1.9.3 in /anaconda3/lib/python3.6/site-packages (from seaborn)\n",
      "Requirement already satisfied: scipy>=0.14.0 in /anaconda3/lib/python3.6/site-packages (from seaborn)\n",
      "Requirement already satisfied: pandas>=0.15.2 in /anaconda3/lib/python3.6/site-packages (from seaborn)\n",
      "Requirement already satisfied: kiwisolver>=1.0.1 in /anaconda3/lib/python3.6/site-packages (from matplotlib>=1.4.3->seaborn)\n",
      "Requirement already satisfied: python-dateutil>=2.1 in /anaconda3/lib/python3.6/site-packages (from matplotlib>=1.4.3->seaborn)\n",
      "Requirement already satisfied: cycler>=0.10 in /anaconda3/lib/python3.6/site-packages (from matplotlib>=1.4.3->seaborn)\n",
      "Requirement already satisfied: pyparsing!=2.0.4,!=2.1.2,!=2.1.6,>=2.0.1 in /anaconda3/lib/python3.6/site-packages (from matplotlib>=1.4.3->seaborn)\n",
      "Requirement already satisfied: pytz>=2017.2 in /anaconda3/lib/python3.6/site-packages (from pandas>=0.15.2->seaborn)\n",
      "Requirement already satisfied: setuptools in /anaconda3/lib/python3.6/site-packages (from kiwisolver>=1.0.1->matplotlib>=1.4.3->seaborn)\n",
      "Requirement already satisfied: six>=1.5 in /anaconda3/lib/python3.6/site-packages (from python-dateutil>=2.1->matplotlib>=1.4.3->seaborn)\n"
     ]
    }
   ],
   "source": [
    "! pip install seaborn"
   ]
  },
  {
   "cell_type": "code",
   "execution_count": 110,
   "metadata": {},
   "outputs": [],
   "source": [
    "import seaborn as sns\n",
    "\n",
    "sns.set()"
   ]
  },
  {
   "cell_type": "code",
   "execution_count": 111,
   "metadata": {},
   "outputs": [],
   "source": [
    "import matplotlib.pyplot as plt"
   ]
  },
  {
   "cell_type": "code",
   "execution_count": 112,
   "metadata": {},
   "outputs": [],
   "source": [
    "%matplotlib inline"
   ]
  },
  {
   "cell_type": "code",
   "execution_count": 113,
   "metadata": {},
   "outputs": [
    {
     "data": {
      "text/html": [
       "<div>\n",
       "<style scoped>\n",
       "    .dataframe tbody tr th:only-of-type {\n",
       "        vertical-align: middle;\n",
       "    }\n",
       "\n",
       "    .dataframe tbody tr th {\n",
       "        vertical-align: top;\n",
       "    }\n",
       "\n",
       "    .dataframe thead th {\n",
       "        text-align: right;\n",
       "    }\n",
       "</style>\n",
       "<table border=\"1\" class=\"dataframe\">\n",
       "  <thead>\n",
       "    <tr style=\"text-align: right;\">\n",
       "      <th></th>\n",
       "      <th>Province/State</th>\n",
       "      <th>Country/Region</th>\n",
       "      <th>Last Update</th>\n",
       "      <th>Confirmed</th>\n",
       "      <th>Deaths</th>\n",
       "      <th>Recovered</th>\n",
       "      <th>Latitude</th>\n",
       "      <th>Longitude</th>\n",
       "      <th>source</th>\n",
       "      <th>day</th>\n",
       "    </tr>\n",
       "  </thead>\n",
       "  <tbody>\n",
       "    <tr>\n",
       "      <th>6438</th>\n",
       "      <td>France</td>\n",
       "      <td>France</td>\n",
       "      <td>2020-03-21 20:43:02</td>\n",
       "      <td>14282.0</td>\n",
       "      <td>562.0</td>\n",
       "      <td>12.0</td>\n",
       "      <td>46.2276</td>\n",
       "      <td>2.2137</td>\n",
       "      <td>03-21-2020.csv</td>\n",
       "      <td>2020-03-21</td>\n",
       "    </tr>\n",
       "    <tr>\n",
       "      <th>6139</th>\n",
       "      <td>France</td>\n",
       "      <td>France</td>\n",
       "      <td>2020-03-20 22:43:03</td>\n",
       "      <td>12612.0</td>\n",
       "      <td>450.0</td>\n",
       "      <td>12.0</td>\n",
       "      <td>46.2276</td>\n",
       "      <td>2.2137</td>\n",
       "      <td>03-20-2020.csv</td>\n",
       "      <td>2020-03-20</td>\n",
       "    </tr>\n",
       "    <tr>\n",
       "      <th>4313</th>\n",
       "      <td>France</td>\n",
       "      <td>France</td>\n",
       "      <td>2020-03-19 20:43:02</td>\n",
       "      <td>10871.0</td>\n",
       "      <td>243.0</td>\n",
       "      <td>12.0</td>\n",
       "      <td>46.2276</td>\n",
       "      <td>2.2137</td>\n",
       "      <td>03-19-2020.csv</td>\n",
       "      <td>2020-03-19</td>\n",
       "    </tr>\n",
       "    <tr>\n",
       "      <th>4605</th>\n",
       "      <td>France</td>\n",
       "      <td>France</td>\n",
       "      <td>2020-03-18 18:33:02</td>\n",
       "      <td>9043.0</td>\n",
       "      <td>148.0</td>\n",
       "      <td>12.0</td>\n",
       "      <td>46.2276</td>\n",
       "      <td>2.2137</td>\n",
       "      <td>03-18-2020.csv</td>\n",
       "      <td>2020-03-18</td>\n",
       "    </tr>\n",
       "    <tr>\n",
       "      <th>2181</th>\n",
       "      <td>France</td>\n",
       "      <td>France</td>\n",
       "      <td>2020-03-17 19:13:08</td>\n",
       "      <td>7652.0</td>\n",
       "      <td>148.0</td>\n",
       "      <td>12.0</td>\n",
       "      <td>46.2276</td>\n",
       "      <td>2.2137</td>\n",
       "      <td>03-17-2020.csv</td>\n",
       "      <td>2020-03-17</td>\n",
       "    </tr>\n",
       "  </tbody>\n",
       "</table>\n",
       "</div>"
      ],
      "text/plain": [
       "     Province/State Country/Region         Last Update  Confirmed  Deaths  \\\n",
       "6438         France         France 2020-03-21 20:43:02    14282.0   562.0   \n",
       "6139         France         France 2020-03-20 22:43:03    12612.0   450.0   \n",
       "4313         France         France 2020-03-19 20:43:02    10871.0   243.0   \n",
       "4605         France         France 2020-03-18 18:33:02     9043.0   148.0   \n",
       "2181         France         France 2020-03-17 19:13:08     7652.0   148.0   \n",
       "\n",
       "      Recovered  Latitude  Longitude          source         day  \n",
       "6438       12.0   46.2276     2.2137  03-21-2020.csv  2020-03-21  \n",
       "6139       12.0   46.2276     2.2137  03-20-2020.csv  2020-03-20  \n",
       "4313       12.0   46.2276     2.2137  03-19-2020.csv  2020-03-19  \n",
       "4605       12.0   46.2276     2.2137  03-18-2020.csv  2020-03-18  \n",
       "2181       12.0   46.2276     2.2137  03-17-2020.csv  2020-03-17  "
      ]
     },
     "execution_count": 113,
     "metadata": {},
     "output_type": "execute_result"
    }
   ],
   "source": [
    "\n",
    "epidemie_df[(epidemie_df['Country/Region'] == 'France') & (epidemie_df['Province/State'] == 'France')] \\\n",
    ".sort_values('day', ascending=False).head()\n",
    "\n",
    "\n",
    "\n"
   ]
  },
  {
   "cell_type": "code",
   "execution_count": 114,
   "metadata": {},
   "outputs": [
    {
     "data": {
      "text/plain": [
       "(    Province/State Country/Region         Last Update  Confirmed  Deaths  \\\n",
       " 43             NaN         France 2020-02-26 20:03:06       18.0     2.0   \n",
       " 141            NaN         France 2020-02-27 22:13:10       38.0     2.0   \n",
       " 246            NaN         France 2020-02-15 20:53:02       12.0     1.0   \n",
       " 321            NaN         France 2020-02-15 20:53:02       12.0     1.0   \n",
       " 361            NaN         France 2020-03-10 18:53:02     1784.0    33.0   \n",
       " \n",
       "      Recovered  Latitude  Longitude          source         day  \n",
       " 43        11.0      47.0        2.0  02-26-2020.csv  2020-02-26  \n",
       " 141       11.0      47.0        2.0  02-27-2020.csv  2020-02-27  \n",
       " 246        4.0      47.0        2.0  02-18-2020.csv  2020-02-15  \n",
       " 321        4.0      47.0        2.0  02-19-2020.csv  2020-02-15  \n",
       " 361       12.0      47.0        2.0  03-10-2020.csv  2020-03-10  ,\n",
       "      Province/State Country/Region         Last Update  Confirmed  Deaths  \\\n",
       " 6760            NaN         France 2020-03-03 15:23:03      204.0     4.0   \n",
       " 6911            NaN         France 2020-03-02 20:33:02      191.0     3.0   \n",
       " 7068            NaN         France 2020-02-01 01:52:00        6.0     0.0   \n",
       " 7103            NaN         France 2020-03-09 00:43:03     1209.0    19.0   \n",
       " 7369            NaN         France 2020-03-08 18:03:04     1126.0    19.0   \n",
       " \n",
       "       Recovered  Latitude  Longitude          source         day  \n",
       " 6760       12.0      47.0        2.0  03-03-2020.csv  2020-03-03  \n",
       " 6911       12.0      47.0        2.0  03-02-2020.csv  2020-03-02  \n",
       " 7068        0.0      47.0        2.0  02-01-2020.csv  2020-02-01  \n",
       " 7103       12.0      47.0        2.0  03-09-2020.csv  2020-03-09  \n",
       " 7369       12.0      47.0        2.0  03-08-2020.csv  2020-03-08  )"
      ]
     },
     "execution_count": 114,
     "metadata": {},
     "output_type": "execute_result"
    }
   ],
   "source": [
    "france_df.head(), france_df.tail()\n"
   ]
  },
  {
   "cell_type": "code",
   "execution_count": 74,
   "metadata": {},
   "outputs": [
    {
     "data": {
      "image/png": "[encoded data removed]",
      "text/plain": [
       "<Figure size 720x360 with 1 Axes>"
      ]
     },
     "metadata": {
      "needs_background": "light"
     },
     "output_type": "display_data"
    }
   ],
   "source": [
    "epidemie_df[epidemie_df['Country/Region'] == 'France'].set_index('day')['Confirmed'].plot(figsize=(10, 5));"
   ]
  },
  {
   "cell_type": "code",
   "execution_count": 75,
   "metadata": {},
   "outputs": [
    {
     "data": {
      "image/png": "[encoded data removed]",
      "text/plain": [
       "<Figure size 1080x360 with 1 Axes>"
      ]
     },
     "metadata": {
      "needs_background": "light"
     },
     "output_type": "display_data"
    }
   ],
   "source": [
    "epidemie_df[epidemie_df['Country/Region'] == 'Italy'].set_index('day')['Confirmed'].plot(figsize=(15, 5));"
   ]
  },
  {
   "cell_type": "code",
   "execution_count": 76,
   "metadata": {},
   "outputs": [
    {
     "data": {
      "image/png": "[encoded data removed]",
      "text/plain": [
       "<Figure size 1080x360 with 1 Axes>"
      ]
     },
     "metadata": {
      "needs_background": "light"
     },
     "output_type": "display_data"
    }
   ],
   "source": [
    "epidemie_df[epidemie_df['Country/Region'] == 'Mainland China'].set_index('day')['Confirmed'].plot(figsize=(15, 5));"
   ]
  },
  {
   "cell_type": "code",
   "execution_count": 77,
   "metadata": {},
   "outputs": [
    {
     "data": {
      "image/png": "[encoded data removed]",
      "text/plain": [
       "<Figure size 864x360 with 1 Axes>"
      ]
     },
     "metadata": {
      "needs_background": "light"
     },
     "output_type": "display_data"
    }
   ],
   "source": [
    "(epidemie_df[epidemie_df['Country/Region'] == 'Mainland China']\n",
    " .groupby('day')\n",
    " .agg({'Confirmed': 'sum'})\n",
    ").plot(figsize=(12, 5));"
   ]
  },
  {
   "cell_type": "code",
   "execution_count": 78,
   "metadata": {},
   "outputs": [
    {
     "data": {
      "image/png": "[encoded data removed]",
      "text/plain": [
       "<Figure size 864x360 with 1 Axes>"
      ]
     },
     "metadata": {
      "needs_background": "light"
     },
     "output_type": "display_data"
    }
   ],
   "source": [
    "(epidemie_df[epidemie_df['Country/Region'] == 'Mainland China']\n",
    " .fillna(value=0)\n",
    " .groupby('day')\n",
    " .agg({'Confirmed': 'sum', 'Deaths': 'sum'})\n",
    ").plot(figsize=(12, 5));"
   ]
  },
  {
   "cell_type": "code",
   "execution_count": 79,
   "metadata": {},
   "outputs": [
    {
     "data": {
      "image/png": "[encoded data removed]",
      "text/plain": [
       "<Figure size 720x360 with 1 Axes>"
      ]
     },
     "metadata": {
      "needs_background": "light"
     },
     "output_type": "display_data"
    }
   ],
   "source": [
    "epidemie_df[epidemie_df['Country/Region'] == 'France'].set_index('day')[ ['Confirmed', 'Deaths'] ].plot(figsize=(10, 5));"
   ]
  },
  {
   "cell_type": "code",
   "execution_count": 80,
   "metadata": {},
   "outputs": [
    {
     "data": {
      "image/png": "[encoded data removed]",
      "text/plain": [
       "<Figure size 720x360 with 2 Axes>"
      ]
     },
     "metadata": {
      "needs_background": "light"
     },
     "output_type": "display_data"
    }
   ],
   "source": [
    "(epidemie_df[epidemie_df['Country/Region'] == 'France']\n",
    " .set_index('day')[ ['Confirmed', 'Deaths'] ]\n",
    " .plot(secondary_y=['Deaths'], figsize=(10, 5))\n",
    ");"
   ]
  },
  {
   "cell_type": "code",
   "execution_count": 81,
   "metadata": {},
   "outputs": [
    {
     "data": {
      "image/png": "[encoded data removed]",
      "text/plain": [
       "<Figure size 720x360 with 2 Axes>"
      ]
     },
     "metadata": {
      "needs_background": "light"
     },
     "output_type": "display_data"
    }
   ],
   "source": [
    "(epidemie_df[epidemie_df['Country/Region'] == 'France']\n",
    " .set_index('day')[ ['Confirmed', 'Recovered'] ]\n",
    " .plot(secondary_y=['Recovered'], figsize=(10, 5))\n",
    ");"
   ]
  },
  {
   "cell_type": "code",
   "execution_count": 82,
   "metadata": {},
   "outputs": [],
   "source": [
    "china_df = (epidemie_df[epidemie_df['Country/Region'] == 'Mainland China']\n",
    "            .groupby('day')\n",
    "            .agg({'Confirmed': 'sum', 'Deaths': 'sum', 'Recovered': 'sum'})\n",
    "           )"
   ]
  },
  {
   "cell_type": "code",
   "execution_count": 83,
   "metadata": {},
   "outputs": [
    {
     "data": {
      "text/html": [
       "<div>\n",
       "<style scoped>\n",
       "    .dataframe tbody tr th:only-of-type {\n",
       "        vertical-align: middle;\n",
       "    }\n",
       "\n",
       "    .dataframe tbody tr th {\n",
       "        vertical-align: top;\n",
       "    }\n",
       "\n",
       "    .dataframe thead th {\n",
       "        text-align: right;\n",
       "    }\n",
       "</style>\n",
       "<table border=\"1\" class=\"dataframe\">\n",
       "  <thead>\n",
       "    <tr style=\"text-align: right;\">\n",
       "      <th></th>\n",
       "      <th>Confirmed</th>\n",
       "      <th>Deaths</th>\n",
       "      <th>Recovered</th>\n",
       "    </tr>\n",
       "    <tr>\n",
       "      <th>day</th>\n",
       "      <th></th>\n",
       "      <th></th>\n",
       "      <th></th>\n",
       "    </tr>\n",
       "  </thead>\n",
       "  <tbody>\n",
       "    <tr>\n",
       "      <th>2020-01-22</th>\n",
       "      <td>547.0</td>\n",
       "      <td>17.0</td>\n",
       "      <td>28.0</td>\n",
       "    </tr>\n",
       "    <tr>\n",
       "      <th>2020-01-23</th>\n",
       "      <td>639.0</td>\n",
       "      <td>18.0</td>\n",
       "      <td>30.0</td>\n",
       "    </tr>\n",
       "    <tr>\n",
       "      <th>2020-01-24</th>\n",
       "      <td>916.0</td>\n",
       "      <td>26.0</td>\n",
       "      <td>36.0</td>\n",
       "    </tr>\n",
       "    <tr>\n",
       "      <th>2020-01-25</th>\n",
       "      <td>1399.0</td>\n",
       "      <td>42.0</td>\n",
       "      <td>39.0</td>\n",
       "    </tr>\n",
       "    <tr>\n",
       "      <th>2020-01-26</th>\n",
       "      <td>2062.0</td>\n",
       "      <td>56.0</td>\n",
       "      <td>49.0</td>\n",
       "    </tr>\n",
       "  </tbody>\n",
       "</table>\n",
       "</div>"
      ],
      "text/plain": [
       "            Confirmed  Deaths  Recovered\n",
       "day                                     \n",
       "2020-01-22      547.0    17.0       28.0\n",
       "2020-01-23      639.0    18.0       30.0\n",
       "2020-01-24      916.0    26.0       36.0\n",
       "2020-01-25     1399.0    42.0       39.0\n",
       "2020-01-26     2062.0    56.0       49.0"
      ]
     },
     "execution_count": 83,
     "metadata": {},
     "output_type": "execute_result"
    }
   ],
   "source": [
    "china_df.head()"
   ]
  },
  {
   "cell_type": "code",
   "execution_count": 84,
   "metadata": {},
   "outputs": [
    {
     "data": {
      "image/png": "[encoded data removed]",
      "text/plain": [
       "<Figure size 864x360 with 2 Axes>"
      ]
     },
     "metadata": {
      "needs_background": "light"
     },
     "output_type": "display_data"
    }
   ],
   "source": [
    "china_df.plot(secondary_y=['Deaths'], figsize=(12, 5));"
   ]
  },
  {
   "cell_type": "code",
   "execution_count": 85,
   "metadata": {},
   "outputs": [
    {
     "data": {
      "image/png": "[encoded data removed]",
      "text/plain": [
       "<Figure size 864x360 with 2 Axes>"
      ]
     },
     "metadata": {
      "needs_background": "light"
     },
     "output_type": "display_data"
    }
   ],
   "source": [
    "(china_df\n",
    " .assign(death_rate=lambda _df: _df['Deaths'] / _df['Confirmed'])\n",
    " [['Confirmed', 'death_rate']]\n",
    " .plot(secondary_y=['death_rate'], figsize=(12, 5))\n",
    ");"
   ]
  },
  {
   "cell_type": "code",
   "execution_count": 86,
   "metadata": {},
   "outputs": [
    {
     "data": {
      "image/png": "[encoded data removed]",
      "text/plain": [
       "<Figure size 864x360 with 1 Axes>"
      ]
     },
     "metadata": {
      "needs_background": "light"
     },
     "output_type": "display_data"
    }
   ],
   "source": [
    "plt.figure(figsize=(12, 5))\n",
    "sns.lineplot(data=epidemie_df[epidemie_df['Country/Region'] == 'France'].set_index('day')['Confirmed']);"
   ]
  },
  {
   "cell_type": "code",
   "execution_count": 87,
   "metadata": {},
   "outputs": [
    {
     "data": {
      "text/html": [
       "<div>\n",
       "<style scoped>\n",
       "    .dataframe tbody tr th:only-of-type {\n",
       "        vertical-align: middle;\n",
       "    }\n",
       "\n",
       "    .dataframe tbody tr th {\n",
       "        vertical-align: top;\n",
       "    }\n",
       "\n",
       "    .dataframe thead th {\n",
       "        text-align: right;\n",
       "    }\n",
       "</style>\n",
       "<table border=\"1\" class=\"dataframe\">\n",
       "  <thead>\n",
       "    <tr style=\"text-align: right;\">\n",
       "      <th></th>\n",
       "      <th></th>\n",
       "      <th>Confirmed</th>\n",
       "      <th>Deaths</th>\n",
       "      <th>Recovered</th>\n",
       "    </tr>\n",
       "    <tr>\n",
       "      <th>Country/Region</th>\n",
       "      <th>day</th>\n",
       "      <th></th>\n",
       "      <th></th>\n",
       "      <th></th>\n",
       "    </tr>\n",
       "  </thead>\n",
       "  <tbody>\n",
       "    <tr>\n",
       "      <th>Azerbaijan</th>\n",
       "      <th>2020-02-28</th>\n",
       "      <td>1.0</td>\n",
       "      <td>0.0</td>\n",
       "      <td>0.0</td>\n",
       "    </tr>\n",
       "    <tr>\n",
       "      <th rowspan=\"4\" valign=\"top\">Afghanistan</th>\n",
       "      <th>2020-02-24</th>\n",
       "      <td>13.0</td>\n",
       "      <td>0.0</td>\n",
       "      <td>0.0</td>\n",
       "    </tr>\n",
       "    <tr>\n",
       "      <th>2020-03-08</th>\n",
       "      <td>8.0</td>\n",
       "      <td>0.0</td>\n",
       "      <td>0.0</td>\n",
       "    </tr>\n",
       "    <tr>\n",
       "      <th>2020-03-10</th>\n",
       "      <td>5.0</td>\n",
       "      <td>0.0</td>\n",
       "      <td>0.0</td>\n",
       "    </tr>\n",
       "    <tr>\n",
       "      <th>2020-03-11</th>\n",
       "      <td>21.0</td>\n",
       "      <td>0.0</td>\n",
       "      <td>0.0</td>\n",
       "    </tr>\n",
       "    <tr>\n",
       "      <th>...</th>\n",
       "      <th>...</th>\n",
       "      <td>...</td>\n",
       "      <td>...</td>\n",
       "      <td>...</td>\n",
       "    </tr>\n",
       "    <tr>\n",
       "      <th>Zambia</th>\n",
       "      <th>2020-03-19</th>\n",
       "      <td>6.0</td>\n",
       "      <td>0.0</td>\n",
       "      <td>0.0</td>\n",
       "    </tr>\n",
       "    <tr>\n",
       "      <th rowspan=\"2\" valign=\"top\">Zimbabwe</th>\n",
       "      <th>2020-03-20</th>\n",
       "      <td>1.0</td>\n",
       "      <td>0.0</td>\n",
       "      <td>0.0</td>\n",
       "    </tr>\n",
       "    <tr>\n",
       "      <th>2020-03-21</th>\n",
       "      <td>3.0</td>\n",
       "      <td>0.0</td>\n",
       "      <td>0.0</td>\n",
       "    </tr>\n",
       "    <tr>\n",
       "      <th rowspan=\"2\" valign=\"top\">occupied Palestinian territory</th>\n",
       "      <th>2020-03-10</th>\n",
       "      <td>25.0</td>\n",
       "      <td>0.0</td>\n",
       "      <td>0.0</td>\n",
       "    </tr>\n",
       "    <tr>\n",
       "      <th>2020-03-11</th>\n",
       "      <td>0.0</td>\n",
       "      <td>0.0</td>\n",
       "      <td>0.0</td>\n",
       "    </tr>\n",
       "  </tbody>\n",
       "</table>\n",
       "<p>2313 rows × 3 columns</p>\n",
       "</div>"
      ],
      "text/plain": [
       "                                           Confirmed  Deaths  Recovered\n",
       "Country/Region                 day                                     \n",
       " Azerbaijan                    2020-02-28        1.0     0.0        0.0\n",
       "Afghanistan                    2020-02-24       13.0     0.0        0.0\n",
       "                               2020-03-08        8.0     0.0        0.0\n",
       "                               2020-03-10        5.0     0.0        0.0\n",
       "                               2020-03-11       21.0     0.0        0.0\n",
       "...                                              ...     ...        ...\n",
       "Zambia                         2020-03-19        6.0     0.0        0.0\n",
       "Zimbabwe                       2020-03-20        1.0     0.0        0.0\n",
       "                               2020-03-21        3.0     0.0        0.0\n",
       "occupied Palestinian territory 2020-03-10       25.0     0.0        0.0\n",
       "                               2020-03-11        0.0     0.0        0.0\n",
       "\n",
       "[2313 rows x 3 columns]"
      ]
     },
     "execution_count": 87,
     "metadata": {},
     "output_type": "execute_result"
    }
   ],
   "source": [
    "epidemie_df.groupby(['Country/Region', 'day']).agg({'Confirmed': 'sum', 'Deaths': 'sum', 'Recovered': 'sum'})"
   ]
  },
  {
   "cell_type": "code",
   "execution_count": 88,
   "metadata": {},
   "outputs": [],
   "source": [
    "EUROPE = ['France', 'Germany', 'UK', 'Spain']"
   ]
  },
  {
   "cell_type": "code",
   "execution_count": 89,
   "metadata": {},
   "outputs": [
    {
     "data": {
      "image/png": "[encoded data removed]",
      "text/plain": [
       "<Figure size 900x360 with 4 Axes>"
      ]
     },
     "metadata": {
      "needs_background": "light"
     },
     "output_type": "display_data"
    }
   ],
   "source": [
    "import matplotlib.pyplot as plt\n",
    "\n",
    "g = sns.FacetGrid(epidemie_df[epidemie_df['Country/Region'].isin(EUROPE)],\n",
    "                  col=\"Country/Region\", col_wrap=2, height=2.5, aspect=2.5)\n",
    "g = g.map(plt.plot, \"day\", \"Confirmed\");"
   ]
  },
  {
   "cell_type": "code",
   "execution_count": 90,
   "metadata": {},
   "outputs": [],
   "source": [
    "import plotly.offline as py\n",
    "import plotly.graph_objs as go"
   ]
  },
  {
   "cell_type": "code",
   "execution_count": 91,
   "metadata": {},
   "outputs": [],
   "source": [
    "france_df = epidemie_df[epidemie_df['Country/Region'] == 'France']"
   ]
  },
  {
   "cell_type": "code",
   "execution_count": 92,
   "metadata": {},
   "outputs": [
    {
     "data": {
      "application/vnd.plotly.v1+json": {
       "config": {
        "linkText": "Export to plot.ly",
        "plotlyServerURL": "https://plot.ly",
        "showLink": false
       },
       "data": [
        {
         "name": "Cas confirmés en France",
         "type": "scatter",
         "x": [
          "2020-02-26",
          "2020-02-27",
          "2020-02-15",
          "2020-02-15",
          "2020-03-10",
          "2020-03-11",
          "2020-03-11",
          "2020-03-11",
          "2020-02-12",
          "2020-02-12",
          "2020-03-07",
          "2020-03-06",
          "2020-02-01",
          "2020-02-01",
          "2020-02-08",
          "2020-02-08",
          "2020-03-01",
          "2020-02-01",
          "2020-02-01",
          "2020-01-31",
          "2020-01-30",
          "2020-02-15",
          "2020-02-15",
          "2020-03-17",
          "2020-03-17",
          "2020-03-17",
          "2020-03-17",
          "2020-03-15",
          "2020-03-16",
          "2020-03-14",
          "2020-03-16",
          "2020-03-16",
          "2020-03-16",
          "2020-03-15",
          "2020-03-16",
          "2020-03-16",
          "2020-03-14",
          "2020-03-16",
          "2020-02-15",
          "2020-02-12",
          "2020-01-26",
          "2020-01-27",
          "2020-03-04",
          "2020-03-05",
          "2020-02-01",
          "2020-02-01",
          "2020-03-11",
          "2020-03-11",
          "2020-03-11",
          "2020-03-11",
          "2020-03-11",
          "2020-03-11",
          "2020-03-11",
          "2020-02-08",
          "2020-02-08",
          "2020-02-25",
          "2020-02-15",
          "2020-03-19",
          "2020-03-19",
          "2020-03-19",
          "2020-03-16",
          "2020-03-19",
          "2020-03-18",
          "2020-03-18",
          "2020-03-18",
          "2020-03-18",
          "2020-03-18",
          "2020-03-15",
          "2020-03-16",
          "2020-03-18",
          "2020-03-18",
          "2020-03-18",
          "2020-03-18",
          "2020-03-18",
          "2020-01-28",
          "2020-01-29",
          "2020-02-28",
          "2020-02-29",
          "2020-03-14",
          "2020-03-14",
          "2020-03-14",
          "2020-03-14",
          "2020-03-14",
          "2020-03-15",
          "2020-03-15",
          "2020-03-15",
          "2020-03-14",
          "2020-03-14",
          "2020-03-14",
          "2020-01-25",
          "2020-01-24",
          "2020-02-15",
          "2020-02-15",
          "2020-02-15",
          "2020-02-15",
          "2020-03-20",
          "2020-03-20",
          "2020-03-19",
          "2020-03-16",
          "2020-03-19",
          "2020-03-18",
          "2020-03-18",
          "2020-03-18",
          "2020-03-18",
          "2020-03-21",
          "2020-03-21",
          "2020-03-21",
          "2020-03-19",
          "2020-03-16",
          "2020-03-18",
          "2020-03-18",
          "2020-03-18",
          "2020-03-18",
          "2020-03-03",
          "2020-03-02",
          "2020-02-01",
          "2020-03-09",
          "2020-03-08"
         ],
         "y": [
          18,
          38,
          12,
          12,
          1784,
          2281,
          2,
          1,
          11,
          11,
          949,
          653,
          6,
          6,
          11,
          11,
          130,
          6,
          6,
          5,
          5,
          12,
          12,
          7652,
          9,
          7,
          6,
          3,
          3,
          2,
          1,
          6633,
          5,
          3,
          3,
          3,
          2,
          1,
          12,
          11,
          3,
          3,
          285,
          377,
          6,
          6,
          3661,
          3,
          1,
          2,
          2281,
          2,
          1,
          11,
          11,
          14,
          12,
          10871,
          6,
          4,
          3,
          2,
          0,
          0,
          0,
          0,
          9043,
          3,
          3,
          3,
          0,
          0,
          0,
          0,
          4,
          5,
          57,
          100,
          4469,
          5,
          3,
          2,
          1,
          4499,
          7,
          3,
          2,
          1,
          1,
          3,
          2,
          12,
          12,
          12,
          12,
          12612,
          11,
          4,
          3,
          2,
          0,
          0,
          0,
          0,
          14282,
          15,
          4,
          4,
          3,
          0,
          0,
          0,
          0,
          204,
          191,
          6,
          1209,
          1126
         ]
        }
       ],
       "layout": {
        "template": {
         "data": {
          "bar": [
           {
            "error_x": {
             "color": "#2a3f5f"
            },
            "error_y": {
             "color": "#2a3f5f"
            },
            "marker": {
             "line": {
              "color": "#E5ECF6",
              "width": 0.5
             }
            },
            "type": "bar"
           }
          ],
          "barpolar": [
           {
            "marker": {
             "line": {
              "color": "#E5ECF6",
              "width": 0.5
             }
            },
            "type": "barpolar"
           }
          ],
          "carpet": [
           {
            "aaxis": {
             "endlinecolor": "#2a3f5f",
             "gridcolor": "white",
             "linecolor": "white",
             "minorgridcolor": "white",
             "startlinecolor": "#2a3f5f"
            },
            "baxis": {
             "endlinecolor": "#2a3f5f",
             "gridcolor": "white",
             "linecolor": "white",
             "minorgridcolor": "white",
             "startlinecolor": "#2a3f5f"
            },
            "type": "carpet"
           }
          ],
          "choropleth": [
           {
            "colorbar": {
             "outlinewidth": 0,
             "ticks": ""
            },
            "type": "choropleth"
           }
          ],
          "contour": [
           {
            "colorbar": {
             "outlinewidth": 0,
             "ticks": ""
            },
            "colorscale": [
             [
              0,
              "#0d0887"
             ],
             [
              0.1111111111111111,
              "#46039f"
             ],
             [
              0.2222222222222222,
              "#7201a8"
             ],
             [
              0.3333333333333333,
              "#9c179e"
             ],
             [
              0.4444444444444444,
              "#bd3786"
             ],
             [
              0.5555555555555556,
              "#d8576b"
             ],
             [
              0.6666666666666666,
              "#ed7953"
             ],
             [
              0.7777777777777778,
              "#fb9f3a"
             ],
             [
              0.8888888888888888,
              "#fdca26"
             ],
             [
              1,
              "#f0f921"
             ]
            ],
            "type": "contour"
           }
          ],
          "contourcarpet": [
           {
            "colorbar": {
             "outlinewidth": 0,
             "ticks": ""
            },
            "type": "contourcarpet"
           }
          ],
          "heatmap": [
           {
            "colorbar": {
             "outlinewidth": 0,
             "ticks": ""
            },
            "colorscale": [
             [
              0,
              "#0d0887"
             ],
             [
              0.1111111111111111,
              "#46039f"
             ],
             [
              0.2222222222222222,
              "#7201a8"
             ],
             [
              0.3333333333333333,
              "#9c179e"
             ],
             [
              0.4444444444444444,
              "#bd3786"
             ],
             [
              0.5555555555555556,
              "#d8576b"
             ],
             [
              0.6666666666666666,
              "#ed7953"
             ],
             [
              0.7777777777777778,
              "#fb9f3a"
             ],
             [
              0.8888888888888888,
              "#fdca26"
             ],
             [
              1,
              "#f0f921"
             ]
            ],
            "type": "heatmap"
           }
          ],
          "heatmapgl": [
           {
            "colorbar": {
             "outlinewidth": 0,
             "ticks": ""
            },
            "colorscale": [
             [
              0,
              "#0d0887"
             ],
             [
              0.1111111111111111,
              "#46039f"
             ],
             [
              0.2222222222222222,
              "#7201a8"
             ],
             [
              0.3333333333333333,
              "#9c179e"
             ],
             [
              0.4444444444444444,
              "#bd3786"
             ],
             [
              0.5555555555555556,
              "#d8576b"
             ],
             [
              0.6666666666666666,
              "#ed7953"
             ],
             [
              0.7777777777777778,
              "#fb9f3a"
             ],
             [
              0.8888888888888888,
              "#fdca26"
             ],
             [
              1,
              "#f0f921"
             ]
            ],
            "type": "heatmapgl"
           }
          ],
          "histogram": [
           {
            "marker": {
             "colorbar": {
              "outlinewidth": 0,
              "ticks": ""
             }
            },
            "type": "histogram"
           }
          ],
          "histogram2d": [
           {
            "colorbar": {
             "outlinewidth": 0,
             "ticks": ""
            },
            "colorscale": [
             [
              0,
              "#0d0887"
             ],
             [
              0.1111111111111111,
              "#46039f"
             ],
             [
              0.2222222222222222,
              "#7201a8"
             ],
             [
              0.3333333333333333,
              "#9c179e"
             ],
             [
              0.4444444444444444,
              "#bd3786"
             ],
             [
              0.5555555555555556,
              "#d8576b"
             ],
             [
              0.6666666666666666,
              "#ed7953"
             ],
             [
              0.7777777777777778,
              "#fb9f3a"
             ],
             [
              0.8888888888888888,
              "#fdca26"
             ],
             [
              1,
              "#f0f921"
             ]
            ],
            "type": "histogram2d"
           }
          ],
          "histogram2dcontour": [
           {
            "colorbar": {
             "outlinewidth": 0,
             "ticks": ""
            },
            "colorscale": [
             [
              0,
              "#0d0887"
             ],
             [
              0.1111111111111111,
              "#46039f"
             ],
             [
              0.2222222222222222,
              "#7201a8"
             ],
             [
              0.3333333333333333,
              "#9c179e"
             ],
             [
              0.4444444444444444,
              "#bd3786"
             ],
             [
              0.5555555555555556,
              "#d8576b"
             ],
             [
              0.6666666666666666,
              "#ed7953"
             ],
             [
              0.7777777777777778,
              "#fb9f3a"
             ],
             [
              0.8888888888888888,
              "#fdca26"
             ],
             [
              1,
              "#f0f921"
             ]
            ],
            "type": "histogram2dcontour"
           }
          ],
          "mesh3d": [
           {
            "colorbar": {
             "outlinewidth": 0,
             "ticks": ""
            },
            "type": "mesh3d"
           }
          ],
          "parcoords": [
           {
            "line": {
             "colorbar": {
              "outlinewidth": 0,
              "ticks": ""
             }
            },
            "type": "parcoords"
           }
          ],
          "pie": [
           {
            "automargin": true,
            "type": "pie"
           }
          ],
          "scatter": [
           {
            "marker": {
             "colorbar": {
              "outlinewidth": 0,
              "ticks": ""
             }
            },
            "type": "scatter"
           }
          ],
          "scatter3d": [
           {
            "line": {
             "colorbar": {
              "outlinewidth": 0,
              "ticks": ""
             }
            },
            "marker": {
             "colorbar": {
              "outlinewidth": 0,
              "ticks": ""
             }
            },
            "type": "scatter3d"
           }
          ],
          "scattercarpet": [
           {
            "marker": {
             "colorbar": {
              "outlinewidth": 0,
              "ticks": ""
             }
            },
            "type": "scattercarpet"
           }
          ],
          "scattergeo": [
           {
            "marker": {
             "colorbar": {
              "outlinewidth": 0,
              "ticks": ""
             }
            },
            "type": "scattergeo"
           }
          ],
          "scattergl": [
           {
            "marker": {
             "colorbar": {
              "outlinewidth": 0,
              "ticks": ""
             }
            },
            "type": "scattergl"
           }
          ],
          "scattermapbox": [
           {
            "marker": {
             "colorbar": {
              "outlinewidth": 0,
              "ticks": ""
             }
            },
            "type": "scattermapbox"
           }
          ],
          "scatterpolar": [
           {
            "marker": {
             "colorbar": {
              "outlinewidth": 0,
              "ticks": ""
             }
            },
            "type": "scatterpolar"
           }
          ],
          "scatterpolargl": [
           {
            "marker": {
             "colorbar": {
              "outlinewidth": 0,
              "ticks": ""
             }
            },
            "type": "scatterpolargl"
           }
          ],
          "scatterternary": [
           {
            "marker": {
             "colorbar": {
              "outlinewidth": 0,
              "ticks": ""
             }
            },
            "type": "scatterternary"
           }
          ],
          "surface": [
           {
            "colorbar": {
             "outlinewidth": 0,
             "ticks": ""
            },
            "colorscale": [
             [
              0,
              "#0d0887"
             ],
             [
              0.1111111111111111,
              "#46039f"
             ],
             [
              0.2222222222222222,
              "#7201a8"
             ],
             [
              0.3333333333333333,
              "#9c179e"
             ],
             [
              0.4444444444444444,
              "#bd3786"
             ],
             [
              0.5555555555555556,
              "#d8576b"
             ],
             [
              0.6666666666666666,
              "#ed7953"
             ],
             [
              0.7777777777777778,
              "#fb9f3a"
             ],
             [
              0.8888888888888888,
              "#fdca26"
             ],
             [
              1,
              "#f0f921"
             ]
            ],
            "type": "surface"
           }
          ],
          "table": [
           {
            "cells": {
             "fill": {
              "color": "#EBF0F8"
             },
             "line": {
              "color": "white"
             }
            },
            "header": {
             "fill": {
              "color": "#C8D4E3"
             },
             "line": {
              "color": "white"
             }
            },
            "type": "table"
           }
          ]
         },
         "layout": {
          "annotationdefaults": {
           "arrowcolor": "#2a3f5f",
           "arrowhead": 0,
           "arrowwidth": 1
          },
          "coloraxis": {
           "colorbar": {
            "outlinewidth": 0,
            "ticks": ""
           }
          },
          "colorscale": {
           "diverging": [
            [
             0,
             "#8e0152"
            ],
            [
             0.1,
             "#c51b7d"
            ],
            [
             0.2,
             "#de77ae"
            ],
            [
             0.3,
             "#f1b6da"
            ],
            [
             0.4,
             "#fde0ef"
            ],
            [
             0.5,
             "#f7f7f7"
            ],
            [
             0.6,
             "#e6f5d0"
            ],
            [
             0.7,
             "#b8e186"
            ],
            [
             0.8,
             "#7fbc41"
            ],
            [
             0.9,
             "#4d9221"
            ],
            [
             1,
             "#276419"
            ]
           ],
           "sequential": [
            [
             0,
             "#0d0887"
            ],
            [
             0.1111111111111111,
             "#46039f"
            ],
            [
             0.2222222222222222,
             "#7201a8"
            ],
            [
             0.3333333333333333,
             "#9c179e"
            ],
            [
             0.4444444444444444,
             "#bd3786"
            ],
            [
             0.5555555555555556,
             "#d8576b"
            ],
            [
             0.6666666666666666,
             "#ed7953"
            ],
            [
             0.7777777777777778,
             "#fb9f3a"
            ],
            [
             0.8888888888888888,
             "#fdca26"
            ],
            [
             1,
             "#f0f921"
            ]
           ],
           "sequentialminus": [
            [
             0,
             "#0d0887"
            ],
            [
             0.1111111111111111,
             "#46039f"
            ],
            [
             0.2222222222222222,
             "#7201a8"
            ],
            [
             0.3333333333333333,
             "#9c179e"
            ],
            [
             0.4444444444444444,
             "#bd3786"
            ],
            [
             0.5555555555555556,
             "#d8576b"
            ],
            [
             0.6666666666666666,
             "#ed7953"
            ],
            [
             0.7777777777777778,
             "#fb9f3a"
            ],
            [
             0.8888888888888888,
             "#fdca26"
            ],
            [
             1,
             "#f0f921"
            ]
           ]
          },
          "colorway": [
           "#636efa",
           "#EF553B",
           "#00cc96",
           "#ab63fa",
           "#FFA15A",
           "#19d3f3",
           "#FF6692",
           "#B6E880",
           "#FF97FF",
           "#FECB52"
          ],
          "font": {
           "color": "#2a3f5f"
          },
          "geo": {
           "bgcolor": "white",
           "lakecolor": "white",
           "landcolor": "#E5ECF6",
           "showlakes": true,
           "showland": true,
           "subunitcolor": "white"
          },
          "hoverlabel": {
           "align": "left"
          },
          "hovermode": "closest",
          "mapbox": {
           "style": "light"
          },
          "paper_bgcolor": "white",
          "plot_bgcolor": "#E5ECF6",
          "polar": {
           "angularaxis": {
            "gridcolor": "white",
            "linecolor": "white",
            "ticks": ""
           },
           "bgcolor": "#E5ECF6",
           "radialaxis": {
            "gridcolor": "white",
            "linecolor": "white",
            "ticks": ""
           }
          },
          "scene": {
           "xaxis": {
            "backgroundcolor": "#E5ECF6",
            "gridcolor": "white",
            "gridwidth": 2,
            "linecolor": "white",
            "showbackground": true,
            "ticks": "",
            "zerolinecolor": "white"
           },
           "yaxis": {
            "backgroundcolor": "#E5ECF6",
            "gridcolor": "white",
            "gridwidth": 2,
            "linecolor": "white",
            "showbackground": true,
            "ticks": "",
            "zerolinecolor": "white"
           },
           "zaxis": {
            "backgroundcolor": "#E5ECF6",
            "gridcolor": "white",
            "gridwidth": 2,
            "linecolor": "white",
            "showbackground": true,
            "ticks": "",
            "zerolinecolor": "white"
           }
          },
          "shapedefaults": {
           "line": {
            "color": "#2a3f5f"
           }
          },
          "ternary": {
           "aaxis": {
            "gridcolor": "white",
            "linecolor": "white",
            "ticks": ""
           },
           "baxis": {
            "gridcolor": "white",
            "linecolor": "white",
            "ticks": ""
           },
           "bgcolor": "#E5ECF6",
           "caxis": {
            "gridcolor": "white",
            "linecolor": "white",
            "ticks": ""
           }
          },
          "title": {
           "x": 0.05
          },
          "xaxis": {
           "automargin": true,
           "gridcolor": "white",
           "linecolor": "white",
           "ticks": "",
           "title": {
            "standoff": 15
           },
           "zerolinecolor": "white",
           "zerolinewidth": 2
          },
          "yaxis": {
           "automargin": true,
           "gridcolor": "white",
           "linecolor": "white",
           "ticks": "",
           "title": {
            "standoff": 15
           },
           "zerolinecolor": "white",
           "zerolinewidth": 2
          }
         }
        }
       }
      },
      "text/html": [
       "<div>\n",
       "        \n",
       "        \n",
       "            <div id=\"358f78f0-a39a-4c8c-a323-d4176efd084e\" class=\"plotly-graph-div\" style=\"height:525px; width:100%;\"></div>\n",
       "            <script type=\"text/javascript\">\n",
       "                require([\"plotly\"], function(Plotly) {\n",
       "                    window.PLOTLYENV=window.PLOTLYENV || {};\n",
       "                    \n",
       "                if (document.getElementById(\"358f78f0-a39a-4c8c-a323-d4176efd084e\")) {\n",
       "                    Plotly.newPlot(\n",
       "                        '358f78f0-a39a-4c8c-a323-d4176efd084e',\n",
       "                        [{\"name\": \"Cas confirm\\u00e9s en France\", \"type\": \"scatter\", \"x\": [\"2020-02-26\", \"2020-02-27\", \"2020-02-15\", \"2020-02-15\", \"2020-03-10\", \"2020-03-11\", \"2020-03-11\", \"2020-03-11\", \"2020-02-12\", \"2020-02-12\", \"2020-03-07\", \"2020-03-06\", \"2020-02-01\", \"2020-02-01\", \"2020-02-08\", \"2020-02-08\", \"2020-03-01\", \"2020-02-01\", \"2020-02-01\", \"2020-01-31\", \"2020-01-30\", \"2020-02-15\", \"2020-02-15\", \"2020-03-17\", \"2020-03-17\", \"2020-03-17\", \"2020-03-17\", \"2020-03-15\", \"2020-03-16\", \"2020-03-14\", \"2020-03-16\", \"2020-03-16\", \"2020-03-16\", \"2020-03-15\", \"2020-03-16\", \"2020-03-16\", \"2020-03-14\", \"2020-03-16\", \"2020-02-15\", \"2020-02-12\", \"2020-01-26\", \"2020-01-27\", \"2020-03-04\", \"2020-03-05\", \"2020-02-01\", \"2020-02-01\", \"2020-03-11\", \"2020-03-11\", \"2020-03-11\", \"2020-03-11\", \"2020-03-11\", \"2020-03-11\", \"2020-03-11\", \"2020-02-08\", \"2020-02-08\", \"2020-02-25\", \"2020-02-15\", \"2020-03-19\", \"2020-03-19\", \"2020-03-19\", \"2020-03-16\", \"2020-03-19\", \"2020-03-18\", \"2020-03-18\", \"2020-03-18\", \"2020-03-18\", \"2020-03-18\", \"2020-03-15\", \"2020-03-16\", \"2020-03-18\", \"2020-03-18\", \"2020-03-18\", \"2020-03-18\", \"2020-03-18\", \"2020-01-28\", \"2020-01-29\", \"2020-02-28\", \"2020-02-29\", \"2020-03-14\", \"2020-03-14\", \"2020-03-14\", \"2020-03-14\", \"2020-03-14\", \"2020-03-15\", \"2020-03-15\", \"2020-03-15\", \"2020-03-14\", \"2020-03-14\", \"2020-03-14\", \"2020-01-25\", \"2020-01-24\", \"2020-02-15\", \"2020-02-15\", \"2020-02-15\", \"2020-02-15\", \"2020-03-20\", \"2020-03-20\", \"2020-03-19\", \"2020-03-16\", \"2020-03-19\", \"2020-03-18\", \"2020-03-18\", \"2020-03-18\", \"2020-03-18\", \"2020-03-21\", \"2020-03-21\", \"2020-03-21\", \"2020-03-19\", \"2020-03-16\", \"2020-03-18\", \"2020-03-18\", \"2020-03-18\", \"2020-03-18\", \"2020-03-03\", \"2020-03-02\", \"2020-02-01\", \"2020-03-09\", \"2020-03-08\"], \"y\": [18.0, 38.0, 12.0, 12.0, 1784.0, 2281.0, 2.0, 1.0, 11.0, 11.0, 949.0, 653.0, 6.0, 6.0, 11.0, 11.0, 130.0, 6.0, 6.0, 5.0, 5.0, 12.0, 12.0, 7652.0, 9.0, 7.0, 6.0, 3.0, 3.0, 2.0, 1.0, 6633.0, 5.0, 3.0, 3.0, 3.0, 2.0, 1.0, 12.0, 11.0, 3.0, 3.0, 285.0, 377.0, 6.0, 6.0, 3661.0, 3.0, 1.0, 2.0, 2281.0, 2.0, 1.0, 11.0, 11.0, 14.0, 12.0, 10871.0, 6.0, 4.0, 3.0, 2.0, 0.0, 0.0, 0.0, 0.0, 9043.0, 3.0, 3.0, 3.0, 0.0, 0.0, 0.0, 0.0, 4.0, 5.0, 57.0, 100.0, 4469.0, 5.0, 3.0, 2.0, 1.0, 4499.0, 7.0, 3.0, 2.0, 1.0, 1.0, 3.0, 2.0, 12.0, 12.0, 12.0, 12.0, 12612.0, 11.0, 4.0, 3.0, 2.0, 0.0, 0.0, 0.0, 0.0, 14282.0, 15.0, 4.0, 4.0, 3.0, 0.0, 0.0, 0.0, 0.0, 204.0, 191.0, 6.0, 1209.0, 1126.0]}],\n",
       "                        {\"template\": {\"data\": {\"bar\": [{\"error_x\": {\"color\": \"#2a3f5f\"}, \"error_y\": {\"color\": \"#2a3f5f\"}, \"marker\": {\"line\": {\"color\": \"#E5ECF6\", \"width\": 0.5}}, \"type\": \"bar\"}], \"barpolar\": [{\"marker\": {\"line\": {\"color\": \"#E5ECF6\", \"width\": 0.5}}, \"type\": \"barpolar\"}], \"carpet\": [{\"aaxis\": {\"endlinecolor\": \"#2a3f5f\", \"gridcolor\": \"white\", \"linecolor\": \"white\", \"minorgridcolor\": \"white\", \"startlinecolor\": \"#2a3f5f\"}, \"baxis\": {\"endlinecolor\": \"#2a3f5f\", \"gridcolor\": \"white\", \"linecolor\": \"white\", \"minorgridcolor\": \"white\", \"startlinecolor\": \"#2a3f5f\"}, \"type\": \"carpet\"}], \"choropleth\": [{\"colorbar\": {\"outlinewidth\": 0, \"ticks\": \"\"}, \"type\": \"choropleth\"}], \"contour\": [{\"colorbar\": {\"outlinewidth\": 0, \"ticks\": \"\"}, \"colorscale\": [[0.0, \"#0d0887\"], [0.1111111111111111, \"#46039f\"], [0.2222222222222222, \"#7201a8\"], [0.3333333333333333, \"#9c179e\"], [0.4444444444444444, \"#bd3786\"], [0.5555555555555556, \"#d8576b\"], [0.6666666666666666, \"#ed7953\"], [0.7777777777777778, \"#fb9f3a\"], [0.8888888888888888, \"#fdca26\"], [1.0, \"#f0f921\"]], \"type\": \"contour\"}], \"contourcarpet\": [{\"colorbar\": {\"outlinewidth\": 0, \"ticks\": \"\"}, \"type\": \"contourcarpet\"}], \"heatmap\": [{\"colorbar\": {\"outlinewidth\": 0, \"ticks\": \"\"}, \"colorscale\": [[0.0, \"#0d0887\"], [0.1111111111111111, \"#46039f\"], [0.2222222222222222, \"#7201a8\"], [0.3333333333333333, \"#9c179e\"], [0.4444444444444444, \"#bd3786\"], [0.5555555555555556, \"#d8576b\"], [0.6666666666666666, \"#ed7953\"], [0.7777777777777778, \"#fb9f3a\"], [0.8888888888888888, \"#fdca26\"], [1.0, \"#f0f921\"]], \"type\": \"heatmap\"}], \"heatmapgl\": [{\"colorbar\": {\"outlinewidth\": 0, \"ticks\": \"\"}, \"colorscale\": [[0.0, \"#0d0887\"], [0.1111111111111111, \"#46039f\"], [0.2222222222222222, \"#7201a8\"], [0.3333333333333333, \"#9c179e\"], [0.4444444444444444, \"#bd3786\"], [0.5555555555555556, \"#d8576b\"], [0.6666666666666666, \"#ed7953\"], [0.7777777777777778, \"#fb9f3a\"], [0.8888888888888888, \"#fdca26\"], [1.0, \"#f0f921\"]], \"type\": \"heatmapgl\"}], \"histogram\": [{\"marker\": {\"colorbar\": {\"outlinewidth\": 0, \"ticks\": \"\"}}, \"type\": \"histogram\"}], \"histogram2d\": [{\"colorbar\": {\"outlinewidth\": 0, \"ticks\": \"\"}, \"colorscale\": [[0.0, \"#0d0887\"], [0.1111111111111111, \"#46039f\"], [0.2222222222222222, \"#7201a8\"], [0.3333333333333333, \"#9c179e\"], [0.4444444444444444, \"#bd3786\"], [0.5555555555555556, \"#d8576b\"], [0.6666666666666666, \"#ed7953\"], [0.7777777777777778, \"#fb9f3a\"], [0.8888888888888888, \"#fdca26\"], [1.0, \"#f0f921\"]], \"type\": \"histogram2d\"}], \"histogram2dcontour\": [{\"colorbar\": {\"outlinewidth\": 0, \"ticks\": \"\"}, \"colorscale\": [[0.0, \"#0d0887\"], [0.1111111111111111, \"#46039f\"], [0.2222222222222222, \"#7201a8\"], [0.3333333333333333, \"#9c179e\"], [0.4444444444444444, \"#bd3786\"], [0.5555555555555556, \"#d8576b\"], [0.6666666666666666, \"#ed7953\"], [0.7777777777777778, \"#fb9f3a\"], [0.8888888888888888, \"#fdca26\"], [1.0, \"#f0f921\"]], \"type\": \"histogram2dcontour\"}], \"mesh3d\": [{\"colorbar\": {\"outlinewidth\": 0, \"ticks\": \"\"}, \"type\": \"mesh3d\"}], \"parcoords\": [{\"line\": {\"colorbar\": {\"outlinewidth\": 0, \"ticks\": \"\"}}, \"type\": \"parcoords\"}], \"pie\": [{\"automargin\": true, \"type\": \"pie\"}], \"scatter\": [{\"marker\": {\"colorbar\": {\"outlinewidth\": 0, \"ticks\": \"\"}}, \"type\": \"scatter\"}], \"scatter3d\": [{\"line\": {\"colorbar\": {\"outlinewidth\": 0, \"ticks\": \"\"}}, \"marker\": {\"colorbar\": {\"outlinewidth\": 0, \"ticks\": \"\"}}, \"type\": \"scatter3d\"}], \"scattercarpet\": [{\"marker\": {\"colorbar\": {\"outlinewidth\": 0, \"ticks\": \"\"}}, \"type\": \"scattercarpet\"}], \"scattergeo\": [{\"marker\": {\"colorbar\": {\"outlinewidth\": 0, \"ticks\": \"\"}}, \"type\": \"scattergeo\"}], \"scattergl\": [{\"marker\": {\"colorbar\": {\"outlinewidth\": 0, \"ticks\": \"\"}}, \"type\": \"scattergl\"}], \"scattermapbox\": [{\"marker\": {\"colorbar\": {\"outlinewidth\": 0, \"ticks\": \"\"}}, \"type\": \"scattermapbox\"}], \"scatterpolar\": [{\"marker\": {\"colorbar\": {\"outlinewidth\": 0, \"ticks\": \"\"}}, \"type\": \"scatterpolar\"}], \"scatterpolargl\": [{\"marker\": {\"colorbar\": {\"outlinewidth\": 0, \"ticks\": \"\"}}, \"type\": \"scatterpolargl\"}], \"scatterternary\": [{\"marker\": {\"colorbar\": {\"outlinewidth\": 0, \"ticks\": \"\"}}, \"type\": \"scatterternary\"}], \"surface\": [{\"colorbar\": {\"outlinewidth\": 0, \"ticks\": \"\"}, \"colorscale\": [[0.0, \"#0d0887\"], [0.1111111111111111, \"#46039f\"], [0.2222222222222222, \"#7201a8\"], [0.3333333333333333, \"#9c179e\"], [0.4444444444444444, \"#bd3786\"], [0.5555555555555556, \"#d8576b\"], [0.6666666666666666, \"#ed7953\"], [0.7777777777777778, \"#fb9f3a\"], [0.8888888888888888, \"#fdca26\"], [1.0, \"#f0f921\"]], \"type\": \"surface\"}], \"table\": [{\"cells\": {\"fill\": {\"color\": \"#EBF0F8\"}, \"line\": {\"color\": \"white\"}}, \"header\": {\"fill\": {\"color\": \"#C8D4E3\"}, \"line\": {\"color\": \"white\"}}, \"type\": \"table\"}]}, \"layout\": {\"annotationdefaults\": {\"arrowcolor\": \"#2a3f5f\", \"arrowhead\": 0, \"arrowwidth\": 1}, \"coloraxis\": {\"colorbar\": {\"outlinewidth\": 0, \"ticks\": \"\"}}, \"colorscale\": {\"diverging\": [[0, \"#8e0152\"], [0.1, \"#c51b7d\"], [0.2, \"#de77ae\"], [0.3, \"#f1b6da\"], [0.4, \"#fde0ef\"], [0.5, \"#f7f7f7\"], [0.6, \"#e6f5d0\"], [0.7, \"#b8e186\"], [0.8, \"#7fbc41\"], [0.9, \"#4d9221\"], [1, \"#276419\"]], \"sequential\": [[0.0, \"#0d0887\"], [0.1111111111111111, \"#46039f\"], [0.2222222222222222, \"#7201a8\"], [0.3333333333333333, \"#9c179e\"], [0.4444444444444444, \"#bd3786\"], [0.5555555555555556, \"#d8576b\"], [0.6666666666666666, \"#ed7953\"], [0.7777777777777778, \"#fb9f3a\"], [0.8888888888888888, \"#fdca26\"], [1.0, \"#f0f921\"]], \"sequentialminus\": [[0.0, \"#0d0887\"], [0.1111111111111111, \"#46039f\"], [0.2222222222222222, \"#7201a8\"], [0.3333333333333333, \"#9c179e\"], [0.4444444444444444, \"#bd3786\"], [0.5555555555555556, \"#d8576b\"], [0.6666666666666666, \"#ed7953\"], [0.7777777777777778, \"#fb9f3a\"], [0.8888888888888888, \"#fdca26\"], [1.0, \"#f0f921\"]]}, \"colorway\": [\"#636efa\", \"#EF553B\", \"#00cc96\", \"#ab63fa\", \"#FFA15A\", \"#19d3f3\", \"#FF6692\", \"#B6E880\", \"#FF97FF\", \"#FECB52\"], \"font\": {\"color\": \"#2a3f5f\"}, \"geo\": {\"bgcolor\": \"white\", \"lakecolor\": \"white\", \"landcolor\": \"#E5ECF6\", \"showlakes\": true, \"showland\": true, \"subunitcolor\": \"white\"}, \"hoverlabel\": {\"align\": \"left\"}, \"hovermode\": \"closest\", \"mapbox\": {\"style\": \"light\"}, \"paper_bgcolor\": \"white\", \"plot_bgcolor\": \"#E5ECF6\", \"polar\": {\"angularaxis\": {\"gridcolor\": \"white\", \"linecolor\": \"white\", \"ticks\": \"\"}, \"bgcolor\": \"#E5ECF6\", \"radialaxis\": {\"gridcolor\": \"white\", \"linecolor\": \"white\", \"ticks\": \"\"}}, \"scene\": {\"xaxis\": {\"backgroundcolor\": \"#E5ECF6\", \"gridcolor\": \"white\", \"gridwidth\": 2, \"linecolor\": \"white\", \"showbackground\": true, \"ticks\": \"\", \"zerolinecolor\": \"white\"}, \"yaxis\": {\"backgroundcolor\": \"#E5ECF6\", \"gridcolor\": \"white\", \"gridwidth\": 2, \"linecolor\": \"white\", \"showbackground\": true, \"ticks\": \"\", \"zerolinecolor\": \"white\"}, \"zaxis\": {\"backgroundcolor\": \"#E5ECF6\", \"gridcolor\": \"white\", \"gridwidth\": 2, \"linecolor\": \"white\", \"showbackground\": true, \"ticks\": \"\", \"zerolinecolor\": \"white\"}}, \"shapedefaults\": {\"line\": {\"color\": \"#2a3f5f\"}}, \"ternary\": {\"aaxis\": {\"gridcolor\": \"white\", \"linecolor\": \"white\", \"ticks\": \"\"}, \"baxis\": {\"gridcolor\": \"white\", \"linecolor\": \"white\", \"ticks\": \"\"}, \"bgcolor\": \"#E5ECF6\", \"caxis\": {\"gridcolor\": \"white\", \"linecolor\": \"white\", \"ticks\": \"\"}}, \"title\": {\"x\": 0.05}, \"xaxis\": {\"automargin\": true, \"gridcolor\": \"white\", \"linecolor\": \"white\", \"ticks\": \"\", \"title\": {\"standoff\": 15}, \"zerolinecolor\": \"white\", \"zerolinewidth\": 2}, \"yaxis\": {\"automargin\": true, \"gridcolor\": \"white\", \"linecolor\": \"white\", \"ticks\": \"\", \"title\": {\"standoff\": 15}, \"zerolinecolor\": \"white\", \"zerolinewidth\": 2}}}},\n",
       "                        {\"responsive\": true}\n",
       "                    ).then(function(){\n",
       "                            \n",
       "var gd = document.getElementById('358f78f0-a39a-4c8c-a323-d4176efd084e');\n",
       "var x = new MutationObserver(function (mutations, observer) {{\n",
       "        var display = window.getComputedStyle(gd).display;\n",
       "        if (!display || display === 'none') {{\n",
       "            console.log([gd, 'removed!']);\n",
       "            Plotly.purge(gd);\n",
       "            observer.disconnect();\n",
       "        }}\n",
       "}});\n",
       "\n",
       "// Listen for the removal of the full notebook cells\n",
       "var notebookContainer = gd.closest('#notebook-container');\n",
       "if (notebookContainer) {{\n",
       "    x.observe(notebookContainer, {childList: true});\n",
       "}}\n",
       "\n",
       "// Listen for the clearing of the current output cell\n",
       "var outputEl = gd.closest('.output');\n",
       "if (outputEl) {{\n",
       "    x.observe(outputEl, {childList: true});\n",
       "}}\n",
       "\n",
       "                        })\n",
       "                };\n",
       "                });\n",
       "            </script>\n",
       "        </div>"
      ]
     },
     "metadata": {},
     "output_type": "display_data"
    }
   ],
   "source": [
    "data = [go.Scatter(x=france_df['day'],\n",
    "                   y=france_df['Confirmed'],\n",
    "                   name='Cas confirmés en France'\n",
    "                  )]\n",
    "py.iplot(data)"
   ]
  },
  {
   "cell_type": "code",
   "execution_count": 93,
   "metadata": {},
   "outputs": [
    {
     "data": {
      "application/vnd.plotly.v1+json": {
       "config": {
        "linkText": "Export to plot.ly",
        "plotlyServerURL": "https://plot.ly",
        "showLink": false
       },
       "data": [
        {
         "name": "Confirmés/France",
         "type": "scatter",
         "x": [
          "2020-02-26",
          "2020-02-27",
          "2020-02-15",
          "2020-02-15",
          "2020-03-10",
          "2020-03-11",
          "2020-03-11",
          "2020-03-11",
          "2020-02-12",
          "2020-02-12",
          "2020-03-07",
          "2020-03-06",
          "2020-02-01",
          "2020-02-01",
          "2020-02-08",
          "2020-02-08",
          "2020-03-01",
          "2020-02-01",
          "2020-02-01",
          "2020-01-31",
          "2020-01-30",
          "2020-02-15",
          "2020-02-15",
          "2020-03-17",
          "2020-03-17",
          "2020-03-17",
          "2020-03-17",
          "2020-03-15",
          "2020-03-16",
          "2020-03-14",
          "2020-03-16",
          "2020-03-16",
          "2020-03-16",
          "2020-03-15",
          "2020-03-16",
          "2020-03-16",
          "2020-03-14",
          "2020-03-16",
          "2020-02-15",
          "2020-02-12",
          "2020-01-26",
          "2020-01-27",
          "2020-03-04",
          "2020-03-05",
          "2020-02-01",
          "2020-02-01",
          "2020-03-11",
          "2020-03-11",
          "2020-03-11",
          "2020-03-11",
          "2020-03-11",
          "2020-03-11",
          "2020-03-11",
          "2020-02-08",
          "2020-02-08",
          "2020-02-25",
          "2020-02-15",
          "2020-03-19",
          "2020-03-19",
          "2020-03-19",
          "2020-03-16",
          "2020-03-19",
          "2020-03-18",
          "2020-03-18",
          "2020-03-18",
          "2020-03-18",
          "2020-03-18",
          "2020-03-15",
          "2020-03-16",
          "2020-03-18",
          "2020-03-18",
          "2020-03-18",
          "2020-03-18",
          "2020-03-18",
          "2020-01-28",
          "2020-01-29",
          "2020-02-28",
          "2020-02-29",
          "2020-03-14",
          "2020-03-14",
          "2020-03-14",
          "2020-03-14",
          "2020-03-14",
          "2020-03-15",
          "2020-03-15",
          "2020-03-15",
          "2020-03-14",
          "2020-03-14",
          "2020-03-14",
          "2020-01-25",
          "2020-01-24",
          "2020-02-15",
          "2020-02-15",
          "2020-02-15",
          "2020-02-15",
          "2020-03-20",
          "2020-03-20",
          "2020-03-19",
          "2020-03-16",
          "2020-03-19",
          "2020-03-18",
          "2020-03-18",
          "2020-03-18",
          "2020-03-18",
          "2020-03-21",
          "2020-03-21",
          "2020-03-21",
          "2020-03-19",
          "2020-03-16",
          "2020-03-18",
          "2020-03-18",
          "2020-03-18",
          "2020-03-18",
          "2020-03-03",
          "2020-03-02",
          "2020-02-01",
          "2020-03-09",
          "2020-03-08"
         ],
         "y": [
          18,
          38,
          12,
          12,
          1784,
          2281,
          2,
          1,
          11,
          11,
          949,
          653,
          6,
          6,
          11,
          11,
          130,
          6,
          6,
          5,
          5,
          12,
          12,
          7652,
          9,
          7,
          6,
          3,
          3,
          2,
          1,
          6633,
          5,
          3,
          3,
          3,
          2,
          1,
          12,
          11,
          3,
          3,
          285,
          377,
          6,
          6,
          3661,
          3,
          1,
          2,
          2281,
          2,
          1,
          11,
          11,
          14,
          12,
          10871,
          6,
          4,
          3,
          2,
          0,
          0,
          0,
          0,
          9043,
          3,
          3,
          3,
          0,
          0,
          0,
          0,
          4,
          5,
          57,
          100,
          4469,
          5,
          3,
          2,
          1,
          4499,
          7,
          3,
          2,
          1,
          1,
          3,
          2,
          12,
          12,
          12,
          12,
          12612,
          11,
          4,
          3,
          2,
          0,
          0,
          0,
          0,
          14282,
          15,
          4,
          4,
          3,
          0,
          0,
          0,
          0,
          204,
          191,
          6,
          1209,
          1126
         ]
        },
        {
         "name": "Confirmés/Allemagne",
         "type": "scatter",
         "x": [
          "2020-02-26",
          "2020-02-27",
          "2020-02-18",
          "2020-02-18",
          "2020-03-10",
          "2020-03-11",
          "2020-02-11",
          "2020-02-13",
          "2020-03-07",
          "2020-03-06",
          "2020-02-03",
          "2020-02-03",
          "2020-02-07",
          "2020-02-09",
          "2020-03-01",
          "2020-02-02",
          "2020-02-03",
          "2020-01-31",
          "2020-01-30",
          "2020-02-21",
          "2020-02-18",
          "2020-03-17",
          "2020-03-16",
          "2020-02-13",
          "2020-02-13",
          "2020-03-04",
          "2020-03-05",
          "2020-02-03",
          "2020-02-07",
          "2020-03-11",
          "2020-03-12",
          "2020-02-11",
          "2020-02-09",
          "2020-02-25",
          "2020-02-21",
          "2020-03-19",
          "2020-03-18",
          "2020-01-28",
          "2020-01-29",
          "2020-02-28",
          "2020-02-29",
          "2020-03-14",
          "2020-03-15",
          "2020-02-13",
          "2020-02-13",
          "2020-02-21",
          "2020-02-21",
          "2020-03-20",
          "2020-03-21",
          "2020-03-03",
          "2020-03-02",
          "2020-02-01",
          "2020-03-09",
          "2020-03-08"
         ],
         "y": [
          27,
          46,
          16,
          16,
          1457,
          1908,
          16,
          16,
          799,
          670,
          12,
          12,
          13,
          14,
          130,
          10,
          12,
          5,
          4,
          16,
          16,
          9257,
          7272,
          16,
          16,
          262,
          482,
          12,
          13,
          3675,
          2078,
          16,
          14,
          17,
          16,
          15320,
          12327,
          4,
          4,
          48,
          79,
          4585,
          5795,
          16,
          16,
          16,
          16,
          19848,
          22213,
          196,
          159,
          8,
          1176,
          1040
         ]
        }
       ],
       "layout": {
        "template": {
         "data": {
          "bar": [
           {
            "error_x": {
             "color": "#2a3f5f"
            },
            "error_y": {
             "color": "#2a3f5f"
            },
            "marker": {
             "line": {
              "color": "#E5ECF6",
              "width": 0.5
             }
            },
            "type": "bar"
           }
          ],
          "barpolar": [
           {
            "marker": {
             "line": {
              "color": "#E5ECF6",
              "width": 0.5
             }
            },
            "type": "barpolar"
           }
          ],
          "carpet": [
           {
            "aaxis": {
             "endlinecolor": "#2a3f5f",
             "gridcolor": "white",
             "linecolor": "white",
             "minorgridcolor": "white",
             "startlinecolor": "#2a3f5f"
            },
            "baxis": {
             "endlinecolor": "#2a3f5f",
             "gridcolor": "white",
             "linecolor": "white",
             "minorgridcolor": "white",
             "startlinecolor": "#2a3f5f"
            },
            "type": "carpet"
           }
          ],
          "choropleth": [
           {
            "colorbar": {
             "outlinewidth": 0,
             "ticks": ""
            },
            "type": "choropleth"
           }
          ],
          "contour": [
           {
            "colorbar": {
             "outlinewidth": 0,
             "ticks": ""
            },
            "colorscale": [
             [
              0,
              "#0d0887"
             ],
             [
              0.1111111111111111,
              "#46039f"
             ],
             [
              0.2222222222222222,
              "#7201a8"
             ],
             [
              0.3333333333333333,
              "#9c179e"
             ],
             [
              0.4444444444444444,
              "#bd3786"
             ],
             [
              0.5555555555555556,
              "#d8576b"
             ],
             [
              0.6666666666666666,
              "#ed7953"
             ],
             [
              0.7777777777777778,
              "#fb9f3a"
             ],
             [
              0.8888888888888888,
              "#fdca26"
             ],
             [
              1,
              "#f0f921"
             ]
            ],
            "type": "contour"
           }
          ],
          "contourcarpet": [
           {
            "colorbar": {
             "outlinewidth": 0,
             "ticks": ""
            },
            "type": "contourcarpet"
           }
          ],
          "heatmap": [
           {
            "colorbar": {
             "outlinewidth": 0,
             "ticks": ""
            },
            "colorscale": [
             [
              0,
              "#0d0887"
             ],
             [
              0.1111111111111111,
              "#46039f"
             ],
             [
              0.2222222222222222,
              "#7201a8"
             ],
             [
              0.3333333333333333,
              "#9c179e"
             ],
             [
              0.4444444444444444,
              "#bd3786"
             ],
             [
              0.5555555555555556,
              "#d8576b"
             ],
             [
              0.6666666666666666,
              "#ed7953"
             ],
             [
              0.7777777777777778,
              "#fb9f3a"
             ],
             [
              0.8888888888888888,
              "#fdca26"
             ],
             [
              1,
              "#f0f921"
             ]
            ],
            "type": "heatmap"
           }
          ],
          "heatmapgl": [
           {
            "colorbar": {
             "outlinewidth": 0,
             "ticks": ""
            },
            "colorscale": [
             [
              0,
              "#0d0887"
             ],
             [
              0.1111111111111111,
              "#46039f"
             ],
             [
              0.2222222222222222,
              "#7201a8"
             ],
             [
              0.3333333333333333,
              "#9c179e"
             ],
             [
              0.4444444444444444,
              "#bd3786"
             ],
             [
              0.5555555555555556,
              "#d8576b"
             ],
             [
              0.6666666666666666,
              "#ed7953"
             ],
             [
              0.7777777777777778,
              "#fb9f3a"
             ],
             [
              0.8888888888888888,
              "#fdca26"
             ],
             [
              1,
              "#f0f921"
             ]
            ],
            "type": "heatmapgl"
           }
          ],
          "histogram": [
           {
            "marker": {
             "colorbar": {
              "outlinewidth": 0,
              "ticks": ""
             }
            },
            "type": "histogram"
           }
          ],
          "histogram2d": [
           {
            "colorbar": {
             "outlinewidth": 0,
             "ticks": ""
            },
            "colorscale": [
             [
              0,
              "#0d0887"
             ],
             [
              0.1111111111111111,
              "#46039f"
             ],
             [
              0.2222222222222222,
              "#7201a8"
             ],
             [
              0.3333333333333333,
              "#9c179e"
             ],
             [
              0.4444444444444444,
              "#bd3786"
             ],
             [
              0.5555555555555556,
              "#d8576b"
             ],
             [
              0.6666666666666666,
              "#ed7953"
             ],
             [
              0.7777777777777778,
              "#fb9f3a"
             ],
             [
              0.8888888888888888,
              "#fdca26"
             ],
             [
              1,
              "#f0f921"
             ]
            ],
            "type": "histogram2d"
           }
          ],
          "histogram2dcontour": [
           {
            "colorbar": {
             "outlinewidth": 0,
             "ticks": ""
            },
            "colorscale": [
             [
              0,
              "#0d0887"
             ],
             [
              0.1111111111111111,
              "#46039f"
             ],
             [
              0.2222222222222222,
              "#7201a8"
             ],
             [
              0.3333333333333333,
              "#9c179e"
             ],
             [
              0.4444444444444444,
              "#bd3786"
             ],
             [
              0.5555555555555556,
              "#d8576b"
             ],
             [
              0.6666666666666666,
              "#ed7953"
             ],
             [
              0.7777777777777778,
              "#fb9f3a"
             ],
             [
              0.8888888888888888,
              "#fdca26"
             ],
             [
              1,
              "#f0f921"
             ]
            ],
            "type": "histogram2dcontour"
           }
          ],
          "mesh3d": [
           {
            "colorbar": {
             "outlinewidth": 0,
             "ticks": ""
            },
            "type": "mesh3d"
           }
          ],
          "parcoords": [
           {
            "line": {
             "colorbar": {
              "outlinewidth": 0,
              "ticks": ""
             }
            },
            "type": "parcoords"
           }
          ],
          "pie": [
           {
            "automargin": true,
            "type": "pie"
           }
          ],
          "scatter": [
           {
            "marker": {
             "colorbar": {
              "outlinewidth": 0,
              "ticks": ""
             }
            },
            "type": "scatter"
           }
          ],
          "scatter3d": [
           {
            "line": {
             "colorbar": {
              "outlinewidth": 0,
              "ticks": ""
             }
            },
            "marker": {
             "colorbar": {
              "outlinewidth": 0,
              "ticks": ""
             }
            },
            "type": "scatter3d"
           }
          ],
          "scattercarpet": [
           {
            "marker": {
             "colorbar": {
              "outlinewidth": 0,
              "ticks": ""
             }
            },
            "type": "scattercarpet"
           }
          ],
          "scattergeo": [
           {
            "marker": {
             "colorbar": {
              "outlinewidth": 0,
              "ticks": ""
             }
            },
            "type": "scattergeo"
           }
          ],
          "scattergl": [
           {
            "marker": {
             "colorbar": {
              "outlinewidth": 0,
              "ticks": ""
             }
            },
            "type": "scattergl"
           }
          ],
          "scattermapbox": [
           {
            "marker": {
             "colorbar": {
              "outlinewidth": 0,
              "ticks": ""
             }
            },
            "type": "scattermapbox"
           }
          ],
          "scatterpolar": [
           {
            "marker": {
             "colorbar": {
              "outlinewidth": 0,
              "ticks": ""
             }
            },
            "type": "scatterpolar"
           }
          ],
          "scatterpolargl": [
           {
            "marker": {
             "colorbar": {
              "outlinewidth": 0,
              "ticks": ""
             }
            },
            "type": "scatterpolargl"
           }
          ],
          "scatterternary": [
           {
            "marker": {
             "colorbar": {
              "outlinewidth": 0,
              "ticks": ""
             }
            },
            "type": "scatterternary"
           }
          ],
          "surface": [
           {
            "colorbar": {
             "outlinewidth": 0,
             "ticks": ""
            },
            "colorscale": [
             [
              0,
              "#0d0887"
             ],
             [
              0.1111111111111111,
              "#46039f"
             ],
             [
              0.2222222222222222,
              "#7201a8"
             ],
             [
              0.3333333333333333,
              "#9c179e"
             ],
             [
              0.4444444444444444,
              "#bd3786"
             ],
             [
              0.5555555555555556,
              "#d8576b"
             ],
             [
              0.6666666666666666,
              "#ed7953"
             ],
             [
              0.7777777777777778,
              "#fb9f3a"
             ],
             [
              0.8888888888888888,
              "#fdca26"
             ],
             [
              1,
              "#f0f921"
             ]
            ],
            "type": "surface"
           }
          ],
          "table": [
           {
            "cells": {
             "fill": {
              "color": "#EBF0F8"
             },
             "line": {
              "color": "white"
             }
            },
            "header": {
             "fill": {
              "color": "#C8D4E3"
             },
             "line": {
              "color": "white"
             }
            },
            "type": "table"
           }
          ]
         },
         "layout": {
          "annotationdefaults": {
           "arrowcolor": "#2a3f5f",
           "arrowhead": 0,
           "arrowwidth": 1
          },
          "coloraxis": {
           "colorbar": {
            "outlinewidth": 0,
            "ticks": ""
           }
          },
          "colorscale": {
           "diverging": [
            [
             0,
             "#8e0152"
            ],
            [
             0.1,
             "#c51b7d"
            ],
            [
             0.2,
             "#de77ae"
            ],
            [
             0.3,
             "#f1b6da"
            ],
            [
             0.4,
             "#fde0ef"
            ],
            [
             0.5,
             "#f7f7f7"
            ],
            [
             0.6,
             "#e6f5d0"
            ],
            [
             0.7,
             "#b8e186"
            ],
            [
             0.8,
             "#7fbc41"
            ],
            [
             0.9,
             "#4d9221"
            ],
            [
             1,
             "#276419"
            ]
           ],
           "sequential": [
            [
             0,
             "#0d0887"
            ],
            [
             0.1111111111111111,
             "#46039f"
            ],
            [
             0.2222222222222222,
             "#7201a8"
            ],
            [
             0.3333333333333333,
             "#9c179e"
            ],
            [
             0.4444444444444444,
             "#bd3786"
            ],
            [
             0.5555555555555556,
             "#d8576b"
            ],
            [
             0.6666666666666666,
             "#ed7953"
            ],
            [
             0.7777777777777778,
             "#fb9f3a"
            ],
            [
             0.8888888888888888,
             "#fdca26"
            ],
            [
             1,
             "#f0f921"
            ]
           ],
           "sequentialminus": [
            [
             0,
             "#0d0887"
            ],
            [
             0.1111111111111111,
             "#46039f"
            ],
            [
             0.2222222222222222,
             "#7201a8"
            ],
            [
             0.3333333333333333,
             "#9c179e"
            ],
            [
             0.4444444444444444,
             "#bd3786"
            ],
            [
             0.5555555555555556,
             "#d8576b"
            ],
            [
             0.6666666666666666,
             "#ed7953"
            ],
            [
             0.7777777777777778,
             "#fb9f3a"
            ],
            [
             0.8888888888888888,
             "#fdca26"
            ],
            [
             1,
             "#f0f921"
            ]
           ]
          },
          "colorway": [
           "#636efa",
           "#EF553B",
           "#00cc96",
           "#ab63fa",
           "#FFA15A",
           "#19d3f3",
           "#FF6692",
           "#B6E880",
           "#FF97FF",
           "#FECB52"
          ],
          "font": {
           "color": "#2a3f5f"
          },
          "geo": {
           "bgcolor": "white",
           "lakecolor": "white",
           "landcolor": "#E5ECF6",
           "showlakes": true,
           "showland": true,
           "subunitcolor": "white"
          },
          "hoverlabel": {
           "align": "left"
          },
          "hovermode": "closest",
          "mapbox": {
           "style": "light"
          },
          "paper_bgcolor": "white",
          "plot_bgcolor": "#E5ECF6",
          "polar": {
           "angularaxis": {
            "gridcolor": "white",
            "linecolor": "white",
            "ticks": ""
           },
           "bgcolor": "#E5ECF6",
           "radialaxis": {
            "gridcolor": "white",
            "linecolor": "white",
            "ticks": ""
           }
          },
          "scene": {
           "xaxis": {
            "backgroundcolor": "#E5ECF6",
            "gridcolor": "white",
            "gridwidth": 2,
            "linecolor": "white",
            "showbackground": true,
            "ticks": "",
            "zerolinecolor": "white"
           },
           "yaxis": {
            "backgroundcolor": "#E5ECF6",
            "gridcolor": "white",
            "gridwidth": 2,
            "linecolor": "white",
            "showbackground": true,
            "ticks": "",
            "zerolinecolor": "white"
           },
           "zaxis": {
            "backgroundcolor": "#E5ECF6",
            "gridcolor": "white",
            "gridwidth": 2,
            "linecolor": "white",
            "showbackground": true,
            "ticks": "",
            "zerolinecolor": "white"
           }
          },
          "shapedefaults": {
           "line": {
            "color": "#2a3f5f"
           }
          },
          "ternary": {
           "aaxis": {
            "gridcolor": "white",
            "linecolor": "white",
            "ticks": ""
           },
           "baxis": {
            "gridcolor": "white",
            "linecolor": "white",
            "ticks": ""
           },
           "bgcolor": "#E5ECF6",
           "caxis": {
            "gridcolor": "white",
            "linecolor": "white",
            "ticks": ""
           }
          },
          "title": {
           "x": 0.05
          },
          "xaxis": {
           "automargin": true,
           "gridcolor": "white",
           "linecolor": "white",
           "ticks": "",
           "title": {
            "standoff": 15
           },
           "zerolinecolor": "white",
           "zerolinewidth": 2
          },
          "yaxis": {
           "automargin": true,
           "gridcolor": "white",
           "linecolor": "white",
           "ticks": "",
           "title": {
            "standoff": 15
           },
           "zerolinecolor": "white",
           "zerolinewidth": 2
          }
         }
        },
        "title": {
         "text": "Epidémie Corona Virus"
        },
        "xaxis": {
         "range": [
          "2020-01-22",
          "2020-03-05"
         ]
        }
       }
      },
      "text/html": [
       "<div>\n",
       "        \n",
       "        \n",
       "            <div id=\"42eff874-d68b-4307-98d4-1af2939e88d1\" class=\"plotly-graph-div\" style=\"height:525px; width:100%;\"></div>\n",
       "            <script type=\"text/javascript\">\n",
       "                require([\"plotly\"], function(Plotly) {\n",
       "                    window.PLOTLYENV=window.PLOTLYENV || {};\n",
       "                    \n",
       "                if (document.getElementById(\"42eff874-d68b-4307-98d4-1af2939e88d1\")) {\n",
       "                    Plotly.newPlot(\n",
       "                        '42eff874-d68b-4307-98d4-1af2939e88d1',\n",
       "                        [{\"name\": \"Confirm\\u00e9s/France\", \"type\": \"scatter\", \"x\": [\"2020-02-26\", \"2020-02-27\", \"2020-02-15\", \"2020-02-15\", \"2020-03-10\", \"2020-03-11\", \"2020-03-11\", \"2020-03-11\", \"2020-02-12\", \"2020-02-12\", \"2020-03-07\", \"2020-03-06\", \"2020-02-01\", \"2020-02-01\", \"2020-02-08\", \"2020-02-08\", \"2020-03-01\", \"2020-02-01\", \"2020-02-01\", \"2020-01-31\", \"2020-01-30\", \"2020-02-15\", \"2020-02-15\", \"2020-03-17\", \"2020-03-17\", \"2020-03-17\", \"2020-03-17\", \"2020-03-15\", \"2020-03-16\", \"2020-03-14\", \"2020-03-16\", \"2020-03-16\", \"2020-03-16\", \"2020-03-15\", \"2020-03-16\", \"2020-03-16\", \"2020-03-14\", \"2020-03-16\", \"2020-02-15\", \"2020-02-12\", \"2020-01-26\", \"2020-01-27\", \"2020-03-04\", \"2020-03-05\", \"2020-02-01\", \"2020-02-01\", \"2020-03-11\", \"2020-03-11\", \"2020-03-11\", \"2020-03-11\", \"2020-03-11\", \"2020-03-11\", \"2020-03-11\", \"2020-02-08\", \"2020-02-08\", \"2020-02-25\", \"2020-02-15\", \"2020-03-19\", \"2020-03-19\", \"2020-03-19\", \"2020-03-16\", \"2020-03-19\", \"2020-03-18\", \"2020-03-18\", \"2020-03-18\", \"2020-03-18\", \"2020-03-18\", \"2020-03-15\", \"2020-03-16\", \"2020-03-18\", \"2020-03-18\", \"2020-03-18\", \"2020-03-18\", \"2020-03-18\", \"2020-01-28\", \"2020-01-29\", \"2020-02-28\", \"2020-02-29\", \"2020-03-14\", \"2020-03-14\", \"2020-03-14\", \"2020-03-14\", \"2020-03-14\", \"2020-03-15\", \"2020-03-15\", \"2020-03-15\", \"2020-03-14\", \"2020-03-14\", \"2020-03-14\", \"2020-01-25\", \"2020-01-24\", \"2020-02-15\", \"2020-02-15\", \"2020-02-15\", \"2020-02-15\", \"2020-03-20\", \"2020-03-20\", \"2020-03-19\", \"2020-03-16\", \"2020-03-19\", \"2020-03-18\", \"2020-03-18\", \"2020-03-18\", \"2020-03-18\", \"2020-03-21\", \"2020-03-21\", \"2020-03-21\", \"2020-03-19\", \"2020-03-16\", \"2020-03-18\", \"2020-03-18\", \"2020-03-18\", \"2020-03-18\", \"2020-03-03\", \"2020-03-02\", \"2020-02-01\", \"2020-03-09\", \"2020-03-08\"], \"y\": [18.0, 38.0, 12.0, 12.0, 1784.0, 2281.0, 2.0, 1.0, 11.0, 11.0, 949.0, 653.0, 6.0, 6.0, 11.0, 11.0, 130.0, 6.0, 6.0, 5.0, 5.0, 12.0, 12.0, 7652.0, 9.0, 7.0, 6.0, 3.0, 3.0, 2.0, 1.0, 6633.0, 5.0, 3.0, 3.0, 3.0, 2.0, 1.0, 12.0, 11.0, 3.0, 3.0, 285.0, 377.0, 6.0, 6.0, 3661.0, 3.0, 1.0, 2.0, 2281.0, 2.0, 1.0, 11.0, 11.0, 14.0, 12.0, 10871.0, 6.0, 4.0, 3.0, 2.0, 0.0, 0.0, 0.0, 0.0, 9043.0, 3.0, 3.0, 3.0, 0.0, 0.0, 0.0, 0.0, 4.0, 5.0, 57.0, 100.0, 4469.0, 5.0, 3.0, 2.0, 1.0, 4499.0, 7.0, 3.0, 2.0, 1.0, 1.0, 3.0, 2.0, 12.0, 12.0, 12.0, 12.0, 12612.0, 11.0, 4.0, 3.0, 2.0, 0.0, 0.0, 0.0, 0.0, 14282.0, 15.0, 4.0, 4.0, 3.0, 0.0, 0.0, 0.0, 0.0, 204.0, 191.0, 6.0, 1209.0, 1126.0]}, {\"name\": \"Confirm\\u00e9s/Allemagne\", \"type\": \"scatter\", \"x\": [\"2020-02-26\", \"2020-02-27\", \"2020-02-18\", \"2020-02-18\", \"2020-03-10\", \"2020-03-11\", \"2020-02-11\", \"2020-02-13\", \"2020-03-07\", \"2020-03-06\", \"2020-02-03\", \"2020-02-03\", \"2020-02-07\", \"2020-02-09\", \"2020-03-01\", \"2020-02-02\", \"2020-02-03\", \"2020-01-31\", \"2020-01-30\", \"2020-02-21\", \"2020-02-18\", \"2020-03-17\", \"2020-03-16\", \"2020-02-13\", \"2020-02-13\", \"2020-03-04\", \"2020-03-05\", \"2020-02-03\", \"2020-02-07\", \"2020-03-11\", \"2020-03-12\", \"2020-02-11\", \"2020-02-09\", \"2020-02-25\", \"2020-02-21\", \"2020-03-19\", \"2020-03-18\", \"2020-01-28\", \"2020-01-29\", \"2020-02-28\", \"2020-02-29\", \"2020-03-14\", \"2020-03-15\", \"2020-02-13\", \"2020-02-13\", \"2020-02-21\", \"2020-02-21\", \"2020-03-20\", \"2020-03-21\", \"2020-03-03\", \"2020-03-02\", \"2020-02-01\", \"2020-03-09\", \"2020-03-08\"], \"y\": [27.0, 46.0, 16.0, 16.0, 1457.0, 1908.0, 16.0, 16.0, 799.0, 670.0, 12.0, 12.0, 13.0, 14.0, 130.0, 10.0, 12.0, 5.0, 4.0, 16.0, 16.0, 9257.0, 7272.0, 16.0, 16.0, 262.0, 482.0, 12.0, 13.0, 3675.0, 2078.0, 16.0, 14.0, 17.0, 16.0, 15320.0, 12327.0, 4.0, 4.0, 48.0, 79.0, 4585.0, 5795.0, 16.0, 16.0, 16.0, 16.0, 19848.0, 22213.0, 196.0, 159.0, 8.0, 1176.0, 1040.0]}],\n",
       "                        {\"template\": {\"data\": {\"bar\": [{\"error_x\": {\"color\": \"#2a3f5f\"}, \"error_y\": {\"color\": \"#2a3f5f\"}, \"marker\": {\"line\": {\"color\": \"#E5ECF6\", \"width\": 0.5}}, \"type\": \"bar\"}], \"barpolar\": [{\"marker\": {\"line\": {\"color\": \"#E5ECF6\", \"width\": 0.5}}, \"type\": \"barpolar\"}], \"carpet\": [{\"aaxis\": {\"endlinecolor\": \"#2a3f5f\", \"gridcolor\": \"white\", \"linecolor\": \"white\", \"minorgridcolor\": \"white\", \"startlinecolor\": \"#2a3f5f\"}, \"baxis\": {\"endlinecolor\": \"#2a3f5f\", \"gridcolor\": \"white\", \"linecolor\": \"white\", \"minorgridcolor\": \"white\", \"startlinecolor\": \"#2a3f5f\"}, \"type\": \"carpet\"}], \"choropleth\": [{\"colorbar\": {\"outlinewidth\": 0, \"ticks\": \"\"}, \"type\": \"choropleth\"}], \"contour\": [{\"colorbar\": {\"outlinewidth\": 0, \"ticks\": \"\"}, \"colorscale\": [[0.0, \"#0d0887\"], [0.1111111111111111, \"#46039f\"], [0.2222222222222222, \"#7201a8\"], [0.3333333333333333, \"#9c179e\"], [0.4444444444444444, \"#bd3786\"], [0.5555555555555556, \"#d8576b\"], [0.6666666666666666, \"#ed7953\"], [0.7777777777777778, \"#fb9f3a\"], [0.8888888888888888, \"#fdca26\"], [1.0, \"#f0f921\"]], \"type\": \"contour\"}], \"contourcarpet\": [{\"colorbar\": {\"outlinewidth\": 0, \"ticks\": \"\"}, \"type\": \"contourcarpet\"}], \"heatmap\": [{\"colorbar\": {\"outlinewidth\": 0, \"ticks\": \"\"}, \"colorscale\": [[0.0, \"#0d0887\"], [0.1111111111111111, \"#46039f\"], [0.2222222222222222, \"#7201a8\"], [0.3333333333333333, \"#9c179e\"], [0.4444444444444444, \"#bd3786\"], [0.5555555555555556, \"#d8576b\"], [0.6666666666666666, \"#ed7953\"], [0.7777777777777778, \"#fb9f3a\"], [0.8888888888888888, \"#fdca26\"], [1.0, \"#f0f921\"]], \"type\": \"heatmap\"}], \"heatmapgl\": [{\"colorbar\": {\"outlinewidth\": 0, \"ticks\": \"\"}, \"colorscale\": [[0.0, \"#0d0887\"], [0.1111111111111111, \"#46039f\"], [0.2222222222222222, \"#7201a8\"], [0.3333333333333333, \"#9c179e\"], [0.4444444444444444, \"#bd3786\"], [0.5555555555555556, \"#d8576b\"], [0.6666666666666666, \"#ed7953\"], [0.7777777777777778, \"#fb9f3a\"], [0.8888888888888888, \"#fdca26\"], [1.0, \"#f0f921\"]], \"type\": \"heatmapgl\"}], \"histogram\": [{\"marker\": {\"colorbar\": {\"outlinewidth\": 0, \"ticks\": \"\"}}, \"type\": \"histogram\"}], \"histogram2d\": [{\"colorbar\": {\"outlinewidth\": 0, \"ticks\": \"\"}, \"colorscale\": [[0.0, \"#0d0887\"], [0.1111111111111111, \"#46039f\"], [0.2222222222222222, \"#7201a8\"], [0.3333333333333333, \"#9c179e\"], [0.4444444444444444, \"#bd3786\"], [0.5555555555555556, \"#d8576b\"], [0.6666666666666666, \"#ed7953\"], [0.7777777777777778, \"#fb9f3a\"], [0.8888888888888888, \"#fdca26\"], [1.0, \"#f0f921\"]], \"type\": \"histogram2d\"}], \"histogram2dcontour\": [{\"colorbar\": {\"outlinewidth\": 0, \"ticks\": \"\"}, \"colorscale\": [[0.0, \"#0d0887\"], [0.1111111111111111, \"#46039f\"], [0.2222222222222222, \"#7201a8\"], [0.3333333333333333, \"#9c179e\"], [0.4444444444444444, \"#bd3786\"], [0.5555555555555556, \"#d8576b\"], [0.6666666666666666, \"#ed7953\"], [0.7777777777777778, \"#fb9f3a\"], [0.8888888888888888, \"#fdca26\"], [1.0, \"#f0f921\"]], \"type\": \"histogram2dcontour\"}], \"mesh3d\": [{\"colorbar\": {\"outlinewidth\": 0, \"ticks\": \"\"}, \"type\": \"mesh3d\"}], \"parcoords\": [{\"line\": {\"colorbar\": {\"outlinewidth\": 0, \"ticks\": \"\"}}, \"type\": \"parcoords\"}], \"pie\": [{\"automargin\": true, \"type\": \"pie\"}], \"scatter\": [{\"marker\": {\"colorbar\": {\"outlinewidth\": 0, \"ticks\": \"\"}}, \"type\": \"scatter\"}], \"scatter3d\": [{\"line\": {\"colorbar\": {\"outlinewidth\": 0, \"ticks\": \"\"}}, \"marker\": {\"colorbar\": {\"outlinewidth\": 0, \"ticks\": \"\"}}, \"type\": \"scatter3d\"}], \"scattercarpet\": [{\"marker\": {\"colorbar\": {\"outlinewidth\": 0, \"ticks\": \"\"}}, \"type\": \"scattercarpet\"}], \"scattergeo\": [{\"marker\": {\"colorbar\": {\"outlinewidth\": 0, \"ticks\": \"\"}}, \"type\": \"scattergeo\"}], \"scattergl\": [{\"marker\": {\"colorbar\": {\"outlinewidth\": 0, \"ticks\": \"\"}}, \"type\": \"scattergl\"}], \"scattermapbox\": [{\"marker\": {\"colorbar\": {\"outlinewidth\": 0, \"ticks\": \"\"}}, \"type\": \"scattermapbox\"}], \"scatterpolar\": [{\"marker\": {\"colorbar\": {\"outlinewidth\": 0, \"ticks\": \"\"}}, \"type\": \"scatterpolar\"}], \"scatterpolargl\": [{\"marker\": {\"colorbar\": {\"outlinewidth\": 0, \"ticks\": \"\"}}, \"type\": \"scatterpolargl\"}], \"scatterternary\": [{\"marker\": {\"colorbar\": {\"outlinewidth\": 0, \"ticks\": \"\"}}, \"type\": \"scatterternary\"}], \"surface\": [{\"colorbar\": {\"outlinewidth\": 0, \"ticks\": \"\"}, \"colorscale\": [[0.0, \"#0d0887\"], [0.1111111111111111, \"#46039f\"], [0.2222222222222222, \"#7201a8\"], [0.3333333333333333, \"#9c179e\"], [0.4444444444444444, \"#bd3786\"], [0.5555555555555556, \"#d8576b\"], [0.6666666666666666, \"#ed7953\"], [0.7777777777777778, \"#fb9f3a\"], [0.8888888888888888, \"#fdca26\"], [1.0, \"#f0f921\"]], \"type\": \"surface\"}], \"table\": [{\"cells\": {\"fill\": {\"color\": \"#EBF0F8\"}, \"line\": {\"color\": \"white\"}}, \"header\": {\"fill\": {\"color\": \"#C8D4E3\"}, \"line\": {\"color\": \"white\"}}, \"type\": \"table\"}]}, \"layout\": {\"annotationdefaults\": {\"arrowcolor\": \"#2a3f5f\", \"arrowhead\": 0, \"arrowwidth\": 1}, \"coloraxis\": {\"colorbar\": {\"outlinewidth\": 0, \"ticks\": \"\"}}, \"colorscale\": {\"diverging\": [[0, \"#8e0152\"], [0.1, \"#c51b7d\"], [0.2, \"#de77ae\"], [0.3, \"#f1b6da\"], [0.4, \"#fde0ef\"], [0.5, \"#f7f7f7\"], [0.6, \"#e6f5d0\"], [0.7, \"#b8e186\"], [0.8, \"#7fbc41\"], [0.9, \"#4d9221\"], [1, \"#276419\"]], \"sequential\": [[0.0, \"#0d0887\"], [0.1111111111111111, \"#46039f\"], [0.2222222222222222, \"#7201a8\"], [0.3333333333333333, \"#9c179e\"], [0.4444444444444444, \"#bd3786\"], [0.5555555555555556, \"#d8576b\"], [0.6666666666666666, \"#ed7953\"], [0.7777777777777778, \"#fb9f3a\"], [0.8888888888888888, \"#fdca26\"], [1.0, \"#f0f921\"]], \"sequentialminus\": [[0.0, \"#0d0887\"], [0.1111111111111111, \"#46039f\"], [0.2222222222222222, \"#7201a8\"], [0.3333333333333333, \"#9c179e\"], [0.4444444444444444, \"#bd3786\"], [0.5555555555555556, \"#d8576b\"], [0.6666666666666666, \"#ed7953\"], [0.7777777777777778, \"#fb9f3a\"], [0.8888888888888888, \"#fdca26\"], [1.0, \"#f0f921\"]]}, \"colorway\": [\"#636efa\", \"#EF553B\", \"#00cc96\", \"#ab63fa\", \"#FFA15A\", \"#19d3f3\", \"#FF6692\", \"#B6E880\", \"#FF97FF\", \"#FECB52\"], \"font\": {\"color\": \"#2a3f5f\"}, \"geo\": {\"bgcolor\": \"white\", \"lakecolor\": \"white\", \"landcolor\": \"#E5ECF6\", \"showlakes\": true, \"showland\": true, \"subunitcolor\": \"white\"}, \"hoverlabel\": {\"align\": \"left\"}, \"hovermode\": \"closest\", \"mapbox\": {\"style\": \"light\"}, \"paper_bgcolor\": \"white\", \"plot_bgcolor\": \"#E5ECF6\", \"polar\": {\"angularaxis\": {\"gridcolor\": \"white\", \"linecolor\": \"white\", \"ticks\": \"\"}, \"bgcolor\": \"#E5ECF6\", \"radialaxis\": {\"gridcolor\": \"white\", \"linecolor\": \"white\", \"ticks\": \"\"}}, \"scene\": {\"xaxis\": {\"backgroundcolor\": \"#E5ECF6\", \"gridcolor\": \"white\", \"gridwidth\": 2, \"linecolor\": \"white\", \"showbackground\": true, \"ticks\": \"\", \"zerolinecolor\": \"white\"}, \"yaxis\": {\"backgroundcolor\": \"#E5ECF6\", \"gridcolor\": \"white\", \"gridwidth\": 2, \"linecolor\": \"white\", \"showbackground\": true, \"ticks\": \"\", \"zerolinecolor\": \"white\"}, \"zaxis\": {\"backgroundcolor\": \"#E5ECF6\", \"gridcolor\": \"white\", \"gridwidth\": 2, \"linecolor\": \"white\", \"showbackground\": true, \"ticks\": \"\", \"zerolinecolor\": \"white\"}}, \"shapedefaults\": {\"line\": {\"color\": \"#2a3f5f\"}}, \"ternary\": {\"aaxis\": {\"gridcolor\": \"white\", \"linecolor\": \"white\", \"ticks\": \"\"}, \"baxis\": {\"gridcolor\": \"white\", \"linecolor\": \"white\", \"ticks\": \"\"}, \"bgcolor\": \"#E5ECF6\", \"caxis\": {\"gridcolor\": \"white\", \"linecolor\": \"white\", \"ticks\": \"\"}}, \"title\": {\"x\": 0.05}, \"xaxis\": {\"automargin\": true, \"gridcolor\": \"white\", \"linecolor\": \"white\", \"ticks\": \"\", \"title\": {\"standoff\": 15}, \"zerolinecolor\": \"white\", \"zerolinewidth\": 2}, \"yaxis\": {\"automargin\": true, \"gridcolor\": \"white\", \"linecolor\": \"white\", \"ticks\": \"\", \"title\": {\"standoff\": 15}, \"zerolinecolor\": \"white\", \"zerolinewidth\": 2}}}, \"title\": {\"text\": \"Epid\\u00e9mie Corona Virus\"}, \"xaxis\": {\"range\": [\"2020-01-22\", \"2020-03-05\"]}},\n",
       "                        {\"responsive\": true}\n",
       "                    ).then(function(){\n",
       "                            \n",
       "var gd = document.getElementById('42eff874-d68b-4307-98d4-1af2939e88d1');\n",
       "var x = new MutationObserver(function (mutations, observer) {{\n",
       "        var display = window.getComputedStyle(gd).display;\n",
       "        if (!display || display === 'none') {{\n",
       "            console.log([gd, 'removed!']);\n",
       "            Plotly.purge(gd);\n",
       "            observer.disconnect();\n",
       "        }}\n",
       "}});\n",
       "\n",
       "// Listen for the removal of the full notebook cells\n",
       "var notebookContainer = gd.closest('#notebook-container');\n",
       "if (notebookContainer) {{\n",
       "    x.observe(notebookContainer, {childList: true});\n",
       "}}\n",
       "\n",
       "// Listen for the clearing of the current output cell\n",
       "var outputEl = gd.closest('.output');\n",
       "if (outputEl) {{\n",
       "    x.observe(outputEl, {childList: true});\n",
       "}}\n",
       "\n",
       "                        })\n",
       "                };\n",
       "                });\n",
       "            </script>\n",
       "        </div>"
      ]
     },
     "metadata": {},
     "output_type": "display_data"
    }
   ],
   "source": [
    "data = [go.Scatter(x=france_df['day'],\n",
    "                   y=france_df['Confirmed'],\n",
    "                   name='Confirmés/France'\n",
    "                  ),\n",
    "        go.Scatter(x=epidemie_df[epidemie_df['Country/Region'] == 'Germany']['day'],\n",
    "                   y=epidemie_df[epidemie_df['Country/Region'] == 'Germany']['Confirmed'],\n",
    "                   name='Confirmés/Allemagne'\n",
    "                  )\n",
    "       ]\n",
    "\n",
    "layout = dict(\n",
    "    title = \"Epidémie Corona Virus\",\n",
    "    xaxis = dict(range = ['2020-01-22', '2020-03-05'])\n",
    ")\n",
    "\n",
    "fig = dict(data=data, layout=layout)\n",
    "py.iplot(fig)"
   ]
  },
  {
   "cell_type": "code",
   "execution_count": 94,
   "metadata": {},
   "outputs": [],
   "source": [
    "import yaml\n",
    "\n",
    "ENV_FILE = \"/Users/EnzoButhiot/Documents/corona/env.yaml\"\n",
    "with open(ENV_FILE) as f: \n",
    "    params=yaml.load(f, Loader=yaml.FullLoader)"
   ]
  },
  {
   "cell_type": "code",
   "execution_count": 95,
   "metadata": {},
   "outputs": [
    {
     "data": {
      "text/plain": [
       "{'directories': {'processed': '/Users/EnzoButhiot/Documents/AMSE/MAG3/S2/Projet_mignot/corona/data/processed/',\n",
       "  'raw': '/Users/EnzoButhiot/Documents/AMSE/MAG3/S2/Projet_mignot/corona/data/raw'},\n",
       " 'files': {'all_data': 'all_data.csv'}}"
      ]
     },
     "execution_count": 95,
     "metadata": {},
     "output_type": "execute_result"
    }
   ],
   "source": [
    "params"
   ]
  },
  {
   "cell_type": "code",
   "execution_count": 96,
   "metadata": {},
   "outputs": [
    {
     "data": {
      "text/plain": [
       "'/Users/EnzoButhiot/Documents/corona/env.yaml'"
      ]
     },
     "execution_count": 96,
     "metadata": {},
     "output_type": "execute_result"
    }
   ],
   "source": [
    "os.path.abspath(ENV_FILE)"
   ]
  },
  {
   "cell_type": "code",
   "execution_count": 97,
   "metadata": {},
   "outputs": [
    {
     "data": {
      "text/plain": [
       "'/Users/EnzoButhiot/Documents/corona'"
      ]
     },
     "execution_count": 97,
     "metadata": {},
     "output_type": "execute_result"
    }
   ],
   "source": [
    "os.path.dirname(os.path.abspath(ENV_FILE))"
   ]
  },
  {
   "cell_type": "code",
   "execution_count": 98,
   "metadata": {},
   "outputs": [
    {
     "data": {
      "text/html": [
       "<div>\n",
       "<style scoped>\n",
       "    .dataframe tbody tr th:only-of-type {\n",
       "        vertical-align: middle;\n",
       "    }\n",
       "\n",
       "    .dataframe tbody tr th {\n",
       "        vertical-align: top;\n",
       "    }\n",
       "\n",
       "    .dataframe thead th {\n",
       "        text-align: right;\n",
       "    }\n",
       "</style>\n",
       "<table border=\"1\" class=\"dataframe\">\n",
       "  <thead>\n",
       "    <tr style=\"text-align: right;\">\n",
       "      <th></th>\n",
       "      <th>Province/State</th>\n",
       "      <th>Country/Region</th>\n",
       "      <th>Last Update</th>\n",
       "      <th>Confirmed</th>\n",
       "      <th>Deaths</th>\n",
       "      <th>Recovered</th>\n",
       "      <th>Latitude</th>\n",
       "      <th>Longitude</th>\n",
       "      <th>source</th>\n",
       "      <th>day</th>\n",
       "    </tr>\n",
       "  </thead>\n",
       "  <tbody>\n",
       "    <tr>\n",
       "      <th>369</th>\n",
       "      <td>Jiangxi</td>\n",
       "      <td>Mainland China</td>\n",
       "      <td>2020-03-10 01:33:02</td>\n",
       "      <td>935.0</td>\n",
       "      <td>1.0</td>\n",
       "      <td>927.0</td>\n",
       "      <td>27.6140</td>\n",
       "      <td>115.7221</td>\n",
       "      <td>03-10-2020.csv</td>\n",
       "      <td>2020-03-10</td>\n",
       "    </tr>\n",
       "    <tr>\n",
       "      <th>370</th>\n",
       "      <td>Shandong</td>\n",
       "      <td>Mainland China</td>\n",
       "      <td>2020-03-10 07:33:03</td>\n",
       "      <td>758.0</td>\n",
       "      <td>6.0</td>\n",
       "      <td>719.0</td>\n",
       "      <td>36.3427</td>\n",
       "      <td>118.1498</td>\n",
       "      <td>03-10-2020.csv</td>\n",
       "      <td>2020-03-10</td>\n",
       "    </tr>\n",
       "    <tr>\n",
       "      <th>372</th>\n",
       "      <td>Jiangsu</td>\n",
       "      <td>Mainland China</td>\n",
       "      <td>2020-03-10 08:13:08</td>\n",
       "      <td>631.0</td>\n",
       "      <td>0.0</td>\n",
       "      <td>627.0</td>\n",
       "      <td>32.9711</td>\n",
       "      <td>119.4550</td>\n",
       "      <td>03-10-2020.csv</td>\n",
       "      <td>2020-03-10</td>\n",
       "    </tr>\n",
       "    <tr>\n",
       "      <th>374</th>\n",
       "      <td>Chongqing</td>\n",
       "      <td>Mainland China</td>\n",
       "      <td>2020-03-10 23:53:02</td>\n",
       "      <td>576.0</td>\n",
       "      <td>6.0</td>\n",
       "      <td>547.0</td>\n",
       "      <td>30.0572</td>\n",
       "      <td>107.8740</td>\n",
       "      <td>03-10-2020.csv</td>\n",
       "      <td>2020-03-10</td>\n",
       "    </tr>\n",
       "    <tr>\n",
       "      <th>377</th>\n",
       "      <td>Heilongjiang</td>\n",
       "      <td>Mainland China</td>\n",
       "      <td>2020-03-10 00:13:18</td>\n",
       "      <td>481.0</td>\n",
       "      <td>13.0</td>\n",
       "      <td>434.0</td>\n",
       "      <td>47.8620</td>\n",
       "      <td>127.7615</td>\n",
       "      <td>03-10-2020.csv</td>\n",
       "      <td>2020-03-10</td>\n",
       "    </tr>\n",
       "    <tr>\n",
       "      <th>401</th>\n",
       "      <td>Gansu</td>\n",
       "      <td>Mainland China</td>\n",
       "      <td>2020-03-10 14:33:13</td>\n",
       "      <td>125.0</td>\n",
       "      <td>2.0</td>\n",
       "      <td>88.0</td>\n",
       "      <td>36.0611</td>\n",
       "      <td>103.8343</td>\n",
       "      <td>03-10-2020.csv</td>\n",
       "      <td>2020-03-10</td>\n",
       "    </tr>\n",
       "    <tr>\n",
       "      <th>383</th>\n",
       "      <td>Shanghai</td>\n",
       "      <td>Mainland China</td>\n",
       "      <td>2020-03-10 06:13:14</td>\n",
       "      <td>344.0</td>\n",
       "      <td>3.0</td>\n",
       "      <td>319.0</td>\n",
       "      <td>31.2020</td>\n",
       "      <td>121.4491</td>\n",
       "      <td>03-10-2020.csv</td>\n",
       "      <td>2020-03-10</td>\n",
       "    </tr>\n",
       "    <tr>\n",
       "      <th>389</th>\n",
       "      <td>Guangxi</td>\n",
       "      <td>Mainland China</td>\n",
       "      <td>2020-03-10 00:53:02</td>\n",
       "      <td>252.0</td>\n",
       "      <td>2.0</td>\n",
       "      <td>234.0</td>\n",
       "      <td>23.8298</td>\n",
       "      <td>108.7881</td>\n",
       "      <td>03-10-2020.csv</td>\n",
       "      <td>2020-03-10</td>\n",
       "    </tr>\n",
       "    <tr>\n",
       "      <th>390</th>\n",
       "      <td>Shaanxi</td>\n",
       "      <td>Mainland China</td>\n",
       "      <td>2020-03-10 08:53:02</td>\n",
       "      <td>245.0</td>\n",
       "      <td>1.0</td>\n",
       "      <td>227.0</td>\n",
       "      <td>35.1917</td>\n",
       "      <td>108.8701</td>\n",
       "      <td>03-10-2020.csv</td>\n",
       "      <td>2020-03-10</td>\n",
       "    </tr>\n",
       "    <tr>\n",
       "      <th>396</th>\n",
       "      <td>Guizhou</td>\n",
       "      <td>Mainland China</td>\n",
       "      <td>2020-03-10 01:13:07</td>\n",
       "      <td>146.0</td>\n",
       "      <td>2.0</td>\n",
       "      <td>129.0</td>\n",
       "      <td>26.8154</td>\n",
       "      <td>106.8748</td>\n",
       "      <td>03-10-2020.csv</td>\n",
       "      <td>2020-03-10</td>\n",
       "    </tr>\n",
       "    <tr>\n",
       "      <th>398</th>\n",
       "      <td>Tianjin</td>\n",
       "      <td>Mainland China</td>\n",
       "      <td>2020-03-10 10:13:25</td>\n",
       "      <td>136.0</td>\n",
       "      <td>3.0</td>\n",
       "      <td>131.0</td>\n",
       "      <td>39.3054</td>\n",
       "      <td>117.3230</td>\n",
       "      <td>03-10-2020.csv</td>\n",
       "      <td>2020-03-10</td>\n",
       "    </tr>\n",
       "    <tr>\n",
       "      <th>399</th>\n",
       "      <td>Shanxi</td>\n",
       "      <td>Mainland China</td>\n",
       "      <td>2020-03-10 23:53:02</td>\n",
       "      <td>133.0</td>\n",
       "      <td>0.0</td>\n",
       "      <td>131.0</td>\n",
       "      <td>37.5777</td>\n",
       "      <td>112.2922</td>\n",
       "      <td>03-10-2020.csv</td>\n",
       "      <td>2020-03-10</td>\n",
       "    </tr>\n",
       "    <tr>\n",
       "      <th>402</th>\n",
       "      <td>Liaoning</td>\n",
       "      <td>Mainland China</td>\n",
       "      <td>2020-03-10 04:13:09</td>\n",
       "      <td>125.0</td>\n",
       "      <td>1.0</td>\n",
       "      <td>111.0</td>\n",
       "      <td>41.2956</td>\n",
       "      <td>122.6085</td>\n",
       "      <td>03-10-2020.csv</td>\n",
       "      <td>2020-03-10</td>\n",
       "    </tr>\n",
       "    <tr>\n",
       "      <th>357</th>\n",
       "      <td>Hubei</td>\n",
       "      <td>Mainland China</td>\n",
       "      <td>2020-03-10 15:13:05</td>\n",
       "      <td>67760.0</td>\n",
       "      <td>3024.0</td>\n",
       "      <td>47743.0</td>\n",
       "      <td>30.9756</td>\n",
       "      <td>112.2707</td>\n",
       "      <td>03-10-2020.csv</td>\n",
       "      <td>2020-03-10</td>\n",
       "    </tr>\n",
       "    <tr>\n",
       "      <th>378</th>\n",
       "      <td>Beijing</td>\n",
       "      <td>Mainland China</td>\n",
       "      <td>2020-03-10 01:13:07</td>\n",
       "      <td>429.0</td>\n",
       "      <td>8.0</td>\n",
       "      <td>320.0</td>\n",
       "      <td>40.1824</td>\n",
       "      <td>116.4142</td>\n",
       "      <td>03-10-2020.csv</td>\n",
       "      <td>2020-03-10</td>\n",
       "    </tr>\n",
       "    <tr>\n",
       "      <th>364</th>\n",
       "      <td>Guangdong</td>\n",
       "      <td>Mainland China</td>\n",
       "      <td>2020-03-10 09:13:07</td>\n",
       "      <td>1353.0</td>\n",
       "      <td>8.0</td>\n",
       "      <td>1274.0</td>\n",
       "      <td>23.3417</td>\n",
       "      <td>113.4244</td>\n",
       "      <td>03-10-2020.csv</td>\n",
       "      <td>2020-03-10</td>\n",
       "    </tr>\n",
       "    <tr>\n",
       "      <th>3888</th>\n",
       "      <td>Gansu</td>\n",
       "      <td>Mainland China</td>\n",
       "      <td>2020-03-11 02:18:28</td>\n",
       "      <td>0.0</td>\n",
       "      <td>0.0</td>\n",
       "      <td>0.0</td>\n",
       "      <td>36.0611</td>\n",
       "      <td>103.8343</td>\n",
       "      <td>03-12-2020.csv</td>\n",
       "      <td>2020-03-11</td>\n",
       "    </tr>\n",
       "    <tr>\n",
       "      <th>3889</th>\n",
       "      <td>Hebei</td>\n",
       "      <td>Mainland China</td>\n",
       "      <td>2020-03-11 02:18:29</td>\n",
       "      <td>0.0</td>\n",
       "      <td>0.0</td>\n",
       "      <td>0.0</td>\n",
       "      <td>38.0428</td>\n",
       "      <td>114.5149</td>\n",
       "      <td>03-12-2020.csv</td>\n",
       "      <td>2020-03-11</td>\n",
       "    </tr>\n",
       "    <tr>\n",
       "      <th>769</th>\n",
       "      <td>Gansu</td>\n",
       "      <td>Mainland China</td>\n",
       "      <td>2020-03-11 02:18:28</td>\n",
       "      <td>0.0</td>\n",
       "      <td>0.0</td>\n",
       "      <td>0.0</td>\n",
       "      <td>36.0611</td>\n",
       "      <td>103.8343</td>\n",
       "      <td>03-11-2020.csv</td>\n",
       "      <td>2020-03-11</td>\n",
       "    </tr>\n",
       "    <tr>\n",
       "      <th>770</th>\n",
       "      <td>Hebei</td>\n",
       "      <td>Mainland China</td>\n",
       "      <td>2020-03-11 02:18:29</td>\n",
       "      <td>0.0</td>\n",
       "      <td>0.0</td>\n",
       "      <td>0.0</td>\n",
       "      <td>38.0428</td>\n",
       "      <td>114.5149</td>\n",
       "      <td>03-11-2020.csv</td>\n",
       "      <td>2020-03-11</td>\n",
       "    </tr>\n",
       "  </tbody>\n",
       "</table>\n",
       "</div>"
      ],
      "text/plain": [
       "     Province/State  Country/Region         Last Update  Confirmed  Deaths  \\\n",
       "369         Jiangxi  Mainland China 2020-03-10 01:33:02      935.0     1.0   \n",
       "370        Shandong  Mainland China 2020-03-10 07:33:03      758.0     6.0   \n",
       "372         Jiangsu  Mainland China 2020-03-10 08:13:08      631.0     0.0   \n",
       "374       Chongqing  Mainland China 2020-03-10 23:53:02      576.0     6.0   \n",
       "377    Heilongjiang  Mainland China 2020-03-10 00:13:18      481.0    13.0   \n",
       "401           Gansu  Mainland China 2020-03-10 14:33:13      125.0     2.0   \n",
       "383        Shanghai  Mainland China 2020-03-10 06:13:14      344.0     3.0   \n",
       "389         Guangxi  Mainland China 2020-03-10 00:53:02      252.0     2.0   \n",
       "390         Shaanxi  Mainland China 2020-03-10 08:53:02      245.0     1.0   \n",
       "396         Guizhou  Mainland China 2020-03-10 01:13:07      146.0     2.0   \n",
       "398         Tianjin  Mainland China 2020-03-10 10:13:25      136.0     3.0   \n",
       "399          Shanxi  Mainland China 2020-03-10 23:53:02      133.0     0.0   \n",
       "402        Liaoning  Mainland China 2020-03-10 04:13:09      125.0     1.0   \n",
       "357           Hubei  Mainland China 2020-03-10 15:13:05    67760.0  3024.0   \n",
       "378         Beijing  Mainland China 2020-03-10 01:13:07      429.0     8.0   \n",
       "364       Guangdong  Mainland China 2020-03-10 09:13:07     1353.0     8.0   \n",
       "3888          Gansu  Mainland China 2020-03-11 02:18:28        0.0     0.0   \n",
       "3889          Hebei  Mainland China 2020-03-11 02:18:29        0.0     0.0   \n",
       "769           Gansu  Mainland China 2020-03-11 02:18:28        0.0     0.0   \n",
       "770           Hebei  Mainland China 2020-03-11 02:18:29        0.0     0.0   \n",
       "\n",
       "      Recovered  Latitude  Longitude          source         day  \n",
       "369       927.0   27.6140   115.7221  03-10-2020.csv  2020-03-10  \n",
       "370       719.0   36.3427   118.1498  03-10-2020.csv  2020-03-10  \n",
       "372       627.0   32.9711   119.4550  03-10-2020.csv  2020-03-10  \n",
       "374       547.0   30.0572   107.8740  03-10-2020.csv  2020-03-10  \n",
       "377       434.0   47.8620   127.7615  03-10-2020.csv  2020-03-10  \n",
       "401        88.0   36.0611   103.8343  03-10-2020.csv  2020-03-10  \n",
       "383       319.0   31.2020   121.4491  03-10-2020.csv  2020-03-10  \n",
       "389       234.0   23.8298   108.7881  03-10-2020.csv  2020-03-10  \n",
       "390       227.0   35.1917   108.8701  03-10-2020.csv  2020-03-10  \n",
       "396       129.0   26.8154   106.8748  03-10-2020.csv  2020-03-10  \n",
       "398       131.0   39.3054   117.3230  03-10-2020.csv  2020-03-10  \n",
       "399       131.0   37.5777   112.2922  03-10-2020.csv  2020-03-10  \n",
       "402       111.0   41.2956   122.6085  03-10-2020.csv  2020-03-10  \n",
       "357     47743.0   30.9756   112.2707  03-10-2020.csv  2020-03-10  \n",
       "378       320.0   40.1824   116.4142  03-10-2020.csv  2020-03-10  \n",
       "364      1274.0   23.3417   113.4244  03-10-2020.csv  2020-03-10  \n",
       "3888        0.0   36.0611   103.8343  03-12-2020.csv  2020-03-11  \n",
       "3889        0.0   38.0428   114.5149  03-12-2020.csv  2020-03-11  \n",
       "769         0.0   36.0611   103.8343  03-11-2020.csv  2020-03-11  \n",
       "770         0.0   38.0428   114.5149  03-11-2020.csv  2020-03-11  "
      ]
     },
     "execution_count": 98,
     "metadata": {},
     "output_type": "execute_result"
    }
   ],
   "source": [
    "import datetime\n",
    "\n",
    "epidemie_df[epidemie_df['Country/Region'] == 'Mainland China'][lambda df: df.day <= datetime.date(2020, 3, 26)] \\\n",
    ".sort_values('day').tail(20)"
   ]
  },
  {
   "cell_type": "code",
   "execution_count": 99,
   "metadata": {},
   "outputs": [
    {
     "data": {
      "text/plain": [
       "datetime.date(2020, 1, 22)"
      ]
     },
     "execution_count": 99,
     "metadata": {},
     "output_type": "execute_result"
    }
   ],
   "source": [
    "epidemie_df['day'].min()"
   ]
  },
  {
   "cell_type": "code",
   "execution_count": 100,
   "metadata": {},
   "outputs": [
    {
     "data": {
      "text/plain": [
       "datetime.date(2020, 3, 21)"
      ]
     },
     "execution_count": 100,
     "metadata": {},
     "output_type": "execute_result"
    }
   ],
   "source": [
    "epidemie_df['day'].max()"
   ]
  },
  {
   "cell_type": "code",
   "execution_count": 128,
   "metadata": {},
   "outputs": [
    {
     "data": {
      "text/plain": [
       "array([datetime.date(2020, 1, 22), datetime.date(2020, 1, 23),\n",
       "       datetime.date(2020, 1, 24), datetime.date(2020, 1, 25),\n",
       "       datetime.date(2020, 1, 26), datetime.date(2020, 1, 27),\n",
       "       datetime.date(2020, 1, 28), datetime.date(2020, 1, 29),\n",
       "       datetime.date(2020, 1, 30), datetime.date(2020, 1, 31),\n",
       "       datetime.date(2020, 2, 1), datetime.date(2020, 2, 2),\n",
       "       datetime.date(2020, 2, 3), datetime.date(2020, 2, 4),\n",
       "       datetime.date(2020, 2, 5), datetime.date(2020, 2, 6),\n",
       "       datetime.date(2020, 2, 7), datetime.date(2020, 2, 8),\n",
       "       datetime.date(2020, 2, 9), datetime.date(2020, 2, 10),\n",
       "       datetime.date(2020, 2, 11), datetime.date(2020, 2, 12),\n",
       "       datetime.date(2020, 2, 13), datetime.date(2020, 2, 14),\n",
       "       datetime.date(2020, 2, 15), datetime.date(2020, 2, 16),\n",
       "       datetime.date(2020, 2, 17), datetime.date(2020, 2, 18),\n",
       "       datetime.date(2020, 2, 19), datetime.date(2020, 2, 20),\n",
       "       datetime.date(2020, 2, 21), datetime.date(2020, 2, 22),\n",
       "       datetime.date(2020, 2, 23), datetime.date(2020, 2, 24),\n",
       "       datetime.date(2020, 2, 25), datetime.date(2020, 2, 26),\n",
       "       datetime.date(2020, 2, 27), datetime.date(2020, 2, 28),\n",
       "       datetime.date(2020, 2, 29), datetime.date(2020, 3, 1),\n",
       "       datetime.date(2020, 3, 2), datetime.date(2020, 3, 3),\n",
       "       datetime.date(2020, 3, 4), datetime.date(2020, 3, 5),\n",
       "       datetime.date(2020, 3, 6), datetime.date(2020, 3, 7),\n",
       "       datetime.date(2020, 3, 8), datetime.date(2020, 3, 9),\n",
       "       datetime.date(2020, 3, 10), datetime.date(2020, 3, 11),\n",
       "       datetime.date(2020, 3, 12), datetime.date(2020, 3, 13),\n",
       "       datetime.date(2020, 3, 14), datetime.date(2020, 3, 15),\n",
       "       datetime.date(2020, 3, 16), datetime.date(2020, 3, 17),\n",
       "       datetime.date(2020, 3, 18), datetime.date(2020, 3, 19),\n",
       "       datetime.date(2020, 3, 20), datetime.date(2020, 3, 21)],\n",
       "      dtype=object)"
      ]
     },
     "execution_count": 128,
     "metadata": {},
     "output_type": "execute_result"
    }
   ],
   "source": [
    "epidemie_df['day'].unique()"
   ]
  },
  {
   "cell_type": "code",
   "execution_count": 102,
   "metadata": {},
   "outputs": [
    {
     "data": {
      "text/plain": [
       "'2020-01-22'"
      ]
     },
     "execution_count": 102,
     "metadata": {},
     "output_type": "execute_result"
    }
   ],
   "source": [
    "str(epidemie_df['day'].min())"
   ]
  },
  {
   "cell_type": "code",
   "execution_count": 103,
   "metadata": {},
   "outputs": [
    {
     "data": {
      "text/plain": [
       "59"
      ]
     },
     "execution_count": 103,
     "metadata": {},
     "output_type": "execute_result"
    }
   ],
   "source": [
    "(epidemie_df['day'].max() - epidemie_df['day'].min()).days"
   ]
  },
  {
   "cell_type": "code",
   "execution_count": 104,
   "metadata": {},
   "outputs": [
    {
     "data": {
      "text/plain": [
       "{0: '2020-02-26',\n",
       " 1: '2020-02-25',\n",
       " 2: '2020-02-24',\n",
       " 3: '2020-02-21',\n",
       " 4: '2020-02-22',\n",
       " 5: '2020-02-13',\n",
       " 6: '2020-02-16',\n",
       " 7: '2020-02-12',\n",
       " 8: '2020-02-17',\n",
       " 9: '2020-02-09',\n",
       " 10: '2020-02-03',\n",
       " 11: '2020-02-08',\n",
       " 12: '2020-02-01',\n",
       " 13: '2020-02-05',\n",
       " 14: '2020-02-27',\n",
       " 15: '2020-02-18',\n",
       " 16: '2020-02-15',\n",
       " 17: '2020-02-07',\n",
       " 18: '2020-02-04',\n",
       " 19: '2020-02-14',\n",
       " 20: '2020-02-19',\n",
       " 21: '2020-03-10',\n",
       " 22: '2020-03-08',\n",
       " 23: '2020-03-06',\n",
       " 24: '2020-03-07',\n",
       " 25: '2020-03-09',\n",
       " 26: '2020-03-02',\n",
       " 27: '2020-03-01',\n",
       " 28: '2020-03-03',\n",
       " 29: '2020-03-04',\n",
       " 30: '2020-02-28',\n",
       " 31: '2020-02-29',\n",
       " 32: '2020-03-11',\n",
       " 33: '2020-02-11',\n",
       " 34: '2020-02-06',\n",
       " 35: '2020-02-02',\n",
       " 36: '2020-03-05',\n",
       " 37: '2020-01-31',\n",
       " 38: '2020-01-30',\n",
       " 39: '2020-02-20',\n",
       " 40: '2020-03-17',\n",
       " 41: '2020-03-14',\n",
       " 42: '2020-03-12',\n",
       " 43: '2020-03-13',\n",
       " 44: '2020-03-15',\n",
       " 45: '2020-03-16',\n",
       " 46: '2020-01-26',\n",
       " 47: '2020-01-27',\n",
       " 48: '2020-01-22',\n",
       " 49: '2020-01-23',\n",
       " 50: '2020-02-10',\n",
       " 51: '2020-02-23',\n",
       " 52: '2020-03-19',\n",
       " 53: '2020-03-18',\n",
       " 54: '2020-01-28',\n",
       " 55: '2020-01-29',\n",
       " 56: '2020-01-25',\n",
       " 57: '2020-01-24',\n",
       " 58: '2020-03-20',\n",
       " 59: '2020-03-21'}"
      ]
     },
     "execution_count": 104,
     "metadata": {},
     "output_type": "execute_result"
    }
   ],
   "source": [
    "{i:str(date) for i, date in enumerate(epidemie_df['day'].unique())}"
   ]
  },
  {
   "cell_type": "code",
   "execution_count": 58,
   "metadata": {},
   "outputs": [
    {
     "data": {
      "text/plain": [
       "0       Mainland China (65187.0)\n",
       "1        Mainland China (1347.0)\n",
       "2        Mainland China (1271.0)\n",
       "3           South Korea (1261.0)\n",
       "4        Mainland China (1205.0)\n",
       "                  ...           \n",
       "7612             Australia (0.0)\n",
       "7613                    US (0.0)\n",
       "7614                    US (0.0)\n",
       "7615                    US (0.0)\n",
       "7616                    US (0.0)\n",
       "Length: 7617, dtype: object"
      ]
     },
     "execution_count": 58,
     "metadata": {},
     "output_type": "execute_result"
    }
   ],
   "source": [
    "epidemie_df.apply(lambda r: r['Country/Region'] + ' (' + str(r['Confirmed']) + ')', axis=1)"
   ]
  },
  {
   "cell_type": "code",
   "execution_count": null,
   "metadata": {},
   "outputs": [],
   "source": []
  }
 ],
 "metadata": {
  "kernelspec": {
   "display_name": "Projet Corona (Python)",
   "language": "python",
   "name": "corona"
  },
  "language_info": {
   "codemirror_mode": {
    "name": "ipython",
    "version": 3
   },
   "file_extension": ".py",
   "mimetype": "text/x-python",
   "name": "python",
   "nbconvert_exporter": "python",
   "pygments_lexer": "ipython3",
   "version": "3.8.1"
  }
 },
 "nbformat": 4,
 "nbformat_minor": 4
}
